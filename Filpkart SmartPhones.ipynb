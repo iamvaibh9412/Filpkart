{
 "cells": [
  {
   "cell_type": "code",
   "execution_count": 129,
   "id": "a8ee8340",
   "metadata": {},
   "outputs": [],
   "source": [
    "#Iphone\n",
    "from selenium import webdriver\n",
    "from time import sleep\n",
    "import pandas as pd\n",
    "\n",
    "browser = webdriver.Chrome()\n",
    "browser.get('https://www.flipkart.com/search?sid=tyy%2C4io&otracker=CLP_Filters&p%5B%5D=facets.brand%255B%255D%3DApple')\n",
    "\n",
    "EntireData = {\n",
    "    'Name': [],\n",
    "    'ROM': [],\n",
    "    'Display': [],\n",
    "    'Camera': [],\n",
    "    'Discount': [],\n",
    "    'Rating': [],\n",
    "    'Selling Price': [],\n",
    "    'MRP': []\n",
    "}\n",
    "\n",
    "products = browser.find_elements('xpath', \"//div[contains(@class,'cPHDOP col-12-12')]\")\n",
    "\n",
    "for product in products:\n",
    "    # Name\n",
    "    try:\n",
    "        brand = product.find_element('xpath', \".//div[contains(@class,'KzDlHZ')]\")\n",
    "        EntireData['Name'].append(brand.text)\n",
    "    except:\n",
    "        EntireData['Name'].append('')\n",
    "\n",
    "    # ROM, Display, Camera\n",
    "    try:\n",
    "        specs = product.find_elements('xpath', \".//li[contains(@class,'J+igdf')]\")\n",
    "        rom = specs[0].text if len(specs) > 0 else ''\n",
    "        display = specs[1].text if len(specs) > 1 else ''\n",
    "        camera = specs[2].text if len(specs) > 2 else ''\n",
    "        EntireData['ROM'].append(rom)\n",
    "        EntireData['Display'].append(display)\n",
    "        EntireData['Camera'].append(camera)\n",
    "    except:\n",
    "        EntireData['ROM'].append('')\n",
    "        EntireData['Display'].append('')\n",
    "        EntireData['Camera'].append('')\n",
    "\n",
    "    # Discount\n",
    "    try:\n",
    "        discount = product.find_element('xpath', \".//div[contains(@class,'UkUFwK')]\")\n",
    "        EntireData['Discount'].append(discount.text)\n",
    "    except:\n",
    "        EntireData['Discount'].append('')\n",
    "\n",
    "    # Rating\n",
    "    try:\n",
    "        rating = product.find_element('xpath', \".//div[contains(@class,'XQDdHH')]\")\n",
    "        EntireData['Rating'].append(rating.text)\n",
    "    except:\n",
    "        EntireData['Rating'].append('')\n",
    "\n",
    "    # Selling Price\n",
    "    try:\n",
    "        sp = product.find_element('xpath', \".//div[contains(@class,'Nx9bqj _4b5DiR')]\")\n",
    "        EntireData['Selling Price'].append(sp.text)\n",
    "    except:\n",
    "        EntireData['Selling Price'].append('')\n",
    "\n",
    "    # MRP\n",
    "    try:\n",
    "        mrp = product.find_element('xpath', \".//div[contains(@class,'yRaY8j ZYYwLA')]\")\n",
    "        EntireData['MRP'].append(mrp.text)\n",
    "    except:\n",
    "        EntireData['MRP'].append('')\n"
   ]
  },
  {
   "cell_type": "code",
   "execution_count": 130,
   "id": "bbf89091",
   "metadata": {},
   "outputs": [
    {
     "data": {
      "text/html": [
       "<div>\n",
       "<style scoped>\n",
       "    .dataframe tbody tr th:only-of-type {\n",
       "        vertical-align: middle;\n",
       "    }\n",
       "\n",
       "    .dataframe tbody tr th {\n",
       "        vertical-align: top;\n",
       "    }\n",
       "\n",
       "    .dataframe thead th {\n",
       "        text-align: right;\n",
       "    }\n",
       "</style>\n",
       "<table border=\"1\" class=\"dataframe\">\n",
       "  <thead>\n",
       "    <tr style=\"text-align: right;\">\n",
       "      <th></th>\n",
       "      <th>Name</th>\n",
       "      <th>ROM</th>\n",
       "      <th>Display</th>\n",
       "      <th>Camera</th>\n",
       "      <th>Discount</th>\n",
       "      <th>Rating</th>\n",
       "      <th>Selling Price</th>\n",
       "      <th>MRP</th>\n",
       "    </tr>\n",
       "  </thead>\n",
       "  <tbody>\n",
       "    <tr>\n",
       "      <th>0</th>\n",
       "      <td></td>\n",
       "      <td></td>\n",
       "      <td></td>\n",
       "      <td></td>\n",
       "      <td></td>\n",
       "      <td></td>\n",
       "      <td></td>\n",
       "      <td></td>\n",
       "    </tr>\n",
       "    <tr>\n",
       "      <th>1</th>\n",
       "      <td></td>\n",
       "      <td></td>\n",
       "      <td></td>\n",
       "      <td></td>\n",
       "      <td></td>\n",
       "      <td></td>\n",
       "      <td></td>\n",
       "      <td></td>\n",
       "    </tr>\n",
       "    <tr>\n",
       "      <th>2</th>\n",
       "      <td>Apple iPhone 13 (Starlight, 128 GB)</td>\n",
       "      <td>128 GB ROM</td>\n",
       "      <td>15.49 cm (6.1 inch) Super Retina XDR Display</td>\n",
       "      <td>12MP + 12MP | 12MP Front Camera</td>\n",
       "      <td>9% off</td>\n",
       "      <td>4.6</td>\n",
       "      <td>₹44,999</td>\n",
       "      <td>₹49,900</td>\n",
       "    </tr>\n",
       "    <tr>\n",
       "      <th>3</th>\n",
       "      <td>Apple iPhone 16 (Teal, 128 GB)</td>\n",
       "      <td>128 GB ROM</td>\n",
       "      <td>15.49 cm (6.1 inch) Super Retina XDR Display</td>\n",
       "      <td>48MP + 12MP | 12MP Front Camera</td>\n",
       "      <td>6% off</td>\n",
       "      <td>4.6</td>\n",
       "      <td>₹74,900</td>\n",
       "      <td>₹79,900</td>\n",
       "    </tr>\n",
       "    <tr>\n",
       "      <th>4</th>\n",
       "      <td>Apple iPhone 16 (Pink, 128 GB)</td>\n",
       "      <td>128 GB ROM</td>\n",
       "      <td>15.49 cm (6.1 inch) Super Retina XDR Display</td>\n",
       "      <td>48MP + 12MP | 12MP Front Camera</td>\n",
       "      <td>6% off</td>\n",
       "      <td>4.6</td>\n",
       "      <td>₹74,900</td>\n",
       "      <td>₹79,900</td>\n",
       "    </tr>\n",
       "  </tbody>\n",
       "</table>\n",
       "</div>"
      ],
      "text/plain": [
       "                                  Name         ROM  \\\n",
       "0                                                    \n",
       "1                                                    \n",
       "2  Apple iPhone 13 (Starlight, 128 GB)  128 GB ROM   \n",
       "3       Apple iPhone 16 (Teal, 128 GB)  128 GB ROM   \n",
       "4       Apple iPhone 16 (Pink, 128 GB)  128 GB ROM   \n",
       "\n",
       "                                        Display  \\\n",
       "0                                                 \n",
       "1                                                 \n",
       "2  15.49 cm (6.1 inch) Super Retina XDR Display   \n",
       "3  15.49 cm (6.1 inch) Super Retina XDR Display   \n",
       "4  15.49 cm (6.1 inch) Super Retina XDR Display   \n",
       "\n",
       "                            Camera Discount Rating Selling Price      MRP  \n",
       "0                                                                          \n",
       "1                                                                          \n",
       "2  12MP + 12MP | 12MP Front Camera   9% off    4.6       ₹44,999  ₹49,900  \n",
       "3  48MP + 12MP | 12MP Front Camera   6% off    4.6       ₹74,900  ₹79,900  \n",
       "4  48MP + 12MP | 12MP Front Camera   6% off    4.6       ₹74,900  ₹79,900  "
      ]
     },
     "execution_count": 130,
     "metadata": {},
     "output_type": "execute_result"
    }
   ],
   "source": [
    "iphone = pd.DataFrame(EntireData)\n",
    "iphone.head()"
   ]
  },
  {
   "cell_type": "code",
   "execution_count": 131,
   "id": "18591cfc",
   "metadata": {},
   "outputs": [],
   "source": [
    "#Samsung\n",
    "\n",
    "from selenium import webdriver\n",
    "from time import sleep\n",
    "\n",
    "browser = webdriver.Chrome()\n",
    "browser.get('https://www.flipkart.com/search?sid=tyy%2C4io&otracker=CLP_Filters&p%5B%5D=facets.brand%255B%255D%3DSamsung')\n",
    "\n",
    "EntireData = {\n",
    "    'Name': [],\n",
    "    'ROM': [],\n",
    "    'Display': [],\n",
    "    'Camera': [],\n",
    "    'Discount': [],\n",
    "    'Rating': [],\n",
    "    'Selling Price': [],\n",
    "    'MRP': []\n",
    "}\n",
    "\n",
    "products = browser.find_elements('xpath', \"//div[contains(@class,'cPHDOP col-12-12')]\")\n",
    "\n",
    "for product in products:\n",
    "    # Name\n",
    "    try:\n",
    "        brand = product.find_element('xpath', \".//div[contains(@class,'KzDlHZ')]\")\n",
    "        EntireData['Name'].append(brand.text)\n",
    "    except:\n",
    "        EntireData['Name'].append('')\n",
    "\n",
    "    # ROM, Display, Camera\n",
    "    try:\n",
    "        specs = product.find_elements('xpath', \".//li[contains(@class,'J+igdf')]\")\n",
    "        rom = specs[0].text if len(specs) > 0 else ''\n",
    "        display = specs[1].text if len(specs) > 1 else ''\n",
    "        camera = specs[2].text if len(specs) > 2 else ''\n",
    "        EntireData['ROM'].append(rom)\n",
    "        EntireData['Display'].append(display)\n",
    "        EntireData['Camera'].append(camera)\n",
    "    except:\n",
    "        EntireData['ROM'].append('')\n",
    "        EntireData['Display'].append('')\n",
    "        EntireData['Camera'].append('')\n",
    "\n",
    "    # Discount\n",
    "    try:\n",
    "        discount = product.find_element('xpath', \".//div[contains(@class,'UkUFwK')]\")\n",
    "        EntireData['Discount'].append(discount.text)\n",
    "    except:\n",
    "        EntireData['Discount'].append('')\n",
    "\n",
    "    # Rating\n",
    "    try:\n",
    "        rating = product.find_element('xpath', \".//div[contains(@class,'XQDdHH')]\")\n",
    "        EntireData['Rating'].append(rating.text)\n",
    "    except:\n",
    "        EntireData['Rating'].append('')\n",
    "\n",
    "    # Selling Price\n",
    "    try:\n",
    "        sp = product.find_element('xpath', \".//div[contains(@class,'Nx9bqj _4b5DiR')]\")\n",
    "        EntireData['Selling Price'].append(sp.text)\n",
    "    except:\n",
    "        EntireData['Selling Price'].append('')\n",
    "\n",
    "    # MRP\n",
    "    try:\n",
    "        mrp = product.find_element('xpath', \".//div[contains(@class,'yRaY8j ZYYwLA')]\")\n",
    "        EntireData['MRP'].append(mrp.text)\n",
    "    except:\n",
    "        EntireData['MRP'].append('')\n",
    "\n",
    "\n",
    "samsung = pd.DataFrame(EntireData)"
   ]
  },
  {
   "cell_type": "code",
   "execution_count": 132,
   "id": "a0464676",
   "metadata": {},
   "outputs": [
    {
     "data": {
      "text/html": [
       "<div>\n",
       "<style scoped>\n",
       "    .dataframe tbody tr th:only-of-type {\n",
       "        vertical-align: middle;\n",
       "    }\n",
       "\n",
       "    .dataframe tbody tr th {\n",
       "        vertical-align: top;\n",
       "    }\n",
       "\n",
       "    .dataframe thead th {\n",
       "        text-align: right;\n",
       "    }\n",
       "</style>\n",
       "<table border=\"1\" class=\"dataframe\">\n",
       "  <thead>\n",
       "    <tr style=\"text-align: right;\">\n",
       "      <th></th>\n",
       "      <th>Name</th>\n",
       "      <th>ROM</th>\n",
       "      <th>Display</th>\n",
       "      <th>Camera</th>\n",
       "      <th>Discount</th>\n",
       "      <th>Rating</th>\n",
       "      <th>Selling Price</th>\n",
       "      <th>MRP</th>\n",
       "    </tr>\n",
       "  </thead>\n",
       "  <tbody>\n",
       "    <tr>\n",
       "      <th>0</th>\n",
       "      <td></td>\n",
       "      <td></td>\n",
       "      <td></td>\n",
       "      <td></td>\n",
       "      <td></td>\n",
       "      <td></td>\n",
       "      <td></td>\n",
       "      <td></td>\n",
       "    </tr>\n",
       "    <tr>\n",
       "      <th>1</th>\n",
       "      <td></td>\n",
       "      <td></td>\n",
       "      <td></td>\n",
       "      <td></td>\n",
       "      <td></td>\n",
       "      <td></td>\n",
       "      <td></td>\n",
       "      <td></td>\n",
       "    </tr>\n",
       "    <tr>\n",
       "      <th>2</th>\n",
       "      <td>Samsung Galaxy S24 FE 5G (Mint, 128 GB)</td>\n",
       "      <td>8 GB RAM | 128 GB ROM</td>\n",
       "      <td>17.02 cm (6.7 inch) Full HD+ Display</td>\n",
       "      <td>50MP + 12MP | 10MP Front Camera</td>\n",
       "      <td>33% off</td>\n",
       "      <td>4.5</td>\n",
       "      <td>₹39,999</td>\n",
       "      <td>₹59,999</td>\n",
       "    </tr>\n",
       "    <tr>\n",
       "      <th>3</th>\n",
       "      <td>Samsung Galaxy F36 5G (Violet, 128 GB)</td>\n",
       "      <td>6 GB RAM | 128 GB ROM | Expandable Upto 2 TB</td>\n",
       "      <td>17.02 cm (6.7 inch) Full HD+ Display</td>\n",
       "      <td>50MP + 8MP + 2MP | 13MP Front Camera</td>\n",
       "      <td>23% off</td>\n",
       "      <td>4.4</td>\n",
       "      <td>₹17,499</td>\n",
       "      <td>₹22,999</td>\n",
       "    </tr>\n",
       "    <tr>\n",
       "      <th>4</th>\n",
       "      <td>Samsung Guru 1200</td>\n",
       "      <td>4 MB RAM | 10 MB ROM</td>\n",
       "      <td>3.86 cm (1.52 inch) Display</td>\n",
       "      <td>800 mAh Battery</td>\n",
       "      <td>52% off</td>\n",
       "      <td>3.1</td>\n",
       "      <td>₹752</td>\n",
       "      <td>₹1,599</td>\n",
       "    </tr>\n",
       "  </tbody>\n",
       "</table>\n",
       "</div>"
      ],
      "text/plain": [
       "                                      Name  \\\n",
       "0                                            \n",
       "1                                            \n",
       "2  Samsung Galaxy S24 FE 5G (Mint, 128 GB)   \n",
       "3   Samsung Galaxy F36 5G (Violet, 128 GB)   \n",
       "4                        Samsung Guru 1200   \n",
       "\n",
       "                                            ROM  \\\n",
       "0                                                 \n",
       "1                                                 \n",
       "2                         8 GB RAM | 128 GB ROM   \n",
       "3  6 GB RAM | 128 GB ROM | Expandable Upto 2 TB   \n",
       "4                          4 MB RAM | 10 MB ROM   \n",
       "\n",
       "                                Display                                Camera  \\\n",
       "0                                                                               \n",
       "1                                                                               \n",
       "2  17.02 cm (6.7 inch) Full HD+ Display       50MP + 12MP | 10MP Front Camera   \n",
       "3  17.02 cm (6.7 inch) Full HD+ Display  50MP + 8MP + 2MP | 13MP Front Camera   \n",
       "4           3.86 cm (1.52 inch) Display                       800 mAh Battery   \n",
       "\n",
       "  Discount Rating Selling Price      MRP  \n",
       "0                                         \n",
       "1                                         \n",
       "2  33% off    4.5       ₹39,999  ₹59,999  \n",
       "3  23% off    4.4       ₹17,499  ₹22,999  \n",
       "4  52% off    3.1          ₹752   ₹1,599  "
      ]
     },
     "execution_count": 132,
     "metadata": {},
     "output_type": "execute_result"
    }
   ],
   "source": [
    "samsung.head()"
   ]
  },
  {
   "cell_type": "code",
   "execution_count": 133,
   "id": "21ee4247",
   "metadata": {},
   "outputs": [],
   "source": [
    "#Google\n",
    "\n",
    "from selenium import webdriver\n",
    "from time import sleep\n",
    "\n",
    "browser = webdriver.Chrome()\n",
    "browser.get('https://www.flipkart.com/search?sid=tyy%2C4io&otracker=CLP_Filters&p%5B%5D=facets.brand%255B%255D%3DGoogle')\n",
    "\n",
    "EntireData = {\n",
    "    'Name': [],\n",
    "    'ROM': [],\n",
    "    'Display': [],\n",
    "    'Camera': [],\n",
    "    'Discount': [],\n",
    "    'Rating': [],\n",
    "    'Selling Price': [],\n",
    "    'MRP': []\n",
    "}\n",
    "\n",
    "products = browser.find_elements('xpath', \"//div[contains(@class,'cPHDOP col-12-12')]\")\n",
    "\n",
    "for product in products:\n",
    "    # Name\n",
    "    try:\n",
    "        brand = product.find_element('xpath', \".//div[contains(@class,'KzDlHZ')]\")\n",
    "        EntireData['Name'].append(brand.text)\n",
    "    except:\n",
    "        EntireData['Name'].append('')\n",
    "\n",
    "    # ROM, Display, Camera\n",
    "    try:\n",
    "        specs = product.find_elements('xpath', \".//li[contains(@class,'J+igdf')]\")\n",
    "        rom = specs[0].text if len(specs) > 0 else ''\n",
    "        display = specs[1].text if len(specs) > 1 else ''\n",
    "        camera = specs[2].text if len(specs) > 2 else ''\n",
    "        EntireData['ROM'].append(rom)\n",
    "        EntireData['Display'].append(display)\n",
    "        EntireData['Camera'].append(camera)\n",
    "    except:\n",
    "        EntireData['ROM'].append('')\n",
    "        EntireData['Display'].append('')\n",
    "        EntireData['Camera'].append('')\n",
    "\n",
    "    # Discount\n",
    "    try:\n",
    "        discount = product.find_element('xpath', \".//div[contains(@class,'UkUFwK')]\")\n",
    "        EntireData['Discount'].append(discount.text)\n",
    "    except:\n",
    "        EntireData['Discount'].append('')\n",
    "\n",
    "    # Rating\n",
    "    try:\n",
    "        rating = product.find_element('xpath', \".//div[contains(@class,'XQDdHH')]\")\n",
    "        EntireData['Rating'].append(rating.text)\n",
    "    except:\n",
    "        EntireData['Rating'].append('')\n",
    "\n",
    "    # Selling Price\n",
    "    try:\n",
    "        sp = product.find_element('xpath', \".//div[contains(@class,'Nx9bqj _4b5DiR')]\")\n",
    "        EntireData['Selling Price'].append(sp.text)\n",
    "    except:\n",
    "        EntireData['Selling Price'].append('')\n",
    "\n",
    "    # MRP\n",
    "    try:\n",
    "        mrp = product.find_element('xpath', \".//div[contains(@class,'yRaY8j ZYYwLA')]\")\n",
    "        EntireData['MRP'].append(mrp.text)\n",
    "    except:\n",
    "        EntireData['MRP'].append('')\n",
    "\n",
    "\n",
    "google = pd.DataFrame(EntireData)"
   ]
  },
  {
   "cell_type": "code",
   "execution_count": 134,
   "id": "5e730aad",
   "metadata": {},
   "outputs": [
    {
     "data": {
      "text/html": [
       "<div>\n",
       "<style scoped>\n",
       "    .dataframe tbody tr th:only-of-type {\n",
       "        vertical-align: middle;\n",
       "    }\n",
       "\n",
       "    .dataframe tbody tr th {\n",
       "        vertical-align: top;\n",
       "    }\n",
       "\n",
       "    .dataframe thead th {\n",
       "        text-align: right;\n",
       "    }\n",
       "</style>\n",
       "<table border=\"1\" class=\"dataframe\">\n",
       "  <thead>\n",
       "    <tr style=\"text-align: right;\">\n",
       "      <th></th>\n",
       "      <th>Name</th>\n",
       "      <th>ROM</th>\n",
       "      <th>Display</th>\n",
       "      <th>Camera</th>\n",
       "      <th>Discount</th>\n",
       "      <th>Rating</th>\n",
       "      <th>Selling Price</th>\n",
       "      <th>MRP</th>\n",
       "    </tr>\n",
       "  </thead>\n",
       "  <tbody>\n",
       "    <tr>\n",
       "      <th>0</th>\n",
       "      <td></td>\n",
       "      <td></td>\n",
       "      <td></td>\n",
       "      <td></td>\n",
       "      <td></td>\n",
       "      <td></td>\n",
       "      <td></td>\n",
       "      <td></td>\n",
       "    </tr>\n",
       "    <tr>\n",
       "      <th>1</th>\n",
       "      <td></td>\n",
       "      <td></td>\n",
       "      <td></td>\n",
       "      <td></td>\n",
       "      <td></td>\n",
       "      <td></td>\n",
       "      <td></td>\n",
       "      <td></td>\n",
       "    </tr>\n",
       "    <tr>\n",
       "      <th>2</th>\n",
       "      <td>Google Pixel 7 (Lemongrass, 128 GB)</td>\n",
       "      <td>8 GB RAM | 128 GB ROM</td>\n",
       "      <td>16.0 cm (6.3 inch) Full HD+ Display</td>\n",
       "      <td>50MP + 12MP | 10.8MP Front Camera</td>\n",
       "      <td>50% off</td>\n",
       "      <td>4.3</td>\n",
       "      <td>₹29,999</td>\n",
       "      <td>₹59,999</td>\n",
       "    </tr>\n",
       "    <tr>\n",
       "      <th>3</th>\n",
       "      <td>Google Pixel 8a (Porcelain, 128 GB)</td>\n",
       "      <td>8 GB RAM | 128 GB ROM</td>\n",
       "      <td>15.49 cm (6.1 inch) Full HD+ Display</td>\n",
       "      <td>64MP + 13MP | 13MP Front Camera</td>\n",
       "      <td>28% off</td>\n",
       "      <td>4.3</td>\n",
       "      <td>₹37,999</td>\n",
       "      <td>₹52,999</td>\n",
       "    </tr>\n",
       "    <tr>\n",
       "      <th>4</th>\n",
       "      <td>Google Pixel 8a (Obsidian, 128 GB)</td>\n",
       "      <td>8 GB RAM | 128 GB ROM</td>\n",
       "      <td>15.49 cm (6.1 inch) Full HD+ Display</td>\n",
       "      <td>64MP + 13MP | 13MP Front Camera</td>\n",
       "      <td>28% off</td>\n",
       "      <td>4.3</td>\n",
       "      <td>₹37,999</td>\n",
       "      <td>₹52,999</td>\n",
       "    </tr>\n",
       "  </tbody>\n",
       "</table>\n",
       "</div>"
      ],
      "text/plain": [
       "                                  Name                    ROM  \\\n",
       "0                                                               \n",
       "1                                                               \n",
       "2  Google Pixel 7 (Lemongrass, 128 GB)  8 GB RAM | 128 GB ROM   \n",
       "3  Google Pixel 8a (Porcelain, 128 GB)  8 GB RAM | 128 GB ROM   \n",
       "4   Google Pixel 8a (Obsidian, 128 GB)  8 GB RAM | 128 GB ROM   \n",
       "\n",
       "                                Display                             Camera  \\\n",
       "0                                                                            \n",
       "1                                                                            \n",
       "2   16.0 cm (6.3 inch) Full HD+ Display  50MP + 12MP | 10.8MP Front Camera   \n",
       "3  15.49 cm (6.1 inch) Full HD+ Display    64MP + 13MP | 13MP Front Camera   \n",
       "4  15.49 cm (6.1 inch) Full HD+ Display    64MP + 13MP | 13MP Front Camera   \n",
       "\n",
       "  Discount Rating Selling Price      MRP  \n",
       "0                                         \n",
       "1                                         \n",
       "2  50% off    4.3       ₹29,999  ₹59,999  \n",
       "3  28% off    4.3       ₹37,999  ₹52,999  \n",
       "4  28% off    4.3       ₹37,999  ₹52,999  "
      ]
     },
     "execution_count": 134,
     "metadata": {},
     "output_type": "execute_result"
    }
   ],
   "source": [
    "google.head()"
   ]
  },
  {
   "cell_type": "code",
   "execution_count": 135,
   "id": "9f8f778e",
   "metadata": {},
   "outputs": [],
   "source": [
    "#motorola\n",
    "\n",
    "from selenium import webdriver\n",
    "from time import sleep\n",
    "\n",
    "browser = webdriver.Chrome()\n",
    "browser.get('https://www.flipkart.com/search?sid=tyy%2C4io&otracker=CLP_Filters&p%5B%5D=facets.brand%255B%255D%3DMOTOROLA')\n",
    "\n",
    "EntireData = {\n",
    "    'Name': [],\n",
    "    'ROM': [],\n",
    "    'Display': [],\n",
    "    'Camera': [],\n",
    "    'Discount': [],\n",
    "    'Rating': [],\n",
    "    'Selling Price': [],\n",
    "    'MRP': []\n",
    "}\n",
    "\n",
    "products = browser.find_elements('xpath', \"//div[contains(@class,'cPHDOP col-12-12')]\")\n",
    "\n",
    "for product in products:\n",
    "    # Name\n",
    "    try:\n",
    "        brand = product.find_element('xpath', \".//div[contains(@class,'KzDlHZ')]\")\n",
    "        EntireData['Name'].append(brand.text)\n",
    "    except:\n",
    "        EntireData['Name'].append('')\n",
    "\n",
    "    # ROM, Display, Camera\n",
    "    try:\n",
    "        specs = product.find_elements('xpath', \".//li[contains(@class,'J+igdf')]\")\n",
    "        rom = specs[0].text if len(specs) > 0 else ''\n",
    "        display = specs[1].text if len(specs) > 1 else ''\n",
    "        camera = specs[2].text if len(specs) > 2 else ''\n",
    "        EntireData['ROM'].append(rom)\n",
    "        EntireData['Display'].append(display)\n",
    "        EntireData['Camera'].append(camera)\n",
    "    except:\n",
    "        EntireData['ROM'].append('')\n",
    "        EntireData['Display'].append('')\n",
    "        EntireData['Camera'].append('')\n",
    "\n",
    "    # Discount\n",
    "    try:\n",
    "        discount = product.find_element('xpath', \".//div[contains(@class,'UkUFwK')]\")\n",
    "        EntireData['Discount'].append(discount.text)\n",
    "    except:\n",
    "        EntireData['Discount'].append('')\n",
    "\n",
    "    # Rating\n",
    "    try:\n",
    "        rating = product.find_element('xpath', \".//div[contains(@class,'XQDdHH')]\")\n",
    "        EntireData['Rating'].append(rating.text)\n",
    "    except:\n",
    "        EntireData['Rating'].append('')\n",
    "\n",
    "    # Selling Price\n",
    "    try:\n",
    "        sp = product.find_element('xpath', \".//div[contains(@class,'Nx9bqj _4b5DiR')]\")\n",
    "        EntireData['Selling Price'].append(sp.text)\n",
    "    except:\n",
    "        EntireData['Selling Price'].append('')\n",
    "\n",
    "    # MRP\n",
    "    try:\n",
    "        mrp = product.find_element('xpath', \".//div[contains(@class,'yRaY8j ZYYwLA')]\")\n",
    "        EntireData['MRP'].append(mrp.text)\n",
    "    except:\n",
    "        EntireData['MRP'].append('')\n",
    "\n",
    "\n",
    "motorola = pd.DataFrame(EntireData)"
   ]
  },
  {
   "cell_type": "code",
   "execution_count": 136,
   "id": "73647c1d",
   "metadata": {},
   "outputs": [
    {
     "data": {
      "text/html": [
       "<div>\n",
       "<style scoped>\n",
       "    .dataframe tbody tr th:only-of-type {\n",
       "        vertical-align: middle;\n",
       "    }\n",
       "\n",
       "    .dataframe tbody tr th {\n",
       "        vertical-align: top;\n",
       "    }\n",
       "\n",
       "    .dataframe thead th {\n",
       "        text-align: right;\n",
       "    }\n",
       "</style>\n",
       "<table border=\"1\" class=\"dataframe\">\n",
       "  <thead>\n",
       "    <tr style=\"text-align: right;\">\n",
       "      <th></th>\n",
       "      <th>Name</th>\n",
       "      <th>ROM</th>\n",
       "      <th>Display</th>\n",
       "      <th>Camera</th>\n",
       "      <th>Discount</th>\n",
       "      <th>Rating</th>\n",
       "      <th>Selling Price</th>\n",
       "      <th>MRP</th>\n",
       "    </tr>\n",
       "  </thead>\n",
       "  <tbody>\n",
       "    <tr>\n",
       "      <th>0</th>\n",
       "      <td></td>\n",
       "      <td></td>\n",
       "      <td></td>\n",
       "      <td></td>\n",
       "      <td></td>\n",
       "      <td></td>\n",
       "      <td></td>\n",
       "      <td></td>\n",
       "    </tr>\n",
       "    <tr>\n",
       "      <th>1</th>\n",
       "      <td></td>\n",
       "      <td></td>\n",
       "      <td></td>\n",
       "      <td></td>\n",
       "      <td></td>\n",
       "      <td></td>\n",
       "      <td></td>\n",
       "      <td></td>\n",
       "    </tr>\n",
       "    <tr>\n",
       "      <th>2</th>\n",
       "      <td>realme 15 5G (Flowing Silver, 128 GB)</td>\n",
       "      <td>8 GB RAM | 128 GB ROM</td>\n",
       "      <td>17.27 cm (6.8 inch) Display</td>\n",
       "      <td>50MP + 8MP | 50MP Front Camera</td>\n",
       "      <td>13% off</td>\n",
       "      <td>4.4</td>\n",
       "      <td>₹25,999</td>\n",
       "      <td>₹29,999</td>\n",
       "    </tr>\n",
       "    <tr>\n",
       "      <th>3</th>\n",
       "      <td>realme 15 Pro 5G (Flowing Silver, 256 GB)</td>\n",
       "      <td>8 GB RAM | 256 GB ROM</td>\n",
       "      <td>17.27 cm (6.8 inch) Display</td>\n",
       "      <td>50MP + 50MP | 50MP Front Camera</td>\n",
       "      <td>10% off</td>\n",
       "      <td>4.4</td>\n",
       "      <td>₹33,999</td>\n",
       "      <td>₹37,999</td>\n",
       "    </tr>\n",
       "    <tr>\n",
       "      <th>4</th>\n",
       "      <td>Motorola g45 5G (Pantone Dahlia Purple, 128 GB)</td>\n",
       "      <td>8 GB RAM | 128 GB ROM | Expandable Upto 1 TB</td>\n",
       "      <td>16.51 cm (6.5 inch) HD+ Display</td>\n",
       "      <td>50MP + 2MP | 16MP Front Camera</td>\n",
       "      <td>20% off</td>\n",
       "      <td>4.3</td>\n",
       "      <td>₹11,999</td>\n",
       "      <td>₹14,999</td>\n",
       "    </tr>\n",
       "  </tbody>\n",
       "</table>\n",
       "</div>"
      ],
      "text/plain": [
       "                                              Name  \\\n",
       "0                                                    \n",
       "1                                                    \n",
       "2            realme 15 5G (Flowing Silver, 128 GB)   \n",
       "3        realme 15 Pro 5G (Flowing Silver, 256 GB)   \n",
       "4  Motorola g45 5G (Pantone Dahlia Purple, 128 GB)   \n",
       "\n",
       "                                            ROM  \\\n",
       "0                                                 \n",
       "1                                                 \n",
       "2                         8 GB RAM | 128 GB ROM   \n",
       "3                         8 GB RAM | 256 GB ROM   \n",
       "4  8 GB RAM | 128 GB ROM | Expandable Upto 1 TB   \n",
       "\n",
       "                           Display                           Camera Discount  \\\n",
       "0                                                                              \n",
       "1                                                                              \n",
       "2      17.27 cm (6.8 inch) Display   50MP + 8MP | 50MP Front Camera  13% off   \n",
       "3      17.27 cm (6.8 inch) Display  50MP + 50MP | 50MP Front Camera  10% off   \n",
       "4  16.51 cm (6.5 inch) HD+ Display   50MP + 2MP | 16MP Front Camera  20% off   \n",
       "\n",
       "  Rating Selling Price      MRP  \n",
       "0                                \n",
       "1                                \n",
       "2    4.4       ₹25,999  ₹29,999  \n",
       "3    4.4       ₹33,999  ₹37,999  \n",
       "4    4.3       ₹11,999  ₹14,999  "
      ]
     },
     "execution_count": 136,
     "metadata": {},
     "output_type": "execute_result"
    }
   ],
   "source": [
    "motorola.head()"
   ]
  },
  {
   "cell_type": "code",
   "execution_count": 137,
   "id": "db364a62",
   "metadata": {},
   "outputs": [
    {
     "data": {
      "text/html": [
       "<div>\n",
       "<style scoped>\n",
       "    .dataframe tbody tr th:only-of-type {\n",
       "        vertical-align: middle;\n",
       "    }\n",
       "\n",
       "    .dataframe tbody tr th {\n",
       "        vertical-align: top;\n",
       "    }\n",
       "\n",
       "    .dataframe thead th {\n",
       "        text-align: right;\n",
       "    }\n",
       "</style>\n",
       "<table border=\"1\" class=\"dataframe\">\n",
       "  <thead>\n",
       "    <tr style=\"text-align: right;\">\n",
       "      <th></th>\n",
       "      <th>Name</th>\n",
       "      <th>ROM</th>\n",
       "      <th>Display</th>\n",
       "      <th>Camera</th>\n",
       "      <th>Discount</th>\n",
       "      <th>Rating</th>\n",
       "      <th>Selling Price</th>\n",
       "      <th>MRP</th>\n",
       "    </tr>\n",
       "  </thead>\n",
       "  <tbody>\n",
       "    <tr>\n",
       "      <th>0</th>\n",
       "      <td></td>\n",
       "      <td></td>\n",
       "      <td></td>\n",
       "      <td></td>\n",
       "      <td></td>\n",
       "      <td></td>\n",
       "      <td></td>\n",
       "      <td></td>\n",
       "    </tr>\n",
       "    <tr>\n",
       "      <th>1</th>\n",
       "      <td></td>\n",
       "      <td></td>\n",
       "      <td></td>\n",
       "      <td></td>\n",
       "      <td></td>\n",
       "      <td></td>\n",
       "      <td></td>\n",
       "      <td></td>\n",
       "    </tr>\n",
       "    <tr>\n",
       "      <th>2</th>\n",
       "      <td>realme 15 5G (Flowing Silver, 128 GB)</td>\n",
       "      <td>8 GB RAM | 128 GB ROM</td>\n",
       "      <td>17.27 cm (6.8 inch) Display</td>\n",
       "      <td>50MP + 8MP | 50MP Front Camera</td>\n",
       "      <td>13% off</td>\n",
       "      <td>4.4</td>\n",
       "      <td>₹25,999</td>\n",
       "      <td>₹29,999</td>\n",
       "    </tr>\n",
       "    <tr>\n",
       "      <th>3</th>\n",
       "      <td>realme 15 Pro 5G (Flowing Silver, 256 GB)</td>\n",
       "      <td>8 GB RAM | 256 GB ROM</td>\n",
       "      <td>17.27 cm (6.8 inch) Display</td>\n",
       "      <td>50MP + 50MP | 50MP Front Camera</td>\n",
       "      <td>10% off</td>\n",
       "      <td>4.4</td>\n",
       "      <td>₹33,999</td>\n",
       "      <td>₹37,999</td>\n",
       "    </tr>\n",
       "    <tr>\n",
       "      <th>4</th>\n",
       "      <td>OnePlus Nord CE4 lite 5G (SUPER SILVER, 128 GB)</td>\n",
       "      <td>8 GB RAM | 128 GB ROM</td>\n",
       "      <td>16.94 cm (6.67 inch) Display</td>\n",
       "      <td>50MP Rear Camera</td>\n",
       "      <td>19% off</td>\n",
       "      <td>4.4</td>\n",
       "      <td>₹16,989</td>\n",
       "      <td>₹20,999</td>\n",
       "    </tr>\n",
       "  </tbody>\n",
       "</table>\n",
       "</div>"
      ],
      "text/plain": [
       "                                              Name                    ROM  \\\n",
       "0                                                                           \n",
       "1                                                                           \n",
       "2            realme 15 5G (Flowing Silver, 128 GB)  8 GB RAM | 128 GB ROM   \n",
       "3        realme 15 Pro 5G (Flowing Silver, 256 GB)  8 GB RAM | 256 GB ROM   \n",
       "4  OnePlus Nord CE4 lite 5G (SUPER SILVER, 128 GB)  8 GB RAM | 128 GB ROM   \n",
       "\n",
       "                        Display                           Camera Discount  \\\n",
       "0                                                                           \n",
       "1                                                                           \n",
       "2   17.27 cm (6.8 inch) Display   50MP + 8MP | 50MP Front Camera  13% off   \n",
       "3   17.27 cm (6.8 inch) Display  50MP + 50MP | 50MP Front Camera  10% off   \n",
       "4  16.94 cm (6.67 inch) Display                 50MP Rear Camera  19% off   \n",
       "\n",
       "  Rating Selling Price      MRP  \n",
       "0                                \n",
       "1                                \n",
       "2    4.4       ₹25,999  ₹29,999  \n",
       "3    4.4       ₹33,999  ₹37,999  \n",
       "4    4.4       ₹16,989  ₹20,999  "
      ]
     },
     "execution_count": 137,
     "metadata": {},
     "output_type": "execute_result"
    }
   ],
   "source": [
    "#Others\n",
    "\n",
    "from selenium import webdriver\n",
    "from time import sleep\n",
    "\n",
    "browser = webdriver.Chrome()\n",
    "browser.get('https://www.flipkart.com/search?sid=tyy%2C4io&otracker=CLP_Filters&p%5B%5D=facets.brand%255B%255D%3Drealme&p%5B%5D=facets.brand%255B%255D%3DREDMI&p%5B%5D=facets.brand%255B%255D%3DMi&p%5B%5D=facets.brand%255B%255D%3DOnePlus')\n",
    "\n",
    "EntireData = {\n",
    "    'Name': [],\n",
    "    'ROM': [],\n",
    "    'Display': [],\n",
    "    'Camera': [],\n",
    "    'Discount': [],\n",
    "    'Rating': [],\n",
    "    'Selling Price': [],\n",
    "    'MRP': []\n",
    "}\n",
    "\n",
    "products = browser.find_elements('xpath', \"//div[contains(@class,'cPHDOP col-12-12')]\")\n",
    "\n",
    "for product in products:\n",
    "    # Name\n",
    "    try:\n",
    "        brand = product.find_element('xpath', \".//div[contains(@class,'KzDlHZ')]\")\n",
    "        EntireData['Name'].append(brand.text)\n",
    "    except:\n",
    "        EntireData['Name'].append('')\n",
    "\n",
    "    # ROM, Display, Camera\n",
    "    try:\n",
    "        specs = product.find_elements('xpath', \".//li[contains(@class,'J+igdf')]\")\n",
    "        rom = specs[0].text if len(specs) > 0 else ''\n",
    "        display = specs[1].text if len(specs) > 1 else ''\n",
    "        camera = specs[2].text if len(specs) > 2 else ''\n",
    "        EntireData['ROM'].append(rom)\n",
    "        EntireData['Display'].append(display)\n",
    "        EntireData['Camera'].append(camera)\n",
    "    except:\n",
    "        EntireData['ROM'].append('')\n",
    "        EntireData['Display'].append('')\n",
    "        EntireData['Camera'].append('')\n",
    "\n",
    "    # Discount\n",
    "    try:\n",
    "        discount = product.find_element('xpath', \".//div[contains(@class,'UkUFwK')]\")\n",
    "        EntireData['Discount'].append(discount.text)\n",
    "    except:\n",
    "        EntireData['Discount'].append('')\n",
    "\n",
    "    # Rating\n",
    "    try:\n",
    "        rating = product.find_element('xpath', \".//div[contains(@class,'XQDdHH')]\")\n",
    "        EntireData['Rating'].append(rating.text)\n",
    "    except:\n",
    "        EntireData['Rating'].append('')\n",
    "\n",
    "    # Selling Price\n",
    "    try:\n",
    "        sp = product.find_element('xpath', \".//div[contains(@class,'Nx9bqj _4b5DiR')]\")\n",
    "        EntireData['Selling Price'].append(sp.text)\n",
    "    except:\n",
    "        EntireData['Selling Price'].append('')\n",
    "\n",
    "    # MRP\n",
    "    try:\n",
    "        mrp = product.find_element('xpath', \".//div[contains(@class,'yRaY8j ZYYwLA')]\")\n",
    "        EntireData['MRP'].append(mrp.text)\n",
    "    except:\n",
    "        EntireData['MRP'].append('')\n",
    "\n",
    "\n",
    "other = pd.DataFrame(EntireData)\n",
    "other.head()"
   ]
  },
  {
   "cell_type": "code",
   "execution_count": 138,
   "id": "9c41a543",
   "metadata": {},
   "outputs": [],
   "source": [
    "import pandas as pd\n",
    "\n",
    "# iphone, samsung, google, motorola, other\n",
    "\n",
    "dataframes = [iphone, samsung, google, motorola, other]\n",
    "\n",
    "# Combine them vertically\n",
    "mobile_df = pd.concat(dataframes, ignore_index=True)"
   ]
  },
  {
   "cell_type": "code",
   "execution_count": 139,
   "id": "ff08ea39",
   "metadata": {},
   "outputs": [
    {
     "data": {
      "text/html": [
       "<div>\n",
       "<style scoped>\n",
       "    .dataframe tbody tr th:only-of-type {\n",
       "        vertical-align: middle;\n",
       "    }\n",
       "\n",
       "    .dataframe tbody tr th {\n",
       "        vertical-align: top;\n",
       "    }\n",
       "\n",
       "    .dataframe thead th {\n",
       "        text-align: right;\n",
       "    }\n",
       "</style>\n",
       "<table border=\"1\" class=\"dataframe\">\n",
       "  <thead>\n",
       "    <tr style=\"text-align: right;\">\n",
       "      <th></th>\n",
       "      <th>Name</th>\n",
       "      <th>ROM</th>\n",
       "      <th>Display</th>\n",
       "      <th>Camera</th>\n",
       "      <th>Discount</th>\n",
       "      <th>Rating</th>\n",
       "      <th>Selling Price</th>\n",
       "      <th>MRP</th>\n",
       "    </tr>\n",
       "  </thead>\n",
       "  <tbody>\n",
       "    <tr>\n",
       "      <th>0</th>\n",
       "      <td></td>\n",
       "      <td></td>\n",
       "      <td></td>\n",
       "      <td></td>\n",
       "      <td></td>\n",
       "      <td></td>\n",
       "      <td></td>\n",
       "      <td></td>\n",
       "    </tr>\n",
       "    <tr>\n",
       "      <th>1</th>\n",
       "      <td></td>\n",
       "      <td></td>\n",
       "      <td></td>\n",
       "      <td></td>\n",
       "      <td></td>\n",
       "      <td></td>\n",
       "      <td></td>\n",
       "      <td></td>\n",
       "    </tr>\n",
       "    <tr>\n",
       "      <th>2</th>\n",
       "      <td>Apple iPhone 13 (Starlight, 128 GB)</td>\n",
       "      <td>128 GB ROM</td>\n",
       "      <td>15.49 cm (6.1 inch) Super Retina XDR Display</td>\n",
       "      <td>12MP + 12MP | 12MP Front Camera</td>\n",
       "      <td>9% off</td>\n",
       "      <td>4.6</td>\n",
       "      <td>₹44,999</td>\n",
       "      <td>₹49,900</td>\n",
       "    </tr>\n",
       "    <tr>\n",
       "      <th>3</th>\n",
       "      <td>Apple iPhone 16 (Teal, 128 GB)</td>\n",
       "      <td>128 GB ROM</td>\n",
       "      <td>15.49 cm (6.1 inch) Super Retina XDR Display</td>\n",
       "      <td>48MP + 12MP | 12MP Front Camera</td>\n",
       "      <td>6% off</td>\n",
       "      <td>4.6</td>\n",
       "      <td>₹74,900</td>\n",
       "      <td>₹79,900</td>\n",
       "    </tr>\n",
       "    <tr>\n",
       "      <th>4</th>\n",
       "      <td>Apple iPhone 16 (Pink, 128 GB)</td>\n",
       "      <td>128 GB ROM</td>\n",
       "      <td>15.49 cm (6.1 inch) Super Retina XDR Display</td>\n",
       "      <td>48MP + 12MP | 12MP Front Camera</td>\n",
       "      <td>6% off</td>\n",
       "      <td>4.6</td>\n",
       "      <td>₹74,900</td>\n",
       "      <td>₹79,900</td>\n",
       "    </tr>\n",
       "  </tbody>\n",
       "</table>\n",
       "</div>"
      ],
      "text/plain": [
       "                                  Name         ROM  \\\n",
       "0                                                    \n",
       "1                                                    \n",
       "2  Apple iPhone 13 (Starlight, 128 GB)  128 GB ROM   \n",
       "3       Apple iPhone 16 (Teal, 128 GB)  128 GB ROM   \n",
       "4       Apple iPhone 16 (Pink, 128 GB)  128 GB ROM   \n",
       "\n",
       "                                        Display  \\\n",
       "0                                                 \n",
       "1                                                 \n",
       "2  15.49 cm (6.1 inch) Super Retina XDR Display   \n",
       "3  15.49 cm (6.1 inch) Super Retina XDR Display   \n",
       "4  15.49 cm (6.1 inch) Super Retina XDR Display   \n",
       "\n",
       "                            Camera Discount Rating Selling Price      MRP  \n",
       "0                                                                          \n",
       "1                                                                          \n",
       "2  12MP + 12MP | 12MP Front Camera   9% off    4.6       ₹44,999  ₹49,900  \n",
       "3  48MP + 12MP | 12MP Front Camera   6% off    4.6       ₹74,900  ₹79,900  \n",
       "4  48MP + 12MP | 12MP Front Camera   6% off    4.6       ₹74,900  ₹79,900  "
      ]
     },
     "execution_count": 139,
     "metadata": {},
     "output_type": "execute_result"
    }
   ],
   "source": [
    "mobile_df.head()"
   ]
  },
  {
   "cell_type": "code",
   "execution_count": 140,
   "id": "a90ccfb9",
   "metadata": {},
   "outputs": [
    {
     "data": {
      "text/html": [
       "<div>\n",
       "<style scoped>\n",
       "    .dataframe tbody tr th:only-of-type {\n",
       "        vertical-align: middle;\n",
       "    }\n",
       "\n",
       "    .dataframe tbody tr th {\n",
       "        vertical-align: top;\n",
       "    }\n",
       "\n",
       "    .dataframe thead th {\n",
       "        text-align: right;\n",
       "    }\n",
       "</style>\n",
       "<table border=\"1\" class=\"dataframe\">\n",
       "  <thead>\n",
       "    <tr style=\"text-align: right;\">\n",
       "      <th></th>\n",
       "      <th>Name</th>\n",
       "      <th>ROM</th>\n",
       "      <th>Display</th>\n",
       "      <th>Camera</th>\n",
       "      <th>Discount</th>\n",
       "      <th>Rating</th>\n",
       "      <th>Selling Price</th>\n",
       "      <th>MRP</th>\n",
       "    </tr>\n",
       "  </thead>\n",
       "  <tbody>\n",
       "    <tr>\n",
       "      <th>137</th>\n",
       "      <td>realme P3x 5G (Lunar Silver, 128 GB)</td>\n",
       "      <td>6 GB RAM | 128 GB ROM</td>\n",
       "      <td>17.07 cm (6.72 inch) Full HD Display</td>\n",
       "      <td>50MP Rear Camera | 8MP Front Camera</td>\n",
       "      <td>23% off</td>\n",
       "      <td>4.4</td>\n",
       "      <td>₹12,999</td>\n",
       "      <td>₹16,999</td>\n",
       "    </tr>\n",
       "    <tr>\n",
       "      <th>102</th>\n",
       "      <td>Samsung Galaxy F36 5G (Black, 128 GB)</td>\n",
       "      <td>8 GB RAM | 128 GB ROM | Expandable Upto 2 TB</td>\n",
       "      <td>17.02 cm (6.7 inch) Full HD+ Display</td>\n",
       "      <td>50MP + 8MP + 2MP | 13MP Front Camera</td>\n",
       "      <td>22% off</td>\n",
       "      <td>4.2</td>\n",
       "      <td>₹18,999</td>\n",
       "      <td>₹24,499</td>\n",
       "    </tr>\n",
       "    <tr>\n",
       "      <th>0</th>\n",
       "      <td></td>\n",
       "      <td></td>\n",
       "      <td></td>\n",
       "      <td></td>\n",
       "      <td></td>\n",
       "      <td></td>\n",
       "      <td></td>\n",
       "      <td></td>\n",
       "    </tr>\n",
       "    <tr>\n",
       "      <th>66</th>\n",
       "      <td>Google Pixel 9 (Obsidian, 256 GB)</td>\n",
       "      <td>12 GB RAM | 256 GB ROM</td>\n",
       "      <td>16.0 cm (6.3 inch) Display</td>\n",
       "      <td>50MP + 48MP | 10.5MP Front Camera</td>\n",
       "      <td>18% off</td>\n",
       "      <td>4.5</td>\n",
       "      <td>₹64,999</td>\n",
       "      <td>₹79,999</td>\n",
       "    </tr>\n",
       "    <tr>\n",
       "      <th>48</th>\n",
       "      <td>Samsung Galaxy F16 5G (Glam Green, 128 GB)</td>\n",
       "      <td>6 GB RAM | 128 GB ROM</td>\n",
       "      <td>16.91 cm (6.657 inch) Full HD+ Display</td>\n",
       "      <td>50MP + 5MP + 2MP | 13MP Front Camera</td>\n",
       "      <td>25% off</td>\n",
       "      <td>4.2</td>\n",
       "      <td>₹12,999</td>\n",
       "      <td>₹17,499</td>\n",
       "    </tr>\n",
       "    <tr>\n",
       "      <th>7</th>\n",
       "      <td>Apple iPhone 16 (Ultramarine, 128 GB)</td>\n",
       "      <td>128 GB ROM</td>\n",
       "      <td>15.49 cm (6.1 inch) Super Retina XDR Display</td>\n",
       "      <td>48MP + 12MP | 12MP Front Camera</td>\n",
       "      <td>6% off</td>\n",
       "      <td>4.6</td>\n",
       "      <td>₹74,900</td>\n",
       "      <td>₹79,900</td>\n",
       "    </tr>\n",
       "    <tr>\n",
       "      <th>113</th>\n",
       "      <td></td>\n",
       "      <td></td>\n",
       "      <td></td>\n",
       "      <td></td>\n",
       "      <td></td>\n",
       "      <td></td>\n",
       "      <td></td>\n",
       "      <td></td>\n",
       "    </tr>\n",
       "    <tr>\n",
       "      <th>72</th>\n",
       "      <td>Google Pixel 8 Pro (Bay, 128 GB)</td>\n",
       "      <td>12 GB RAM | 128 GB ROM</td>\n",
       "      <td>17.02 cm (6.7 inch) Full HD+ AMOLED Display</td>\n",
       "      <td>50MP + 48MP + 48MP | 10.5MP Front Camera</td>\n",
       "      <td>43% off</td>\n",
       "      <td>4.4</td>\n",
       "      <td>₹59,999</td>\n",
       "      <td>₹1,06,999</td>\n",
       "    </tr>\n",
       "    <tr>\n",
       "      <th>58</th>\n",
       "      <td>Google Pixel 7 (Lemongrass, 128 GB)</td>\n",
       "      <td>8 GB RAM | 128 GB ROM</td>\n",
       "      <td>16.0 cm (6.3 inch) Full HD+ Display</td>\n",
       "      <td>50MP + 12MP | 10.8MP Front Camera</td>\n",
       "      <td>50% off</td>\n",
       "      <td>4.3</td>\n",
       "      <td>₹29,999</td>\n",
       "      <td>₹59,999</td>\n",
       "    </tr>\n",
       "    <tr>\n",
       "      <th>46</th>\n",
       "      <td>Samsung Galaxy F36 5G (Black, 128 GB)</td>\n",
       "      <td>8 GB RAM | 128 GB ROM | Expandable Upto 2 TB</td>\n",
       "      <td>17.02 cm (6.7 inch) Full HD+ Display</td>\n",
       "      <td>50MP + 8MP + 2MP | 13MP Front Camera</td>\n",
       "      <td>22% off</td>\n",
       "      <td>4.2</td>\n",
       "      <td>₹18,999</td>\n",
       "      <td>₹24,499</td>\n",
       "    </tr>\n",
       "  </tbody>\n",
       "</table>\n",
       "</div>"
      ],
      "text/plain": [
       "                                           Name  \\\n",
       "137        realme P3x 5G (Lunar Silver, 128 GB)   \n",
       "102       Samsung Galaxy F36 5G (Black, 128 GB)   \n",
       "0                                                 \n",
       "66            Google Pixel 9 (Obsidian, 256 GB)   \n",
       "48   Samsung Galaxy F16 5G (Glam Green, 128 GB)   \n",
       "7         Apple iPhone 16 (Ultramarine, 128 GB)   \n",
       "113                                               \n",
       "72             Google Pixel 8 Pro (Bay, 128 GB)   \n",
       "58          Google Pixel 7 (Lemongrass, 128 GB)   \n",
       "46        Samsung Galaxy F36 5G (Black, 128 GB)   \n",
       "\n",
       "                                              ROM  \\\n",
       "137                         6 GB RAM | 128 GB ROM   \n",
       "102  8 GB RAM | 128 GB ROM | Expandable Upto 2 TB   \n",
       "0                                                   \n",
       "66                         12 GB RAM | 256 GB ROM   \n",
       "48                          6 GB RAM | 128 GB ROM   \n",
       "7                                      128 GB ROM   \n",
       "113                                                 \n",
       "72                         12 GB RAM | 128 GB ROM   \n",
       "58                          8 GB RAM | 128 GB ROM   \n",
       "46   8 GB RAM | 128 GB ROM | Expandable Upto 2 TB   \n",
       "\n",
       "                                          Display  \\\n",
       "137          17.07 cm (6.72 inch) Full HD Display   \n",
       "102          17.02 cm (6.7 inch) Full HD+ Display   \n",
       "0                                                   \n",
       "66                     16.0 cm (6.3 inch) Display   \n",
       "48         16.91 cm (6.657 inch) Full HD+ Display   \n",
       "7    15.49 cm (6.1 inch) Super Retina XDR Display   \n",
       "113                                                 \n",
       "72    17.02 cm (6.7 inch) Full HD+ AMOLED Display   \n",
       "58            16.0 cm (6.3 inch) Full HD+ Display   \n",
       "46           17.02 cm (6.7 inch) Full HD+ Display   \n",
       "\n",
       "                                       Camera Discount Rating Selling Price  \\\n",
       "137       50MP Rear Camera | 8MP Front Camera  23% off    4.4       ₹12,999   \n",
       "102      50MP + 8MP + 2MP | 13MP Front Camera  22% off    4.2       ₹18,999   \n",
       "0                                                                             \n",
       "66          50MP + 48MP | 10.5MP Front Camera  18% off    4.5       ₹64,999   \n",
       "48       50MP + 5MP + 2MP | 13MP Front Camera  25% off    4.2       ₹12,999   \n",
       "7             48MP + 12MP | 12MP Front Camera   6% off    4.6       ₹74,900   \n",
       "113                                                                           \n",
       "72   50MP + 48MP + 48MP | 10.5MP Front Camera  43% off    4.4       ₹59,999   \n",
       "58          50MP + 12MP | 10.8MP Front Camera  50% off    4.3       ₹29,999   \n",
       "46       50MP + 8MP + 2MP | 13MP Front Camera  22% off    4.2       ₹18,999   \n",
       "\n",
       "           MRP  \n",
       "137    ₹16,999  \n",
       "102    ₹24,499  \n",
       "0               \n",
       "66     ₹79,999  \n",
       "48     ₹17,499  \n",
       "7      ₹79,900  \n",
       "113             \n",
       "72   ₹1,06,999  \n",
       "58     ₹59,999  \n",
       "46     ₹24,499  "
      ]
     },
     "execution_count": 140,
     "metadata": {},
     "output_type": "execute_result"
    }
   ],
   "source": [
    "mobile_df.sample(10)"
   ]
  },
  {
   "cell_type": "code",
   "execution_count": 141,
   "id": "11888465",
   "metadata": {},
   "outputs": [
    {
     "name": "stdout",
     "output_type": "stream",
     "text": [
      "<class 'pandas.core.frame.DataFrame'>\n",
      "RangeIndex: 140 entries, 0 to 139\n",
      "Data columns (total 8 columns):\n",
      " #   Column         Non-Null Count  Dtype \n",
      "---  ------         --------------  ----- \n",
      " 0   Name           140 non-null    object\n",
      " 1   ROM            140 non-null    object\n",
      " 2   Display        140 non-null    object\n",
      " 3   Camera         140 non-null    object\n",
      " 4   Discount       140 non-null    object\n",
      " 5   Rating         140 non-null    object\n",
      " 6   Selling Price  140 non-null    object\n",
      " 7   MRP            140 non-null    object\n",
      "dtypes: object(8)\n",
      "memory usage: 8.9+ KB\n"
     ]
    }
   ],
   "source": [
    "mobile_df.info()"
   ]
  },
  {
   "cell_type": "code",
   "execution_count": 142,
   "id": "8cb2a2f2",
   "metadata": {},
   "outputs": [
    {
     "data": {
      "text/plain": [
       "Name             0\n",
       "ROM              0\n",
       "Display          0\n",
       "Camera           0\n",
       "Discount         0\n",
       "Rating           0\n",
       "Selling Price    0\n",
       "MRP              0\n",
       "dtype: int64"
      ]
     },
     "execution_count": 142,
     "metadata": {},
     "output_type": "execute_result"
    }
   ],
   "source": [
    "mobile_df.isna().sum()"
   ]
  },
  {
   "cell_type": "code",
   "execution_count": 143,
   "id": "2133e76f",
   "metadata": {},
   "outputs": [
    {
     "data": {
      "text/plain": [
       "(140, 8)"
      ]
     },
     "execution_count": 143,
     "metadata": {},
     "output_type": "execute_result"
    }
   ],
   "source": [
    "mobile_df.shape"
   ]
  },
  {
   "cell_type": "code",
   "execution_count": 144,
   "id": "675d4b51",
   "metadata": {},
   "outputs": [
    {
     "name": "stdout",
     "output_type": "stream",
     "text": [
      "Number of empty-like rows: 20\n"
     ]
    },
    {
     "data": {
      "text/plain": [
       "(120, 8)"
      ]
     },
     "execution_count": 144,
     "metadata": {},
     "output_type": "execute_result"
    }
   ],
   "source": [
    "empty_like_rows = mobile_df.apply(lambda row: row.astype(str).str.strip().eq(\"\").all(), axis=1)\n",
    "print(f\"Number of empty-like rows: {empty_like_rows.sum()}\")\n",
    "\n",
    "final_df = mobile_df[~empty_like_rows].copy().reset_index(drop=True)\n",
    "final_df.shape"
   ]
  },
  {
   "cell_type": "code",
   "execution_count": 145,
   "id": "791bb567",
   "metadata": {},
   "outputs": [],
   "source": [
    "df = final_df.copy()"
   ]
  },
  {
   "cell_type": "code",
   "execution_count": 146,
   "id": "5f9a8ae3",
   "metadata": {},
   "outputs": [],
   "source": [
    "# Data Cleaning - prices, rating, discount → numeric\n",
    "import re\n",
    "import numpy as np\n",
    "def currency_to_float(s):\n",
    "    if pd.isna(s): return np.nan\n",
    "    s = str(s)\n",
    "    # remove rupee symbol and commas, keep decimals\n",
    "    m = re.search(r'([\\d,]+(?:\\.\\d+)?)', s.replace('₹','').replace('Rs.',''))\n",
    "    return float(m.group(1).replace(',','')) if m else np.nan\n",
    "\n",
    "\n",
    "# prices\n",
    "df['Selling Price Num'] = df['Selling Price'].apply(currency_to_float)\n",
    "df['MRP Num'] = df['MRP'].apply(currency_to_float)\n",
    "\n",
    "# Rating\n",
    "df['Rating'] = pd.to_numeric(df['Rating'], errors='coerce')\n",
    "\n",
    "# Discount -> numeric percent\n",
    "def discount_to_percent(x):\n",
    "    if pd.isna(x): return 0.0\n",
    "    s = str(x)\n",
    "    m = re.search(r'(\\d+)%', s)\n",
    "    return float(m.group(1)) if m else 0.0\n",
    "\n",
    "df['Discount Percent'] = df['Discount'].apply(discount_to_percent)"
   ]
  },
  {
   "cell_type": "code",
   "execution_count": 147,
   "id": "81ff0790",
   "metadata": {},
   "outputs": [
    {
     "data": {
      "text/html": [
       "<div>\n",
       "<style scoped>\n",
       "    .dataframe tbody tr th:only-of-type {\n",
       "        vertical-align: middle;\n",
       "    }\n",
       "\n",
       "    .dataframe tbody tr th {\n",
       "        vertical-align: top;\n",
       "    }\n",
       "\n",
       "    .dataframe thead th {\n",
       "        text-align: right;\n",
       "    }\n",
       "</style>\n",
       "<table border=\"1\" class=\"dataframe\">\n",
       "  <thead>\n",
       "    <tr style=\"text-align: right;\">\n",
       "      <th></th>\n",
       "      <th>Name</th>\n",
       "      <th>ROM</th>\n",
       "      <th>Display</th>\n",
       "      <th>Camera</th>\n",
       "      <th>Discount</th>\n",
       "      <th>Rating</th>\n",
       "      <th>Selling Price</th>\n",
       "      <th>MRP</th>\n",
       "      <th>Selling Price Num</th>\n",
       "      <th>MRP Num</th>\n",
       "      <th>Discount Percent</th>\n",
       "    </tr>\n",
       "  </thead>\n",
       "  <tbody>\n",
       "    <tr>\n",
       "      <th>92</th>\n",
       "      <td>Samsung Galaxy F36 5G (Red, 128 GB)</td>\n",
       "      <td>8 GB RAM | 128 GB ROM | Expandable Upto 2 TB</td>\n",
       "      <td>17.02 cm (6.7 inch) Full HD+ Display</td>\n",
       "      <td>50MP + 8MP + 2MP | 13MP Front Camera</td>\n",
       "      <td>22% off</td>\n",
       "      <td>4.2</td>\n",
       "      <td>₹18,999</td>\n",
       "      <td>₹24,499</td>\n",
       "      <td>18999.0</td>\n",
       "      <td>24499.0</td>\n",
       "      <td>22.0</td>\n",
       "    </tr>\n",
       "    <tr>\n",
       "      <th>93</th>\n",
       "      <td>Samsung Galaxy Z Fold7 5G (Silver Shadow, 256 GB)</td>\n",
       "      <td>12 GB RAM | 256 GB ROM</td>\n",
       "      <td>20.32 cm (8 inch) QXGA+ Display</td>\n",
       "      <td>200MP + 12MP + 10MP | 10MP Front Camera</td>\n",
       "      <td></td>\n",
       "      <td>4.7</td>\n",
       "      <td>₹1,74,999</td>\n",
       "      <td></td>\n",
       "      <td>174999.0</td>\n",
       "      <td>NaN</td>\n",
       "      <td>0.0</td>\n",
       "    </tr>\n",
       "    <tr>\n",
       "      <th>46</th>\n",
       "      <td>Samsung Guru Music 2</td>\n",
       "      <td>10 MB RAM | 10 MB ROM</td>\n",
       "      <td>5.08 cm (2 inch) VGA Display</td>\n",
       "      <td>1100 mAh Battery</td>\n",
       "      <td>45% off</td>\n",
       "      <td>3.1</td>\n",
       "      <td>₹983</td>\n",
       "      <td>₹1,799</td>\n",
       "      <td>983.0</td>\n",
       "      <td>1799.0</td>\n",
       "      <td>45.0</td>\n",
       "    </tr>\n",
       "    <tr>\n",
       "      <th>87</th>\n",
       "      <td>MOTOROLA Edge 60 Fusion 5G (PANTONE Slipstream...</td>\n",
       "      <td>8 GB RAM | 256 GB ROM | Expandable Upto 1 TB</td>\n",
       "      <td>16.94 cm (6.67 inch) Display</td>\n",
       "      <td>50MP + 13MP | 32MP Front Camera</td>\n",
       "      <td>11% off</td>\n",
       "      <td>4.5</td>\n",
       "      <td>₹22,999</td>\n",
       "      <td>₹25,999</td>\n",
       "      <td>22999.0</td>\n",
       "      <td>25999.0</td>\n",
       "      <td>11.0</td>\n",
       "    </tr>\n",
       "    <tr>\n",
       "      <th>83</th>\n",
       "      <td>Samsung Galaxy S24 5G (Amber Yellow, 128 GB)</td>\n",
       "      <td>8 GB RAM | 128 GB ROM</td>\n",
       "      <td>15.75 cm (6.2 inch) Full HD+ Display</td>\n",
       "      <td>50MP + 10MP + 12MP | 12MP Front Camera</td>\n",
       "      <td>33% off</td>\n",
       "      <td>4.6</td>\n",
       "      <td>₹49,999</td>\n",
       "      <td>₹74,999</td>\n",
       "      <td>49999.0</td>\n",
       "      <td>74999.0</td>\n",
       "      <td>33.0</td>\n",
       "    </tr>\n",
       "    <tr>\n",
       "      <th>7</th>\n",
       "      <td>Apple iPhone 15 (Blue, 128 GB)</td>\n",
       "      <td>128 GB ROM</td>\n",
       "      <td>15.49 cm (6.1 inch) Super Retina XDR Display</td>\n",
       "      <td>48MP + 12MP | 12MP Front Camera</td>\n",
       "      <td>7% off</td>\n",
       "      <td>4.6</td>\n",
       "      <td>₹64,900</td>\n",
       "      <td>₹69,900</td>\n",
       "      <td>64900.0</td>\n",
       "      <td>69900.0</td>\n",
       "      <td>7.0</td>\n",
       "    </tr>\n",
       "    <tr>\n",
       "      <th>75</th>\n",
       "      <td>Motorola g45 5G (Pantone Moss, 128 GB)</td>\n",
       "      <td>8 GB RAM | 128 GB ROM | Expandable Upto 1 TB</td>\n",
       "      <td>16.51 cm (6.5 inch) HD+ Display</td>\n",
       "      <td>50MP + 2MP | 16MP Front Camera</td>\n",
       "      <td>20% off</td>\n",
       "      <td>4.3</td>\n",
       "      <td>₹11,999</td>\n",
       "      <td>₹14,999</td>\n",
       "      <td>11999.0</td>\n",
       "      <td>14999.0</td>\n",
       "      <td>20.0</td>\n",
       "    </tr>\n",
       "    <tr>\n",
       "      <th>11</th>\n",
       "      <td>Apple iPhone 16 (Pink, 256 GB)</td>\n",
       "      <td>256 GB ROM</td>\n",
       "      <td>15.49 cm (6.1 inch) Super Retina XDR Display</td>\n",
       "      <td>48MP + 12MP | 12MP Front Camera</td>\n",
       "      <td>5% off</td>\n",
       "      <td>4.6</td>\n",
       "      <td>₹84,900</td>\n",
       "      <td>₹89,900</td>\n",
       "      <td>84900.0</td>\n",
       "      <td>89900.0</td>\n",
       "      <td>5.0</td>\n",
       "    </tr>\n",
       "    <tr>\n",
       "      <th>110</th>\n",
       "      <td>realme P3x 5G (Stellar Pink, 128 GB)</td>\n",
       "      <td>6 GB RAM | 128 GB ROM</td>\n",
       "      <td>17.07 cm (6.72 inch) Full HD Display</td>\n",
       "      <td>50MP Rear Camera | 8MP Front Camera</td>\n",
       "      <td>23% off</td>\n",
       "      <td>4.4</td>\n",
       "      <td>₹12,999</td>\n",
       "      <td>₹16,999</td>\n",
       "      <td>12999.0</td>\n",
       "      <td>16999.0</td>\n",
       "      <td>23.0</td>\n",
       "    </tr>\n",
       "    <tr>\n",
       "      <th>65</th>\n",
       "      <td>Google GP 3XL (White, 128 GB)</td>\n",
       "      <td>4 GB RAM | 128 GB ROM</td>\n",
       "      <td>16.0 cm (6.3 inch) Display</td>\n",
       "      <td>12.2MP Rear Camera</td>\n",
       "      <td>17% off</td>\n",
       "      <td>NaN</td>\n",
       "      <td>₹21,216</td>\n",
       "      <td>₹25,799</td>\n",
       "      <td>21216.0</td>\n",
       "      <td>25799.0</td>\n",
       "      <td>17.0</td>\n",
       "    </tr>\n",
       "  </tbody>\n",
       "</table>\n",
       "</div>"
      ],
      "text/plain": [
       "                                                  Name  \\\n",
       "92                 Samsung Galaxy F36 5G (Red, 128 GB)   \n",
       "93   Samsung Galaxy Z Fold7 5G (Silver Shadow, 256 GB)   \n",
       "46                                Samsung Guru Music 2   \n",
       "87   MOTOROLA Edge 60 Fusion 5G (PANTONE Slipstream...   \n",
       "83        Samsung Galaxy S24 5G (Amber Yellow, 128 GB)   \n",
       "7                       Apple iPhone 15 (Blue, 128 GB)   \n",
       "75              Motorola g45 5G (Pantone Moss, 128 GB)   \n",
       "11                      Apple iPhone 16 (Pink, 256 GB)   \n",
       "110               realme P3x 5G (Stellar Pink, 128 GB)   \n",
       "65                       Google GP 3XL (White, 128 GB)   \n",
       "\n",
       "                                              ROM  \\\n",
       "92   8 GB RAM | 128 GB ROM | Expandable Upto 2 TB   \n",
       "93                         12 GB RAM | 256 GB ROM   \n",
       "46                          10 MB RAM | 10 MB ROM   \n",
       "87   8 GB RAM | 256 GB ROM | Expandable Upto 1 TB   \n",
       "83                          8 GB RAM | 128 GB ROM   \n",
       "7                                      128 GB ROM   \n",
       "75   8 GB RAM | 128 GB ROM | Expandable Upto 1 TB   \n",
       "11                                     256 GB ROM   \n",
       "110                         6 GB RAM | 128 GB ROM   \n",
       "65                          4 GB RAM | 128 GB ROM   \n",
       "\n",
       "                                          Display  \\\n",
       "92           17.02 cm (6.7 inch) Full HD+ Display   \n",
       "93                20.32 cm (8 inch) QXGA+ Display   \n",
       "46                   5.08 cm (2 inch) VGA Display   \n",
       "87                   16.94 cm (6.67 inch) Display   \n",
       "83           15.75 cm (6.2 inch) Full HD+ Display   \n",
       "7    15.49 cm (6.1 inch) Super Retina XDR Display   \n",
       "75                16.51 cm (6.5 inch) HD+ Display   \n",
       "11   15.49 cm (6.1 inch) Super Retina XDR Display   \n",
       "110          17.07 cm (6.72 inch) Full HD Display   \n",
       "65                     16.0 cm (6.3 inch) Display   \n",
       "\n",
       "                                      Camera Discount  Rating Selling Price  \\\n",
       "92      50MP + 8MP + 2MP | 13MP Front Camera  22% off     4.2       ₹18,999   \n",
       "93   200MP + 12MP + 10MP | 10MP Front Camera              4.7     ₹1,74,999   \n",
       "46                          1100 mAh Battery  45% off     3.1          ₹983   \n",
       "87           50MP + 13MP | 32MP Front Camera  11% off     4.5       ₹22,999   \n",
       "83    50MP + 10MP + 12MP | 12MP Front Camera  33% off     4.6       ₹49,999   \n",
       "7            48MP + 12MP | 12MP Front Camera   7% off     4.6       ₹64,900   \n",
       "75            50MP + 2MP | 16MP Front Camera  20% off     4.3       ₹11,999   \n",
       "11           48MP + 12MP | 12MP Front Camera   5% off     4.6       ₹84,900   \n",
       "110      50MP Rear Camera | 8MP Front Camera  23% off     4.4       ₹12,999   \n",
       "65                        12.2MP Rear Camera  17% off     NaN       ₹21,216   \n",
       "\n",
       "         MRP  Selling Price Num  MRP Num  Discount Percent  \n",
       "92   ₹24,499            18999.0  24499.0              22.0  \n",
       "93                     174999.0      NaN               0.0  \n",
       "46    ₹1,799              983.0   1799.0              45.0  \n",
       "87   ₹25,999            22999.0  25999.0              11.0  \n",
       "83   ₹74,999            49999.0  74999.0              33.0  \n",
       "7    ₹69,900            64900.0  69900.0               7.0  \n",
       "75   ₹14,999            11999.0  14999.0              20.0  \n",
       "11   ₹89,900            84900.0  89900.0               5.0  \n",
       "110  ₹16,999            12999.0  16999.0              23.0  \n",
       "65   ₹25,799            21216.0  25799.0              17.0  "
      ]
     },
     "execution_count": 147,
     "metadata": {},
     "output_type": "execute_result"
    }
   ],
   "source": [
    "df.sample(10)"
   ]
  },
  {
   "cell_type": "code",
   "execution_count": 148,
   "id": "756c1bd0",
   "metadata": {},
   "outputs": [],
   "source": [
    "# Parse specs column(s) (ROM, RAM, Display, Camera)\n",
    "def parse_ram_rom(cell):\n",
    "    ram = None\n",
    "    rom = None\n",
    "    if pd.isna(cell): return pd.Series({'RAM_GB':np.nan,'ROM_GB':np.nan})\n",
    "    parts = [p.strip() for p in str(cell).split('|')]\n",
    "    for p in parts:\n",
    "        if re.search(r'(\\d+)\\s*GB\\s*RAM', p, re.I):\n",
    "            ram = int(re.search(r'(\\d+)', p).group(1))\n",
    "        if re.search(r'(\\d+)\\s*GB\\s*ROM', p, re.I):\n",
    "            rom = int(re.search(r'(\\d+)', p).group(1))\n",
    "        # sometimes it might be \"256 GB\" without label\n",
    "        if ram is None and re.search(r'^\\d+\\s*GB$', p):\n",
    "            # heuristics: if first => ram else rom (or inspect)\n",
    "            pass\n",
    "    return pd.Series({'RAM_GB':ram, 'ROM_GB':rom})\n",
    "\n",
    "df[['RAM_GB','ROM_GB']] = df['ROM'].apply(parse_ram_rom)\n"
   ]
  },
  {
   "cell_type": "code",
   "execution_count": 149,
   "id": "d7ad821f",
   "metadata": {},
   "outputs": [
    {
     "data": {
      "text/html": [
       "<div>\n",
       "<style scoped>\n",
       "    .dataframe tbody tr th:only-of-type {\n",
       "        vertical-align: middle;\n",
       "    }\n",
       "\n",
       "    .dataframe tbody tr th {\n",
       "        vertical-align: top;\n",
       "    }\n",
       "\n",
       "    .dataframe thead th {\n",
       "        text-align: right;\n",
       "    }\n",
       "</style>\n",
       "<table border=\"1\" class=\"dataframe\">\n",
       "  <thead>\n",
       "    <tr style=\"text-align: right;\">\n",
       "      <th></th>\n",
       "      <th>Name</th>\n",
       "      <th>ROM</th>\n",
       "      <th>Display</th>\n",
       "      <th>Camera</th>\n",
       "      <th>Discount</th>\n",
       "      <th>Rating</th>\n",
       "      <th>Selling Price</th>\n",
       "      <th>MRP</th>\n",
       "      <th>Selling Price Num</th>\n",
       "      <th>MRP Num</th>\n",
       "      <th>Discount Percent</th>\n",
       "      <th>RAM_GB</th>\n",
       "      <th>ROM_GB</th>\n",
       "    </tr>\n",
       "  </thead>\n",
       "  <tbody>\n",
       "    <tr>\n",
       "      <th>19</th>\n",
       "      <td>Apple iPhone 16 (White, 512 GB)</td>\n",
       "      <td>512 GB ROM</td>\n",
       "      <td>15.49 cm (6.1 inch) Super Retina XDR Display</td>\n",
       "      <td>48MP + 12MP | 12MP Front Camera</td>\n",
       "      <td>4% off</td>\n",
       "      <td>4.6</td>\n",
       "      <td>₹1,04,900</td>\n",
       "      <td>₹1,09,900</td>\n",
       "      <td>104900.0</td>\n",
       "      <td>109900.0</td>\n",
       "      <td>4.0</td>\n",
       "      <td>NaN</td>\n",
       "      <td>512.0</td>\n",
       "    </tr>\n",
       "    <tr>\n",
       "      <th>109</th>\n",
       "      <td>realme P3 5G (Space Silver, 128 GB)</td>\n",
       "      <td>6 GB RAM | 128 GB ROM | Expandable Upto 2 TB</td>\n",
       "      <td>16.94 cm (6.67 inch) Full HD+ Display</td>\n",
       "      <td>50MP + 2MP | 16MP Front Camera</td>\n",
       "      <td>20% off</td>\n",
       "      <td>4.4</td>\n",
       "      <td>₹15,999</td>\n",
       "      <td>₹19,999</td>\n",
       "      <td>15999.0</td>\n",
       "      <td>19999.0</td>\n",
       "      <td>20.0</td>\n",
       "      <td>6.0</td>\n",
       "      <td>128.0</td>\n",
       "    </tr>\n",
       "    <tr>\n",
       "      <th>5</th>\n",
       "      <td>Apple iPhone 16 (Ultramarine, 128 GB)</td>\n",
       "      <td>128 GB ROM</td>\n",
       "      <td>15.49 cm (6.1 inch) Super Retina XDR Display</td>\n",
       "      <td>48MP + 12MP | 12MP Front Camera</td>\n",
       "      <td>6% off</td>\n",
       "      <td>4.6</td>\n",
       "      <td>₹74,900</td>\n",
       "      <td>₹79,900</td>\n",
       "      <td>74900.0</td>\n",
       "      <td>79900.0</td>\n",
       "      <td>6.0</td>\n",
       "      <td>NaN</td>\n",
       "      <td>128.0</td>\n",
       "    </tr>\n",
       "    <tr>\n",
       "      <th>10</th>\n",
       "      <td>Apple iPhone 16 (Teal, 256 GB)</td>\n",
       "      <td>256 GB ROM</td>\n",
       "      <td>15.49 cm (6.1 inch) Super Retina XDR Display</td>\n",
       "      <td>48MP + 12MP | 12MP Front Camera</td>\n",
       "      <td>5% off</td>\n",
       "      <td>4.6</td>\n",
       "      <td>₹84,900</td>\n",
       "      <td>₹89,900</td>\n",
       "      <td>84900.0</td>\n",
       "      <td>89900.0</td>\n",
       "      <td>5.0</td>\n",
       "      <td>NaN</td>\n",
       "      <td>256.0</td>\n",
       "    </tr>\n",
       "    <tr>\n",
       "      <th>62</th>\n",
       "      <td>Google Pixel 8 Pro (Bay, 128 GB)</td>\n",
       "      <td>12 GB RAM | 128 GB ROM</td>\n",
       "      <td>17.02 cm (6.7 inch) Full HD+ AMOLED Display</td>\n",
       "      <td>50MP + 48MP + 48MP | 10.5MP Front Camera</td>\n",
       "      <td>43% off</td>\n",
       "      <td>4.4</td>\n",
       "      <td>₹59,999</td>\n",
       "      <td>₹1,06,999</td>\n",
       "      <td>59999.0</td>\n",
       "      <td>106999.0</td>\n",
       "      <td>43.0</td>\n",
       "      <td>12.0</td>\n",
       "      <td>128.0</td>\n",
       "    </tr>\n",
       "    <tr>\n",
       "      <th>1</th>\n",
       "      <td>Apple iPhone 16 (Teal, 128 GB)</td>\n",
       "      <td>128 GB ROM</td>\n",
       "      <td>15.49 cm (6.1 inch) Super Retina XDR Display</td>\n",
       "      <td>48MP + 12MP | 12MP Front Camera</td>\n",
       "      <td>6% off</td>\n",
       "      <td>4.6</td>\n",
       "      <td>₹74,900</td>\n",
       "      <td>₹79,900</td>\n",
       "      <td>74900.0</td>\n",
       "      <td>79900.0</td>\n",
       "      <td>6.0</td>\n",
       "      <td>NaN</td>\n",
       "      <td>128.0</td>\n",
       "    </tr>\n",
       "    <tr>\n",
       "      <th>76</th>\n",
       "      <td>Motorola G85 5G (Olive Green, 128 GB)</td>\n",
       "      <td>8 GB RAM | 128 GB ROM</td>\n",
       "      <td>16.94 cm (6.67 inch) Full HD+ Display</td>\n",
       "      <td>50MP + 8MP | 32MP Front Camera</td>\n",
       "      <td>23% off</td>\n",
       "      <td>4.4</td>\n",
       "      <td>₹15,999</td>\n",
       "      <td>₹20,999</td>\n",
       "      <td>15999.0</td>\n",
       "      <td>20999.0</td>\n",
       "      <td>23.0</td>\n",
       "      <td>8.0</td>\n",
       "      <td>128.0</td>\n",
       "    </tr>\n",
       "    <tr>\n",
       "      <th>69</th>\n",
       "      <td>Google Pixel 6a (Chalk, 128 GB)</td>\n",
       "      <td>6 GB RAM | 128 GB ROM</td>\n",
       "      <td>15.6 cm (6.14 inch) Full HD+ Display</td>\n",
       "      <td>12.2MP + 12MP | 8MP Front Camera</td>\n",
       "      <td>6% off</td>\n",
       "      <td>4.3</td>\n",
       "      <td>₹41,219</td>\n",
       "      <td>₹43,999</td>\n",
       "      <td>41219.0</td>\n",
       "      <td>43999.0</td>\n",
       "      <td>6.0</td>\n",
       "      <td>6.0</td>\n",
       "      <td>128.0</td>\n",
       "    </tr>\n",
       "    <tr>\n",
       "      <th>114</th>\n",
       "      <td>realme Narzo 80 Lite 5G (Crystal Purple, 128 GB)</td>\n",
       "      <td>6 GB RAM | 128 GB ROM</td>\n",
       "      <td>16.94 cm (6.67 inch) Display</td>\n",
       "      <td>50MP Rear Camera</td>\n",
       "      <td>21% off</td>\n",
       "      <td>4.5</td>\n",
       "      <td>₹11,790</td>\n",
       "      <td>₹14,999</td>\n",
       "      <td>11790.0</td>\n",
       "      <td>14999.0</td>\n",
       "      <td>21.0</td>\n",
       "      <td>6.0</td>\n",
       "      <td>128.0</td>\n",
       "    </tr>\n",
       "    <tr>\n",
       "      <th>58</th>\n",
       "      <td>Google Pixel 8a (Bay, 128 GB)</td>\n",
       "      <td>8 GB RAM | 128 GB ROM</td>\n",
       "      <td>15.49 cm (6.1 inch) Full HD+ Display</td>\n",
       "      <td>64MP + 13MP | 13MP Front Camera</td>\n",
       "      <td>28% off</td>\n",
       "      <td>4.3</td>\n",
       "      <td>₹37,999</td>\n",
       "      <td>₹52,999</td>\n",
       "      <td>37999.0</td>\n",
       "      <td>52999.0</td>\n",
       "      <td>28.0</td>\n",
       "      <td>8.0</td>\n",
       "      <td>128.0</td>\n",
       "    </tr>\n",
       "    <tr>\n",
       "      <th>60</th>\n",
       "      <td>Google Pixel 9 Pro Fold (Obsidian, 256 GB)</td>\n",
       "      <td>16 GB RAM | 256 GB ROM</td>\n",
       "      <td>16.0 cm (6.3 inch) Display</td>\n",
       "      <td>48MP + 10.5MP + 10.8MP | 10MP Front Camera</td>\n",
       "      <td>24% off</td>\n",
       "      <td>4.6</td>\n",
       "      <td>₹1,29,999</td>\n",
       "      <td>₹1,72,999</td>\n",
       "      <td>129999.0</td>\n",
       "      <td>172999.0</td>\n",
       "      <td>24.0</td>\n",
       "      <td>16.0</td>\n",
       "      <td>256.0</td>\n",
       "    </tr>\n",
       "    <tr>\n",
       "      <th>53</th>\n",
       "      <td>Google Pixel 8 Pro (Obsidian, 128 GB)</td>\n",
       "      <td>12 GB RAM | 128 GB ROM</td>\n",
       "      <td>17.02 cm (6.7 inch) Full HD+ AMOLED Display</td>\n",
       "      <td>50MP + 48MP + 48MP | 10.5MP Front Camera</td>\n",
       "      <td>43% off</td>\n",
       "      <td>4.4</td>\n",
       "      <td>₹59,999</td>\n",
       "      <td>₹1,06,999</td>\n",
       "      <td>59999.0</td>\n",
       "      <td>106999.0</td>\n",
       "      <td>43.0</td>\n",
       "      <td>12.0</td>\n",
       "      <td>128.0</td>\n",
       "    </tr>\n",
       "    <tr>\n",
       "      <th>20</th>\n",
       "      <td>Apple iPhone 16e (White, 128 GB)</td>\n",
       "      <td>128 GB ROM</td>\n",
       "      <td>15.49 cm (6.1 inch) Super Retina XDR Display</td>\n",
       "      <td>48MP Rear Camera | 12MP Front Camera</td>\n",
       "      <td>8% off</td>\n",
       "      <td>4.6</td>\n",
       "      <td>₹54,900</td>\n",
       "      <td>₹59,900</td>\n",
       "      <td>54900.0</td>\n",
       "      <td>59900.0</td>\n",
       "      <td>8.0</td>\n",
       "      <td>NaN</td>\n",
       "      <td>128.0</td>\n",
       "    </tr>\n",
       "    <tr>\n",
       "      <th>111</th>\n",
       "      <td>realme P3 5G (Nebula Pink, 128 GB)</td>\n",
       "      <td>8 GB RAM | 128 GB ROM | Expandable Upto 2 TB</td>\n",
       "      <td>16.94 cm (6.67 inch) Full HD+ Display</td>\n",
       "      <td>50MP + 2MP | 16MP Front Camera</td>\n",
       "      <td>19% off</td>\n",
       "      <td>4.4</td>\n",
       "      <td>₹16,999</td>\n",
       "      <td>₹20,999</td>\n",
       "      <td>16999.0</td>\n",
       "      <td>20999.0</td>\n",
       "      <td>19.0</td>\n",
       "      <td>8.0</td>\n",
       "      <td>128.0</td>\n",
       "    </tr>\n",
       "    <tr>\n",
       "      <th>77</th>\n",
       "      <td>Samsung Galaxy F36 5G (Violet, 128 GB)</td>\n",
       "      <td>6 GB RAM | 128 GB ROM | Expandable Upto 2 TB</td>\n",
       "      <td>17.02 cm (6.7 inch) Full HD+ Display</td>\n",
       "      <td>50MP + 8MP + 2MP | 13MP Front Camera</td>\n",
       "      <td>23% off</td>\n",
       "      <td>4.4</td>\n",
       "      <td>₹17,499</td>\n",
       "      <td>₹22,999</td>\n",
       "      <td>17499.0</td>\n",
       "      <td>22999.0</td>\n",
       "      <td>23.0</td>\n",
       "      <td>6.0</td>\n",
       "      <td>128.0</td>\n",
       "    </tr>\n",
       "    <tr>\n",
       "      <th>21</th>\n",
       "      <td>Apple iPhone 15 Plus (Pink, 128 GB)</td>\n",
       "      <td>128 GB ROM</td>\n",
       "      <td>17.02 cm (6.7 inch) Super Retina XDR Display</td>\n",
       "      <td>48MP + 12MP | 12MP Front Camera</td>\n",
       "      <td>9% off</td>\n",
       "      <td>4.6</td>\n",
       "      <td>₹71,999</td>\n",
       "      <td>₹79,900</td>\n",
       "      <td>71999.0</td>\n",
       "      <td>79900.0</td>\n",
       "      <td>9.0</td>\n",
       "      <td>NaN</td>\n",
       "      <td>128.0</td>\n",
       "    </tr>\n",
       "    <tr>\n",
       "      <th>83</th>\n",
       "      <td>Samsung Galaxy S24 5G (Amber Yellow, 128 GB)</td>\n",
       "      <td>8 GB RAM | 128 GB ROM</td>\n",
       "      <td>15.75 cm (6.2 inch) Full HD+ Display</td>\n",
       "      <td>50MP + 10MP + 12MP | 12MP Front Camera</td>\n",
       "      <td>33% off</td>\n",
       "      <td>4.6</td>\n",
       "      <td>₹49,999</td>\n",
       "      <td>₹74,999</td>\n",
       "      <td>49999.0</td>\n",
       "      <td>74999.0</td>\n",
       "      <td>33.0</td>\n",
       "      <td>8.0</td>\n",
       "      <td>128.0</td>\n",
       "    </tr>\n",
       "    <tr>\n",
       "      <th>95</th>\n",
       "      <td>MOTOROLA g35 5G (Midnight Black, 128 GB)</td>\n",
       "      <td>4 GB RAM | 128 GB ROM | Expandable Upto 1 TB</td>\n",
       "      <td>17.07 cm (6.72 inch) Full HD+ Display</td>\n",
       "      <td>50MP + 8MP | 16MP Front Camera</td>\n",
       "      <td>20% off</td>\n",
       "      <td>4.2</td>\n",
       "      <td>₹9,999</td>\n",
       "      <td>₹12,499</td>\n",
       "      <td>9999.0</td>\n",
       "      <td>12499.0</td>\n",
       "      <td>20.0</td>\n",
       "      <td>4.0</td>\n",
       "      <td>128.0</td>\n",
       "    </tr>\n",
       "    <tr>\n",
       "      <th>117</th>\n",
       "      <td>Samsung Galaxy F36 5G (Violet, 128 GB)</td>\n",
       "      <td>8 GB RAM | 128 GB ROM | Expandable Upto 2 TB</td>\n",
       "      <td>17.02 cm (6.7 inch) Full HD+ Display</td>\n",
       "      <td>50MP + 8MP + 2MP | 13MP Front Camera</td>\n",
       "      <td>22% off</td>\n",
       "      <td>4.2</td>\n",
       "      <td>₹18,999</td>\n",
       "      <td>₹24,499</td>\n",
       "      <td>18999.0</td>\n",
       "      <td>24499.0</td>\n",
       "      <td>22.0</td>\n",
       "      <td>8.0</td>\n",
       "      <td>128.0</td>\n",
       "    </tr>\n",
       "    <tr>\n",
       "      <th>28</th>\n",
       "      <td>Samsung Galaxy F05 (Twilight Blue, 64 GB)</td>\n",
       "      <td>4 GB RAM | 64 GB ROM | Expandable Upto 1 TB</td>\n",
       "      <td>17.12 cm (6.74 inch) HD+ Display</td>\n",
       "      <td>50MP + 2MP | 8MP Front Camera</td>\n",
       "      <td>35% off</td>\n",
       "      <td>4.2</td>\n",
       "      <td>₹6,499</td>\n",
       "      <td>₹9,999</td>\n",
       "      <td>6499.0</td>\n",
       "      <td>9999.0</td>\n",
       "      <td>35.0</td>\n",
       "      <td>4.0</td>\n",
       "      <td>64.0</td>\n",
       "    </tr>\n",
       "  </tbody>\n",
       "</table>\n",
       "</div>"
      ],
      "text/plain": [
       "                                                 Name  \\\n",
       "19                    Apple iPhone 16 (White, 512 GB)   \n",
       "109               realme P3 5G (Space Silver, 128 GB)   \n",
       "5               Apple iPhone 16 (Ultramarine, 128 GB)   \n",
       "10                     Apple iPhone 16 (Teal, 256 GB)   \n",
       "62                   Google Pixel 8 Pro (Bay, 128 GB)   \n",
       "1                      Apple iPhone 16 (Teal, 128 GB)   \n",
       "76              Motorola G85 5G (Olive Green, 128 GB)   \n",
       "69                    Google Pixel 6a (Chalk, 128 GB)   \n",
       "114  realme Narzo 80 Lite 5G (Crystal Purple, 128 GB)   \n",
       "58                      Google Pixel 8a (Bay, 128 GB)   \n",
       "60         Google Pixel 9 Pro Fold (Obsidian, 256 GB)   \n",
       "53              Google Pixel 8 Pro (Obsidian, 128 GB)   \n",
       "20                   Apple iPhone 16e (White, 128 GB)   \n",
       "111                realme P3 5G (Nebula Pink, 128 GB)   \n",
       "77             Samsung Galaxy F36 5G (Violet, 128 GB)   \n",
       "21                Apple iPhone 15 Plus (Pink, 128 GB)   \n",
       "83       Samsung Galaxy S24 5G (Amber Yellow, 128 GB)   \n",
       "95           MOTOROLA g35 5G (Midnight Black, 128 GB)   \n",
       "117            Samsung Galaxy F36 5G (Violet, 128 GB)   \n",
       "28          Samsung Galaxy F05 (Twilight Blue, 64 GB)   \n",
       "\n",
       "                                              ROM  \\\n",
       "19                                     512 GB ROM   \n",
       "109  6 GB RAM | 128 GB ROM | Expandable Upto 2 TB   \n",
       "5                                      128 GB ROM   \n",
       "10                                     256 GB ROM   \n",
       "62                         12 GB RAM | 128 GB ROM   \n",
       "1                                      128 GB ROM   \n",
       "76                          8 GB RAM | 128 GB ROM   \n",
       "69                          6 GB RAM | 128 GB ROM   \n",
       "114                         6 GB RAM | 128 GB ROM   \n",
       "58                          8 GB RAM | 128 GB ROM   \n",
       "60                         16 GB RAM | 256 GB ROM   \n",
       "53                         12 GB RAM | 128 GB ROM   \n",
       "20                                     128 GB ROM   \n",
       "111  8 GB RAM | 128 GB ROM | Expandable Upto 2 TB   \n",
       "77   6 GB RAM | 128 GB ROM | Expandable Upto 2 TB   \n",
       "21                                     128 GB ROM   \n",
       "83                          8 GB RAM | 128 GB ROM   \n",
       "95   4 GB RAM | 128 GB ROM | Expandable Upto 1 TB   \n",
       "117  8 GB RAM | 128 GB ROM | Expandable Upto 2 TB   \n",
       "28    4 GB RAM | 64 GB ROM | Expandable Upto 1 TB   \n",
       "\n",
       "                                          Display  \\\n",
       "19   15.49 cm (6.1 inch) Super Retina XDR Display   \n",
       "109         16.94 cm (6.67 inch) Full HD+ Display   \n",
       "5    15.49 cm (6.1 inch) Super Retina XDR Display   \n",
       "10   15.49 cm (6.1 inch) Super Retina XDR Display   \n",
       "62    17.02 cm (6.7 inch) Full HD+ AMOLED Display   \n",
       "1    15.49 cm (6.1 inch) Super Retina XDR Display   \n",
       "76          16.94 cm (6.67 inch) Full HD+ Display   \n",
       "69           15.6 cm (6.14 inch) Full HD+ Display   \n",
       "114                  16.94 cm (6.67 inch) Display   \n",
       "58           15.49 cm (6.1 inch) Full HD+ Display   \n",
       "60                     16.0 cm (6.3 inch) Display   \n",
       "53    17.02 cm (6.7 inch) Full HD+ AMOLED Display   \n",
       "20   15.49 cm (6.1 inch) Super Retina XDR Display   \n",
       "111         16.94 cm (6.67 inch) Full HD+ Display   \n",
       "77           17.02 cm (6.7 inch) Full HD+ Display   \n",
       "21   17.02 cm (6.7 inch) Super Retina XDR Display   \n",
       "83           15.75 cm (6.2 inch) Full HD+ Display   \n",
       "95          17.07 cm (6.72 inch) Full HD+ Display   \n",
       "117          17.02 cm (6.7 inch) Full HD+ Display   \n",
       "28               17.12 cm (6.74 inch) HD+ Display   \n",
       "\n",
       "                                         Camera Discount  Rating  \\\n",
       "19              48MP + 12MP | 12MP Front Camera   4% off     4.6   \n",
       "109              50MP + 2MP | 16MP Front Camera  20% off     4.4   \n",
       "5               48MP + 12MP | 12MP Front Camera   6% off     4.6   \n",
       "10              48MP + 12MP | 12MP Front Camera   5% off     4.6   \n",
       "62     50MP + 48MP + 48MP | 10.5MP Front Camera  43% off     4.4   \n",
       "1               48MP + 12MP | 12MP Front Camera   6% off     4.6   \n",
       "76               50MP + 8MP | 32MP Front Camera  23% off     4.4   \n",
       "69             12.2MP + 12MP | 8MP Front Camera   6% off     4.3   \n",
       "114                            50MP Rear Camera  21% off     4.5   \n",
       "58              64MP + 13MP | 13MP Front Camera  28% off     4.3   \n",
       "60   48MP + 10.5MP + 10.8MP | 10MP Front Camera  24% off     4.6   \n",
       "53     50MP + 48MP + 48MP | 10.5MP Front Camera  43% off     4.4   \n",
       "20         48MP Rear Camera | 12MP Front Camera   8% off     4.6   \n",
       "111              50MP + 2MP | 16MP Front Camera  19% off     4.4   \n",
       "77         50MP + 8MP + 2MP | 13MP Front Camera  23% off     4.4   \n",
       "21              48MP + 12MP | 12MP Front Camera   9% off     4.6   \n",
       "83       50MP + 10MP + 12MP | 12MP Front Camera  33% off     4.6   \n",
       "95               50MP + 8MP | 16MP Front Camera  20% off     4.2   \n",
       "117        50MP + 8MP + 2MP | 13MP Front Camera  22% off     4.2   \n",
       "28                50MP + 2MP | 8MP Front Camera  35% off     4.2   \n",
       "\n",
       "    Selling Price        MRP  Selling Price Num   MRP Num  Discount Percent  \\\n",
       "19      ₹1,04,900  ₹1,09,900           104900.0  109900.0               4.0   \n",
       "109       ₹15,999    ₹19,999            15999.0   19999.0              20.0   \n",
       "5         ₹74,900    ₹79,900            74900.0   79900.0               6.0   \n",
       "10        ₹84,900    ₹89,900            84900.0   89900.0               5.0   \n",
       "62        ₹59,999  ₹1,06,999            59999.0  106999.0              43.0   \n",
       "1         ₹74,900    ₹79,900            74900.0   79900.0               6.0   \n",
       "76        ₹15,999    ₹20,999            15999.0   20999.0              23.0   \n",
       "69        ₹41,219    ₹43,999            41219.0   43999.0               6.0   \n",
       "114       ₹11,790    ₹14,999            11790.0   14999.0              21.0   \n",
       "58        ₹37,999    ₹52,999            37999.0   52999.0              28.0   \n",
       "60      ₹1,29,999  ₹1,72,999           129999.0  172999.0              24.0   \n",
       "53        ₹59,999  ₹1,06,999            59999.0  106999.0              43.0   \n",
       "20        ₹54,900    ₹59,900            54900.0   59900.0               8.0   \n",
       "111       ₹16,999    ₹20,999            16999.0   20999.0              19.0   \n",
       "77        ₹17,499    ₹22,999            17499.0   22999.0              23.0   \n",
       "21        ₹71,999    ₹79,900            71999.0   79900.0               9.0   \n",
       "83        ₹49,999    ₹74,999            49999.0   74999.0              33.0   \n",
       "95         ₹9,999    ₹12,499             9999.0   12499.0              20.0   \n",
       "117       ₹18,999    ₹24,499            18999.0   24499.0              22.0   \n",
       "28         ₹6,499     ₹9,999             6499.0    9999.0              35.0   \n",
       "\n",
       "     RAM_GB  ROM_GB  \n",
       "19      NaN   512.0  \n",
       "109     6.0   128.0  \n",
       "5       NaN   128.0  \n",
       "10      NaN   256.0  \n",
       "62     12.0   128.0  \n",
       "1       NaN   128.0  \n",
       "76      8.0   128.0  \n",
       "69      6.0   128.0  \n",
       "114     6.0   128.0  \n",
       "58      8.0   128.0  \n",
       "60     16.0   256.0  \n",
       "53     12.0   128.0  \n",
       "20      NaN   128.0  \n",
       "111     8.0   128.0  \n",
       "77      6.0   128.0  \n",
       "21      NaN   128.0  \n",
       "83      8.0   128.0  \n",
       "95      4.0   128.0  \n",
       "117     8.0   128.0  \n",
       "28      4.0    64.0  "
      ]
     },
     "execution_count": 149,
     "metadata": {},
     "output_type": "execute_result"
    }
   ],
   "source": [
    "df.sample(20)"
   ]
  },
  {
   "cell_type": "code",
   "execution_count": 150,
   "id": "1d7d1a02",
   "metadata": {},
   "outputs": [],
   "source": [
    "def parse_camera(camcell):\n",
    "    # e.g. \"50MP + 5MP + 2MP | 13MP Front Camera\"\n",
    "    if pd.isna(camcell): return np.nan\n",
    "    s = str(camcell)\n",
    "    # get first rear camera number\n",
    "    m = re.search(r'(\\d+)\\s*MP', s)\n",
    "    return float(m.group(1)) if m else np.nan\n",
    "\n",
    "df['Main_Cam_MP'] = df['Camera'].apply(parse_camera)"
   ]
  },
  {
   "cell_type": "code",
   "execution_count": 151,
   "id": "322d2f59",
   "metadata": {},
   "outputs": [],
   "source": [
    "def parse_display(displaycell):\n",
    "    if pd.isna(displaycell): return np.nan\n",
    "    s = str(displaycell)\n",
    "    m = re.search(r'([\\d\\.]+)\\s*cm\\s*\\(([\\d\\.]+)\\s*inch\\)', s)\n",
    "    if m:\n",
    "        return float(m.group(2))  # use inch\n",
    "    m2 = re.search(r'([\\d\\.]+)\\s*inch', s)\n",
    "    return float(m2.group(1)) if m2 else np.nan\n",
    "\n",
    "df['Display_inch'] = df['Display'].apply(parse_display)"
   ]
  },
  {
   "cell_type": "code",
   "execution_count": 152,
   "id": "9bb02b40",
   "metadata": {},
   "outputs": [],
   "source": [
    "df['Brand'] = df['Name'].str.split().str[0].str.lower()\n",
    "df['Has_Discount'] = (df['Discount Percent'] > 0).astype(int)\n",
    "df['Price_per_GB'] = df['Selling Price Num'] / df['ROM_GB']"
   ]
  },
  {
   "cell_type": "code",
   "execution_count": 153,
   "id": "7e9f3a48",
   "metadata": {},
   "outputs": [
    {
     "data": {
      "image/png": "[encoded data removed]",
      "text/plain": [
       "<Figure size 800x500 with 1 Axes>"
      ]
     },
     "metadata": {},
     "output_type": "display_data"
    },
    {
     "data": {
      "image/png": "[encoded data removed]",
      "text/plain": [
       "<Figure size 800x600 with 1 Axes>"
      ]
     },
     "metadata": {},
     "output_type": "display_data"
    },
    {
     "data": {
      "image/png": "[encoded data removed]",
      "text/plain": [
       "<Figure size 1000x600 with 1 Axes>"
      ]
     },
     "metadata": {},
     "output_type": "display_data"
    }
   ],
   "source": [
    "# Exploratory Data Analysis / Visualizations (ideas + code)\n",
    "\n",
    "import matplotlib.pyplot as plt\n",
    "import seaborn as sns\n",
    "\n",
    "plt.figure(figsize=(8,5))\n",
    "sns.histplot(df['Selling Price Num'].dropna(), kde=True)\n",
    "plt.title('Selling Price distribution')\n",
    "plt.show()\n",
    "\n",
    "plt.figure(figsize=(8,6))\n",
    "sns.scatterplot(data=df, x='ROM_GB', y='Selling Price Num', hue='Brand')\n",
    "plt.title('Price vs ROM')\n",
    "plt.show()\n",
    "\n",
    "plt.figure(figsize=(10,6))\n",
    "sns.boxplot(data=df, x='Brand', y='Selling Price Num')\n",
    "plt.xticks(rotation=45)\n",
    "plt.show()"
   ]
  },
  {
   "cell_type": "code",
   "execution_count": 154,
   "id": "889bfaf5",
   "metadata": {},
   "outputs": [
    {
     "data": {
      "application/vnd.plotly.v1+json": {
       "config": {
        "plotlyServerURL": "https://plot.ly"
       },
       "data": [
        {
         "bingroup": "x",
         "hovertemplate": "Selling Price Num=%{x}<br>count=%{y}<extra></extra>",
         "legendgroup": "",
         "marker": {
          "color": "#636efa",
          "pattern": {
           "shape": ""
          }
         },
         "name": "",
         "nbinsx": 30,
         "orientation": "v",
         "showlegend": false,
         "type": "histogram",
         "x": {
          "bdata": "x68AAJQkAQCUJAEAlCQBAJQkAQCUJAEApEsBAIT9AAD+zgAApEsBAKRLAQCkSwEApEsBAIT9AACE/QAA/s4AAJQkAQCkSwEAtHIBAMSZAQB01gAAPxkBAP7OAAAO9gAAP5wAAFtEAADwAgAAXgMAAGMZAABPwwAAcwMAAO4CAADEAwAAfwMAAI9lAADPhAAAygMAAMcyAAAAAwAA0gMAADdKAAB32gIAxzIAABslAAA3SgAAN0oAANcDAADHMgAAL3UAAG+UAABvlAAAT8MAAE/DAABf6gAA5/0AAE/DAADn/QAA5/0AAG+UAAAnmgEAz/sBAL/UAQBf6gAAL3UAAG+UAADgUgAAj18BAMevAADn/QAAA6EAAF9tAADn/QAAj2UAAM+EAADfLgAA3y4AAH8+AABbRAAAfz4AAE9GAADXWQAAN0oAAD+cAABPwwAA3y4AAH8+AADXWQAA11kAADdKAAB32gIAp2EAAN8uAAA3SgAAl6sCAAdSAAAPJwAAj2UAAM+EAABdQgAAfz4AAGdCAAA/nAAAxzIAAH8+AAA3SgAAQ0gAAFtEAABPwwAANUIAAH8+AADHMgAAZ0IAADdKAAB32gIADi4AAAwwAAA3SgAAN0oAANdZAADHMgAA",
          "dtype": "i4"
         },
         "xaxis": "x",
         "yaxis": "y"
        },
        {
         "hovertemplate": "Selling Price Num=%{x}<extra></extra>",
         "legendgroup": "",
         "marker": {
          "color": "#636efa"
         },
         "name": "",
         "notched": true,
         "showlegend": false,
         "type": "box",
         "x": {
          "bdata": "x68AAJQkAQCUJAEAlCQBAJQkAQCUJAEApEsBAIT9AAD+zgAApEsBAKRLAQCkSwEApEsBAIT9AACE/QAA/s4AAJQkAQCkSwEAtHIBAMSZAQB01gAAPxkBAP7OAAAO9gAAP5wAAFtEAADwAgAAXgMAAGMZAABPwwAAcwMAAO4CAADEAwAAfwMAAI9lAADPhAAAygMAAMcyAAAAAwAA0gMAADdKAAB32gIAxzIAABslAAA3SgAAN0oAANcDAADHMgAAL3UAAG+UAABvlAAAT8MAAE/DAABf6gAA5/0AAE/DAADn/QAA5/0AAG+UAAAnmgEAz/sBAL/UAQBf6gAAL3UAAG+UAADgUgAAj18BAMevAADn/QAAA6EAAF9tAADn/QAAj2UAAM+EAADfLgAA3y4AAH8+AABbRAAAfz4AAE9GAADXWQAAN0oAAD+cAABPwwAA3y4AAH8+AADXWQAA11kAADdKAAB32gIAp2EAAN8uAAA3SgAAl6sCAAdSAAAPJwAAj2UAAM+EAABdQgAAfz4AAGdCAAA/nAAAxzIAAH8+AAA3SgAAQ0gAAFtEAABPwwAANUIAAH8+AADHMgAAZ0IAADdKAAB32gIADi4AAAwwAAA3SgAAN0oAANdZAADHMgAA",
          "dtype": "i4"
         },
         "xaxis": "x2",
         "yaxis": "y2"
        }
       ],
       "layout": {
        "barmode": "relative",
        "legend": {
         "tracegroupgap": 0
        },
        "template": {
         "data": {
          "bar": [
           {
            "error_x": {
             "color": "#2a3f5f"
            },
            "error_y": {
             "color": "#2a3f5f"
            },
            "marker": {
             "line": {
              "color": "white",
              "width": 0.5
             },
             "pattern": {
              "fillmode": "overlay",
              "size": 10,
              "solidity": 0.2
             }
            },
            "type": "bar"
           }
          ],
          "barpolar": [
           {
            "marker": {
             "line": {
              "color": "white",
              "width": 0.5
             },
             "pattern": {
              "fillmode": "overlay",
              "size": 10,
              "solidity": 0.2
             }
            },
            "type": "barpolar"
           }
          ],
          "carpet": [
           {
            "aaxis": {
             "endlinecolor": "#2a3f5f",
             "gridcolor": "#C8D4E3",
             "linecolor": "#C8D4E3",
             "minorgridcolor": "#C8D4E3",
             "startlinecolor": "#2a3f5f"
            },
            "baxis": {
             "endlinecolor": "#2a3f5f",
             "gridcolor": "#C8D4E3",
             "linecolor": "#C8D4E3",
             "minorgridcolor": "#C8D4E3",
             "startlinecolor": "#2a3f5f"
            },
            "type": "carpet"
           }
          ],
          "choropleth": [
           {
            "colorbar": {
             "outlinewidth": 0,
             "ticks": ""
            },
            "type": "choropleth"
           }
          ],
          "contour": [
           {
            "colorbar": {
             "outlinewidth": 0,
             "ticks": ""
            },
            "colorscale": [
             [
              0,
              "#0d0887"
             ],
             [
              0.1111111111111111,
              "#46039f"
             ],
             [
              0.2222222222222222,
              "#7201a8"
             ],
             [
              0.3333333333333333,
              "#9c179e"
             ],
             [
              0.4444444444444444,
              "#bd3786"
             ],
             [
              0.5555555555555556,
              "#d8576b"
             ],
             [
              0.6666666666666666,
              "#ed7953"
             ],
             [
              0.7777777777777778,
              "#fb9f3a"
             ],
             [
              0.8888888888888888,
              "#fdca26"
             ],
             [
              1,
              "#f0f921"
             ]
            ],
            "type": "contour"
           }
          ],
          "contourcarpet": [
           {
            "colorbar": {
             "outlinewidth": 0,
             "ticks": ""
            },
            "type": "contourcarpet"
           }
          ],
          "heatmap": [
           {
            "colorbar": {
             "outlinewidth": 0,
             "ticks": ""
            },
            "colorscale": [
             [
              0,
              "#0d0887"
             ],
             [
              0.1111111111111111,
              "#46039f"
             ],
             [
              0.2222222222222222,
              "#7201a8"
             ],
             [
              0.3333333333333333,
              "#9c179e"
             ],
             [
              0.4444444444444444,
              "#bd3786"
             ],
             [
              0.5555555555555556,
              "#d8576b"
             ],
             [
              0.6666666666666666,
              "#ed7953"
             ],
             [
              0.7777777777777778,
              "#fb9f3a"
             ],
             [
              0.8888888888888888,
              "#fdca26"
             ],
             [
              1,
              "#f0f921"
             ]
            ],
            "type": "heatmap"
           }
          ],
          "histogram": [
           {
            "marker": {
             "pattern": {
              "fillmode": "overlay",
              "size": 10,
              "solidity": 0.2
             }
            },
            "type": "histogram"
           }
          ],
          "histogram2d": [
           {
            "colorbar": {
             "outlinewidth": 0,
             "ticks": ""
            },
            "colorscale": [
             [
              0,
              "#0d0887"
             ],
             [
              0.1111111111111111,
              "#46039f"
             ],
             [
              0.2222222222222222,
              "#7201a8"
             ],
             [
              0.3333333333333333,
              "#9c179e"
             ],
             [
              0.4444444444444444,
              "#bd3786"
             ],
             [
              0.5555555555555556,
              "#d8576b"
             ],
             [
              0.6666666666666666,
              "#ed7953"
             ],
             [
              0.7777777777777778,
              "#fb9f3a"
             ],
             [
              0.8888888888888888,
              "#fdca26"
             ],
             [
              1,
              "#f0f921"
             ]
            ],
            "type": "histogram2d"
           }
          ],
          "histogram2dcontour": [
           {
            "colorbar": {
             "outlinewidth": 0,
             "ticks": ""
            },
            "colorscale": [
             [
              0,
              "#0d0887"
             ],
             [
              0.1111111111111111,
              "#46039f"
             ],
             [
              0.2222222222222222,
              "#7201a8"
             ],
             [
              0.3333333333333333,
              "#9c179e"
             ],
             [
              0.4444444444444444,
              "#bd3786"
             ],
             [
              0.5555555555555556,
              "#d8576b"
             ],
             [
              0.6666666666666666,
              "#ed7953"
             ],
             [
              0.7777777777777778,
              "#fb9f3a"
             ],
             [
              0.8888888888888888,
              "#fdca26"
             ],
             [
              1,
              "#f0f921"
             ]
            ],
            "type": "histogram2dcontour"
           }
          ],
          "mesh3d": [
           {
            "colorbar": {
             "outlinewidth": 0,
             "ticks": ""
            },
            "type": "mesh3d"
           }
          ],
          "parcoords": [
           {
            "line": {
             "colorbar": {
              "outlinewidth": 0,
              "ticks": ""
             }
            },
            "type": "parcoords"
           }
          ],
          "pie": [
           {
            "automargin": true,
            "type": "pie"
           }
          ],
          "scatter": [
           {
            "fillpattern": {
             "fillmode": "overlay",
             "size": 10,
             "solidity": 0.2
            },
            "type": "scatter"
           }
          ],
          "scatter3d": [
           {
            "line": {
             "colorbar": {
              "outlinewidth": 0,
              "ticks": ""
             }
            },
            "marker": {
             "colorbar": {
              "outlinewidth": 0,
              "ticks": ""
             }
            },
            "type": "scatter3d"
           }
          ],
          "scattercarpet": [
           {
            "marker": {
             "colorbar": {
              "outlinewidth": 0,
              "ticks": ""
             }
            },
            "type": "scattercarpet"
           }
          ],
          "scattergeo": [
           {
            "marker": {
             "colorbar": {
              "outlinewidth": 0,
              "ticks": ""
             }
            },
            "type": "scattergeo"
           }
          ],
          "scattergl": [
           {
            "marker": {
             "colorbar": {
              "outlinewidth": 0,
              "ticks": ""
             }
            },
            "type": "scattergl"
           }
          ],
          "scattermap": [
           {
            "marker": {
             "colorbar": {
              "outlinewidth": 0,
              "ticks": ""
             }
            },
            "type": "scattermap"
           }
          ],
          "scattermapbox": [
           {
            "marker": {
             "colorbar": {
              "outlinewidth": 0,
              "ticks": ""
             }
            },
            "type": "scattermapbox"
           }
          ],
          "scatterpolar": [
           {
            "marker": {
             "colorbar": {
              "outlinewidth": 0,
              "ticks": ""
             }
            },
            "type": "scatterpolar"
           }
          ],
          "scatterpolargl": [
           {
            "marker": {
             "colorbar": {
              "outlinewidth": 0,
              "ticks": ""
             }
            },
            "type": "scatterpolargl"
           }
          ],
          "scatterternary": [
           {
            "marker": {
             "colorbar": {
              "outlinewidth": 0,
              "ticks": ""
             }
            },
            "type": "scatterternary"
           }
          ],
          "surface": [
           {
            "colorbar": {
             "outlinewidth": 0,
             "ticks": ""
            },
            "colorscale": [
             [
              0,
              "#0d0887"
             ],
             [
              0.1111111111111111,
              "#46039f"
             ],
             [
              0.2222222222222222,
              "#7201a8"
             ],
             [
              0.3333333333333333,
              "#9c179e"
             ],
             [
              0.4444444444444444,
              "#bd3786"
             ],
             [
              0.5555555555555556,
              "#d8576b"
             ],
             [
              0.6666666666666666,
              "#ed7953"
             ],
             [
              0.7777777777777778,
              "#fb9f3a"
             ],
             [
              0.8888888888888888,
              "#fdca26"
             ],
             [
              1,
              "#f0f921"
             ]
            ],
            "type": "surface"
           }
          ],
          "table": [
           {
            "cells": {
             "fill": {
              "color": "#EBF0F8"
             },
             "line": {
              "color": "white"
             }
            },
            "header": {
             "fill": {
              "color": "#C8D4E3"
             },
             "line": {
              "color": "white"
             }
            },
            "type": "table"
           }
          ]
         },
         "layout": {
          "annotationdefaults": {
           "arrowcolor": "#2a3f5f",
           "arrowhead": 0,
           "arrowwidth": 1
          },
          "autotypenumbers": "strict",
          "coloraxis": {
           "colorbar": {
            "outlinewidth": 0,
            "ticks": ""
           }
          },
          "colorscale": {
           "diverging": [
            [
             0,
             "#8e0152"
            ],
            [
             0.1,
             "#c51b7d"
            ],
            [
             0.2,
             "#de77ae"
            ],
            [
             0.3,
             "#f1b6da"
            ],
            [
             0.4,
             "#fde0ef"
            ],
            [
             0.5,
             "#f7f7f7"
            ],
            [
             0.6,
             "#e6f5d0"
            ],
            [
             0.7,
             "#b8e186"
            ],
            [
             0.8,
             "#7fbc41"
            ],
            [
             0.9,
             "#4d9221"
            ],
            [
             1,
             "#276419"
            ]
           ],
           "sequential": [
            [
             0,
             "#0d0887"
            ],
            [
             0.1111111111111111,
             "#46039f"
            ],
            [
             0.2222222222222222,
             "#7201a8"
            ],
            [
             0.3333333333333333,
             "#9c179e"
            ],
            [
             0.4444444444444444,
             "#bd3786"
            ],
            [
             0.5555555555555556,
             "#d8576b"
            ],
            [
             0.6666666666666666,
             "#ed7953"
            ],
            [
             0.7777777777777778,
             "#fb9f3a"
            ],
            [
             0.8888888888888888,
             "#fdca26"
            ],
            [
             1,
             "#f0f921"
            ]
           ],
           "sequentialminus": [
            [
             0,
             "#0d0887"
            ],
            [
             0.1111111111111111,
             "#46039f"
            ],
            [
             0.2222222222222222,
             "#7201a8"
            ],
            [
             0.3333333333333333,
             "#9c179e"
            ],
            [
             0.4444444444444444,
             "#bd3786"
            ],
            [
             0.5555555555555556,
             "#d8576b"
            ],
            [
             0.6666666666666666,
             "#ed7953"
            ],
            [
             0.7777777777777778,
             "#fb9f3a"
            ],
            [
             0.8888888888888888,
             "#fdca26"
            ],
            [
             1,
             "#f0f921"
            ]
           ]
          },
          "colorway": [
           "#636efa",
           "#EF553B",
           "#00cc96",
           "#ab63fa",
           "#FFA15A",
           "#19d3f3",
           "#FF6692",
           "#B6E880",
           "#FF97FF",
           "#FECB52"
          ],
          "font": {
           "color": "#2a3f5f"
          },
          "geo": {
           "bgcolor": "white",
           "lakecolor": "white",
           "landcolor": "white",
           "showlakes": true,
           "showland": true,
           "subunitcolor": "#C8D4E3"
          },
          "hoverlabel": {
           "align": "left"
          },
          "hovermode": "closest",
          "mapbox": {
           "style": "light"
          },
          "paper_bgcolor": "white",
          "plot_bgcolor": "white",
          "polar": {
           "angularaxis": {
            "gridcolor": "#EBF0F8",
            "linecolor": "#EBF0F8",
            "ticks": ""
           },
           "bgcolor": "white",
           "radialaxis": {
            "gridcolor": "#EBF0F8",
            "linecolor": "#EBF0F8",
            "ticks": ""
           }
          },
          "scene": {
           "xaxis": {
            "backgroundcolor": "white",
            "gridcolor": "#DFE8F3",
            "gridwidth": 2,
            "linecolor": "#EBF0F8",
            "showbackground": true,
            "ticks": "",
            "zerolinecolor": "#EBF0F8"
           },
           "yaxis": {
            "backgroundcolor": "white",
            "gridcolor": "#DFE8F3",
            "gridwidth": 2,
            "linecolor": "#EBF0F8",
            "showbackground": true,
            "ticks": "",
            "zerolinecolor": "#EBF0F8"
           },
           "zaxis": {
            "backgroundcolor": "white",
            "gridcolor": "#DFE8F3",
            "gridwidth": 2,
            "linecolor": "#EBF0F8",
            "showbackground": true,
            "ticks": "",
            "zerolinecolor": "#EBF0F8"
           }
          },
          "shapedefaults": {
           "line": {
            "color": "#2a3f5f"
           }
          },
          "ternary": {
           "aaxis": {
            "gridcolor": "#DFE8F3",
            "linecolor": "#A2B1C6",
            "ticks": ""
           },
           "baxis": {
            "gridcolor": "#DFE8F3",
            "linecolor": "#A2B1C6",
            "ticks": ""
           },
           "bgcolor": "white",
           "caxis": {
            "gridcolor": "#DFE8F3",
            "linecolor": "#A2B1C6",
            "ticks": ""
           }
          },
          "title": {
           "x": 0.05
          },
          "xaxis": {
           "automargin": true,
           "gridcolor": "#EBF0F8",
           "linecolor": "#EBF0F8",
           "ticks": "",
           "title": {
            "standoff": 15
           },
           "zerolinecolor": "#EBF0F8",
           "zerolinewidth": 2
          },
          "yaxis": {
           "automargin": true,
           "gridcolor": "#EBF0F8",
           "linecolor": "#EBF0F8",
           "ticks": "",
           "title": {
            "standoff": 15
           },
           "zerolinecolor": "#EBF0F8",
           "zerolinewidth": 2
          }
         }
        },
        "title": {
         "text": "Selling Price Distribution"
        },
        "xaxis": {
         "anchor": "y",
         "domain": [
          0,
          1
         ],
         "title": {
          "text": "Selling Price Num"
         }
        },
        "xaxis2": {
         "anchor": "y2",
         "domain": [
          0,
          1
         ],
         "matches": "x",
         "showgrid": true,
         "showticklabels": false
        },
        "yaxis": {
         "anchor": "x",
         "domain": [
          0,
          0.8316
         ],
         "title": {
          "text": "count"
         }
        },
        "yaxis2": {
         "anchor": "x2",
         "domain": [
          0.8416,
          1
         ],
         "matches": "y2",
         "showgrid": false,
         "showline": false,
         "showticklabels": false,
         "ticks": ""
        }
       }
      }
     },
     "metadata": {},
     "output_type": "display_data"
    },
    {
     "data": {
      "application/vnd.plotly.v1+json": {
       "config": {
        "plotlyServerURL": "https://plot.ly"
       },
       "data": [
        {
         "customdata": [
          [
           "Apple iPhone 13 (Starlight, 128 GB)",
           "128 GB ROM",
           "12MP + 12MP | 12MP Front Camera"
          ],
          [
           "Apple iPhone 16 (Teal, 128 GB)",
           "128 GB ROM",
           "48MP + 12MP | 12MP Front Camera"
          ],
          [
           "Apple iPhone 16 (Pink, 128 GB)",
           "128 GB ROM",
           "48MP + 12MP | 12MP Front Camera"
          ],
          [
           "Apple iPhone 16 (White, 128 GB)",
           "128 GB ROM",
           "48MP + 12MP | 12MP Front Camera"
          ],
          [
           "Apple iPhone 16 (Black, 128 GB)",
           "128 GB ROM",
           "48MP + 12MP | 12MP Front Camera"
          ],
          [
           "Apple iPhone 16 (Ultramarine, 128 GB)",
           "128 GB ROM",
           "48MP + 12MP | 12MP Front Camera"
          ],
          [
           "Apple iPhone 16 (White, 256 GB)",
           "256 GB ROM",
           "48MP + 12MP | 12MP Front Camera"
          ],
          [
           "Apple iPhone 15 (Blue, 128 GB)",
           "128 GB ROM",
           "48MP + 12MP | 12MP Front Camera"
          ],
          [
           "Apple iPhone 14 (Starlight, 128 GB)",
           "128 GB ROM",
           "12MP + 12MP | 12MP Front Camera"
          ],
          [
           "Apple iPhone 16 (Ultramarine, 256 GB)",
           "256 GB ROM",
           "48MP + 12MP | 12MP Front Camera"
          ],
          [
           "Apple iPhone 16 (Teal, 256 GB)",
           "256 GB ROM",
           "48MP + 12MP | 12MP Front Camera"
          ],
          [
           "Apple iPhone 16 (Pink, 256 GB)",
           "256 GB ROM",
           "48MP + 12MP | 12MP Front Camera"
          ],
          [
           "Apple iPhone 16 (Black, 256 GB)",
           "256 GB ROM",
           "48MP + 12MP | 12MP Front Camera"
          ],
          [
           "Apple iPhone 15 (Pink, 128 GB)",
           "128 GB ROM",
           "48MP + 12MP | 12MP Front Camera"
          ],
          [
           "Apple iPhone 15 (Green, 128 GB)",
           "128 GB ROM",
           "48MP + 12MP | 12MP Front Camera"
          ],
          [
           "Apple iPhone 14 (Midnight, 128 GB)",
           "128 GB ROM",
           "12MP + 12MP | 12MP Front Camera"
          ],
          [
           "Apple iPhone 15 (Blue, 256 GB)",
           "256 GB ROM",
           "48MP + 12MP | 12MP Front Camera"
          ],
          [
           "Apple iPhone 16 Plus (Black, 128 GB)",
           "128 GB ROM",
           "48MP + 12MP | 12MP Front Camera"
          ],
          [
           "Apple iPhone 16 Plus (Pink, 256 GB)",
           "256 GB ROM",
           "48MP + 12MP | 12MP Front Camera"
          ],
          [
           "Apple iPhone 16 (White, 512 GB)",
           "512 GB ROM",
           "48MP + 12MP | 12MP Front Camera"
          ],
          [
           "Apple iPhone 16e (White, 128 GB)",
           "128 GB ROM",
           "48MP Rear Camera | 12MP Front Camera"
          ],
          [
           "Apple iPhone 15 Plus (Pink, 128 GB)",
           "128 GB ROM",
           "48MP + 12MP | 12MP Front Camera"
          ],
          [
           "Apple iPhone 14 (Blue, 128 GB)",
           "128 GB ROM",
           "12MP + 12MP | 12MP Front Camera"
          ],
          [
           "Apple iPhone 14 (Blue, 256 GB)",
           "256 GB ROM",
           "12MP + 12MP | 12MP Front Camera"
          ]
         ],
         "hovertemplate": "Brand=Apple<br>ROM_GB=%{x}<br>Selling Price Num=%{y}<br>Name=%{customdata[0]}<br>ROM=%{customdata[1]}<br>Camera=%{customdata[2]}<extra></extra>",
         "legendgroup": "Apple",
         "marker": {
          "color": "#636efa",
          "symbol": "circle"
         },
         "mode": "markers",
         "name": "Apple",
         "orientation": "v",
         "showlegend": true,
         "type": "scatter",
         "x": {
          "bdata": "AAAAAAAAYEAAAAAAAABgQAAAAAAAAGBAAAAAAAAAYEAAAAAAAABgQAAAAAAAAGBAAAAAAAAAcEAAAAAAAABgQAAAAAAAAGBAAAAAAAAAcEAAAAAAAABwQAAAAAAAAHBAAAAAAAAAcEAAAAAAAABgQAAAAAAAAGBAAAAAAAAAYEAAAAAAAABwQAAAAAAAAGBAAAAAAAAAcEAAAAAAAACAQAAAAAAAAGBAAAAAAAAAYEAAAAAAAABgQAAAAAAAAHBA",
          "dtype": "f8"
         },
         "xaxis": "x",
         "y": {
          "bdata": "x68AAJQkAQCUJAEAlCQBAJQkAQCUJAEApEsBAIT9AAD+zgAApEsBAKRLAQCkSwEApEsBAIT9AACE/QAA/s4AAJQkAQCkSwEAtHIBAMSZAQB01gAAPxkBAP7OAAAO9gAA",
          "dtype": "i4"
         },
         "yaxis": "y"
        },
        {
         "customdata": [
          [
           "Samsung Galaxy S24 FE 5G (Mint, 128 GB)",
           "8 GB RAM | 128 GB ROM",
           "50MP + 12MP | 10MP Front Camera"
          ],
          [
           "Samsung Galaxy F36 5G (Violet, 128 GB)",
           "6 GB RAM | 128 GB ROM | Expandable Upto 2 TB",
           "50MP + 8MP + 2MP | 13MP Front Camera"
          ],
          [
           "Samsung Guru 1200",
           "4 MB RAM | 10 MB ROM",
           "800 mAh Battery"
          ],
          [
           "Samsung Guru Music 2 B310ED",
           "32 MB RAM | 32 MB ROM | Expandable Upto 100 MB",
           "0MP | 0MP Front Camera"
          ],
          [
           "Samsung Galaxy F05 (Twilight Blue, 64 GB)",
           "4 GB RAM | 64 GB ROM | Expandable Upto 1 TB",
           "50MP + 2MP | 8MP Front Camera"
          ],
          [
           "Samsung Galaxy S24 5G (Amber Yellow, 128 GB)",
           "8 GB RAM | 128 GB ROM",
           "50MP + 10MP + 12MP | 12MP Front Camera"
          ],
          [
           "Samsung Guru Music 2 B310ED",
           "32 MB RAM | 32 MB ROM | Expandable Upto 100 MB",
           "0MP | 0MP Front Camera"
          ],
          [
           "Samsung Guru 1200",
           "4 MB RAM | 10 MB ROM",
           "800 mAh Battery"
          ],
          [
           "Samsung Guru Music 2 B310ED",
           "32 MB RAM | 32 MB ROM | Expandable Upto 100 MB",
           "0MP | 0MP Front Camera"
          ],
          [
           "Samsung Guru 1200",
           "4 MB RAM | 10 MB ROM",
           "800 mAh Battery"
          ],
          [
           "Samsung Guru Music 2 B310ED",
           "24 MB RAM | 24 MB ROM",
           "0.2MP Rear Camera"
          ],
          [
           "Samsung Galaxy F16 5G (Vibing Blue, 128 GB)",
           "6 GB RAM | 128 GB ROM",
           "50MP + 5MP + 2MP | 13MP Front Camera"
          ],
          [
           "Samsung Guru 1200",
           "4 MB RAM | 10 MB ROM",
           "800 mAh Battery"
          ],
          [
           "Samsung Guru Music 2",
           "10 MB RAM | 10 MB ROM",
           "1100 mAh Battery"
          ],
          [
           "Samsung Galaxy F36 5G (Black, 128 GB)",
           "8 GB RAM | 128 GB ROM | Expandable Upto 2 TB",
           "50MP + 8MP + 2MP | 13MP Front Camera"
          ],
          [
           "Samsung Galaxy Z Fold7 5G (Blue Shadow, 512 GB)",
           "12 GB RAM | 512 GB ROM",
           "200MP + 12MP + 10MP | 10MP Front Camera"
          ],
          [
           "Samsung Galaxy F16 5G (Glam Green, 128 GB)",
           "6 GB RAM | 128 GB ROM",
           "50MP + 5MP + 2MP | 13MP Front Camera"
          ],
          [
           "Samsung Galaxy F06 5G (Bahama Blue, 128 GB)",
           "4 GB RAM | 128 GB ROM | Expandable Upto 1500 GB",
           "50MP + 2MP | 8MP Front Camera"
          ],
          [
           "Samsung Galaxy F36 5G (Red, 128 GB)",
           "8 GB RAM | 128 GB ROM | Expandable Upto 2 TB",
           "50MP + 8MP + 2MP | 13MP Front Camera"
          ],
          [
           "Samsung Galaxy F36 5G (Violet, 128 GB)",
           "8 GB RAM | 128 GB ROM | Expandable Upto 2 TB",
           "50MP + 8MP + 2MP | 13MP Front Camera"
          ],
          [
           "Samsung Guru Music 2",
           "10 MB RAM | 10 MB ROM",
           "1100 mAh Battery"
          ],
          [
           "Samsung Galaxy F16 5G (Bling Black, 128 GB)",
           "6 GB RAM | 128 GB ROM",
           "50MP + 5MP + 2MP | 13MP Front Camera"
          ],
          [
           "Samsung Galaxy F36 5G (Violet, 128 GB)",
           "6 GB RAM | 128 GB ROM | Expandable Upto 2 TB",
           "50MP + 8MP + 2MP | 13MP Front Camera"
          ],
          [
           "Samsung Galaxy S24 FE 5G (Blue, 128 GB)",
           "8 GB RAM | 128 GB ROM",
           "50MP + 12MP | 10MP Front Camera"
          ],
          [
           "Samsung Galaxy S24 5G (Amber Yellow, 128 GB)",
           "8 GB RAM | 128 GB ROM",
           "50MP + 10MP + 12MP | 12MP Front Camera"
          ],
          [
           "Samsung Galaxy F36 5G (Black, 128 GB)",
           "8 GB RAM | 128 GB ROM | Expandable Upto 2 TB",
           "50MP + 8MP + 2MP | 13MP Front Camera"
          ],
          [
           "Samsung Galaxy Z Fold7 5G (Blue Shadow, 512 GB)",
           "12 GB RAM | 512 GB ROM",
           "200MP + 12MP + 10MP | 10MP Front Camera"
          ],
          [
           "Samsung Galaxy F36 5G (Red, 128 GB)",
           "8 GB RAM | 128 GB ROM | Expandable Upto 2 TB",
           "50MP + 8MP + 2MP | 13MP Front Camera"
          ],
          [
           "Samsung Galaxy Z Fold7 5G (Silver Shadow, 256 GB)",
           "12 GB RAM | 256 GB ROM",
           "200MP + 12MP + 10MP | 10MP Front Camera"
          ],
          [
           "Samsung Galaxy S24 FE 5G (Graphite, 128 GB)",
           "8 GB RAM | 128 GB ROM",
           "50MP + 12MP | 10MP Front Camera"
          ],
          [
           "Samsung Galaxy F36 5G (Violet, 128 GB)",
           "6 GB RAM | 128 GB ROM | Expandable Upto 2 TB",
           "50MP + 8MP + 2MP | 13MP Front Camera"
          ],
          [
           "Samsung Galaxy S24 5G (Amber Yellow, 128 GB)",
           "8 GB RAM | 128 GB ROM",
           "50MP + 10MP + 12MP | 12MP Front Camera"
          ],
          [
           "Samsung Galaxy F36 5G (Black, 128 GB)",
           "8 GB RAM | 128 GB ROM | Expandable Upto 2 TB",
           "50MP + 8MP + 2MP | 13MP Front Camera"
          ],
          [
           "Samsung Galaxy Z Fold7 5G (Blue Shadow, 512 GB)",
           "12 GB RAM | 512 GB ROM",
           "200MP + 12MP + 10MP | 10MP Front Camera"
          ],
          [
           "Samsung Galaxy F36 5G (Red, 128 GB)",
           "8 GB RAM | 128 GB ROM | Expandable Upto 2 TB",
           "50MP + 8MP + 2MP | 13MP Front Camera"
          ],
          [
           "Samsung Galaxy F36 5G (Violet, 128 GB)",
           "8 GB RAM | 128 GB ROM | Expandable Upto 2 TB",
           "50MP + 8MP + 2MP | 13MP Front Camera"
          ]
         ],
         "hovertemplate": "Brand=Samsung<br>ROM_GB=%{x}<br>Selling Price Num=%{y}<br>Name=%{customdata[0]}<br>ROM=%{customdata[1]}<br>Camera=%{customdata[2]}<extra></extra>",
         "legendgroup": "Samsung",
         "marker": {
          "color": "#EF553B",
          "symbol": "circle"
         },
         "mode": "markers",
         "name": "Samsung",
         "orientation": "v",
         "showlegend": true,
         "type": "scatter",
         "x": {
          "bdata": "AAAAAAAAIEAAAAAAAAAYQAAAAAAAAPh/AAAAAAAA+H8AAAAAAAAQQAAAAAAAACBAAAAAAAAA+H8AAAAAAAD4fwAAAAAAAPh/AAAAAAAA+H8AAAAAAAD4fwAAAAAAABhAAAAAAAAA+H8AAAAAAAD4fwAAAAAAACBAAAAAAAAAKEAAAAAAAAAYQAAAAAAAABBAAAAAAAAAIEAAAAAAAAAgQAAAAAAAAPh/AAAAAAAAGEAAAAAAAAAYQAAAAAAAACBAAAAAAAAAIEAAAAAAAAAgQAAAAAAAAChAAAAAAAAAIEAAAAAAAAAoQAAAAAAAACBAAAAAAAAAGEAAAAAAAAAgQAAAAAAAACBAAAAAAAAAKEAAAAAAAAAgQAAAAAAAACBA",
          "dtype": "f8"
         },
         "xaxis": "x",
         "y": {
          "bdata": "P5wAAFtEAADwAgAAXgMAAGMZAABPwwAAcwMAAO4CAADEAwAAfwMAAMoDAADHMgAAAAMAANIDAAA3SgAAd9oCAMcyAAAbJQAAN0oAADdKAADXAwAAxzIAAFtEAAA/nAAAT8MAADdKAAB32gIAN0oAAJerAgA/nAAAW0QAAE/DAAA3SgAAd9oCADdKAAA3SgAA",
          "dtype": "i4"
         },
         "yaxis": "y"
        },
        {
         "customdata": [
          [
           "realme 15 5G (Flowing Silver, 128 GB)",
           "8 GB RAM | 128 GB ROM",
           "50MP + 8MP | 50MP Front Camera"
          ],
          [
           "realme 15 Pro 5G (Flowing Silver, 256 GB)",
           "8 GB RAM | 256 GB ROM",
           "50MP + 50MP | 50MP Front Camera"
          ],
          [
           "realme 15 5G (Flowing Silver, 128 GB)",
           "8 GB RAM | 128 GB ROM",
           "50MP + 8MP | 50MP Front Camera"
          ],
          [
           "realme 15 Pro 5G (Flowing Silver, 256 GB)",
           "8 GB RAM | 256 GB ROM",
           "50MP + 50MP | 50MP Front Camera"
          ],
          [
           "realme 15 5G (Flowing Silver, 128 GB)",
           "8 GB RAM | 128 GB ROM",
           "50MP + 8MP | 50MP Front Camera"
          ],
          [
           "realme 15 Pro 5G (Flowing Silver, 256 GB)",
           "8 GB RAM | 256 GB ROM",
           "50MP + 50MP | 50MP Front Camera"
          ],
          [
           "realme P3 5G (Comet Grey, 128 GB)",
           "6 GB RAM | 128 GB ROM | Expandable Upto 2 TB",
           "50MP + 2MP | 16MP Front Camera"
          ],
          [
           "realme P3 5G (Space Silver, 128 GB)",
           "8 GB RAM | 128 GB ROM | Expandable Upto 2 TB",
           "50MP + 2MP | 16MP Front Camera"
          ],
          [
           "realme P3x 5G (Midnight Blue, 128 GB)",
           "6 GB RAM | 128 GB ROM",
           "50MP Rear Camera | 8MP Front Camera"
          ],
          [
           "realme P3 5G (Nebula Pink, 128 GB)",
           "6 GB RAM | 128 GB ROM | Expandable Upto 2 TB",
           "50MP + 2MP | 16MP Front Camera"
          ],
          [
           "realme P2 Pro 5G (Parrot Green, 256 GB)",
           "12 GB RAM | 256 GB ROM",
           "50MP + 8MP | 32MP Front Camera"
          ],
          [
           "realme P3 5G (Space Silver, 256 GB)",
           "8 GB RAM | 256 GB ROM | Expandable Upto 2 TB",
           "50MP + 2MP | 16MP Front Camera"
          ],
          [
           "realme P3 5G (Space Silver, 128 GB)",
           "6 GB RAM | 128 GB ROM | Expandable Upto 2 TB",
           "50MP + 2MP | 16MP Front Camera"
          ],
          [
           "realme P3x 5G (Stellar Pink, 128 GB)",
           "6 GB RAM | 128 GB ROM",
           "50MP Rear Camera | 8MP Front Camera"
          ],
          [
           "realme P3 5G (Nebula Pink, 128 GB)",
           "8 GB RAM | 128 GB ROM | Expandable Upto 2 TB",
           "50MP + 2MP | 16MP Front Camera"
          ],
          [
           "realme Narzo 80 Lite 5G (Crystal Purple, 128 GB)",
           "6 GB RAM | 128 GB ROM",
           "50MP Rear Camera"
          ],
          [
           "realme P1 5G (Phoenix Red, 128 GB)",
           "6 GB RAM | 128 GB ROM | Expandable Upto 2 TB",
           "50MP + 2MP | 16MP Front Camera"
          ],
          [
           "realme P3 Ultra 5G (Glowing Lunar White, 128 GB)",
           "8 GB RAM | 128 GB ROM",
           "50MP + 8MP | 16MP Front Camera"
          ],
          [
           "realme P3x 5G (Lunar Silver, 128 GB)",
           "6 GB RAM | 128 GB ROM",
           "50MP Rear Camera | 8MP Front Camera"
          ]
         ],
         "hovertemplate": "Brand=realme<br>ROM_GB=%{x}<br>Selling Price Num=%{y}<br>Name=%{customdata[0]}<br>ROM=%{customdata[1]}<br>Camera=%{customdata[2]}<extra></extra>",
         "legendgroup": "realme",
         "marker": {
          "color": "#00cc96",
          "symbol": "circle"
         },
         "mode": "markers",
         "name": "realme",
         "orientation": "v",
         "showlegend": true,
         "type": "scatter",
         "x": {
          "bdata": "AAAAAAAAIEAAAAAAAAAgQAAAAAAAACBAAAAAAAAAIEAAAAAAAAAgQAAAAAAAACBAAAAAAAAAGEAAAAAAAAAgQAAAAAAAABhAAAAAAAAAGEAAAAAAAAAoQAAAAAAAACBAAAAAAAAAGEAAAAAAAAAYQAAAAAAAACBAAAAAAAAAGEAAAAAAAAAYQAAAAAAAACBAAAAAAAAAGEA=",
          "dtype": "f8"
         },
         "xaxis": "x",
         "y": {
          "bdata": "j2UAAM+EAACPZQAAz4QAAI9lAADPhAAAfz4AAGdCAADHMgAAfz4AADdKAABDSAAAfz4AAMcyAABnQgAADi4AAAwwAADXWQAAxzIAAA==",
          "dtype": "i4"
         },
         "yaxis": "y"
        },
        {
         "customdata": [
          [
           "Google Pixel 7 (Lemongrass, 128 GB)",
           "8 GB RAM | 128 GB ROM",
           "50MP + 12MP | 10.8MP Front Camera"
          ],
          [
           "Google Pixel 8a (Porcelain, 128 GB)",
           "8 GB RAM | 128 GB ROM",
           "64MP + 13MP | 13MP Front Camera"
          ],
          [
           "Google Pixel 8a (Obsidian, 128 GB)",
           "8 GB RAM | 128 GB ROM",
           "64MP + 13MP | 13MP Front Camera"
          ],
          [
           "Google Pixel 9A (Obsidian, 256 GB)",
           "8 GB RAM | 256 GB ROM",
           "48MP + 12MP | 12MP Front Camera"
          ],
          [
           "Google Pixel 9A (Porcelain, 256 GB)",
           "8 GB RAM | 256 GB ROM",
           "48MP + 12MP | 12MP Front Camera"
          ],
          [
           "Google Pixel 8 Pro (Obsidian, 128 GB)",
           "12 GB RAM | 128 GB ROM",
           "50MP + 48MP + 48MP | 10.5MP Front Camera"
          ],
          [
           "Google Pixel 9 (Porcelain, 256 GB)",
           "12 GB RAM | 256 GB ROM",
           "50MP + 48MP | 10.5MP Front Camera"
          ],
          [
           "Google Pixel 9A (Iris, 256 GB)",
           "8 GB RAM | 256 GB ROM",
           "48MP + 12MP | 12MP Front Camera"
          ],
          [
           "Google Pixel 9 (Obsidian, 256 GB)",
           "12 GB RAM | 256 GB ROM",
           "50MP + 48MP | 10.5MP Front Camera"
          ],
          [
           "Google Pixel 8 Pro (Obsidian, 256 GB)",
           "12 GB RAM | 256 GB ROM",
           "50MP + 48MP + 48MP | 10.5MP Front Camera"
          ],
          [
           "Google Pixel 8a (Bay, 128 GB)",
           "8 GB RAM | 128 GB ROM",
           "64MP + 13MP | 13MP Front Camera"
          ],
          [
           "Google Pixel 9 Pro XL (Hazel, 256 GB)",
           "16 GB RAM | 256 GB ROM",
           "50MP + 48MP + 48MP | 42MP Front Camera"
          ],
          [
           "Google Pixel 9 Pro Fold (Obsidian, 256 GB)",
           "16 GB RAM | 256 GB ROM",
           "48MP + 10.5MP + 10.8MP | 10MP Front Camera"
          ],
          [
           "Google Pixel 9 Pro XL (Obsidian, 512 GB)",
           "16 GB RAM | 512 GB ROM",
           "50MP + 48MP + 48MP | 42MP Front Camera"
          ],
          [
           "Google Pixel 8 Pro (Bay, 128 GB)",
           "12 GB RAM | 128 GB ROM",
           "50MP + 48MP + 48MP | 10.5MP Front Camera"
          ],
          [
           "Google Pixel 7 (Snow, 128 GB)",
           "8 GB RAM | 128 GB ROM",
           "50MP + 12MP | 10.8MP Front Camera"
          ],
          [
           "Google Pixel 8a (Aloe, 128 GB)",
           "8 GB RAM | 128 GB ROM",
           "64MP + 13MP | 13MP Front Camera"
          ],
          [
           "Google GP 3XL (White, 128 GB)",
           "4 GB RAM | 128 GB ROM",
           "12.2MP Rear Camera"
          ],
          [
           "Google Pixel 9 Pro (Rose Quartz, 256 GB)",
           "16 GB RAM | 256 GB ROM",
           "50MP + 48MP + 48MP | 42MP Front Camera"
          ],
          [
           "Google Pixel 8a (Obsidian, 256 GB)",
           "8 GB RAM | 256 GB ROM",
           "64MP + 13MP | 13MP Front Camera"
          ],
          [
           "Google Pixel 9 (Peony, 256 GB)",
           "12 GB RAM | 256 GB ROM",
           "50MP + 48MP | 10.5MP Front Camera"
          ],
          [
           "Google Pixel 6a (Chalk, 128 GB)",
           "6 GB RAM | 128 GB ROM",
           "12.2MP + 12MP | 8MP Front Camera"
          ],
          [
           "Google Pixel 7a (Charcoal, 128 GB)",
           "8 GB RAM | 128 GB ROM",
           "64MP (OIS) + 13MP | 13MP Front Camera"
          ],
          [
           "Google Pixel 9 (Wintergreen, 256 GB)",
           "12 GB RAM | 256 GB ROM",
           "50MP + 48MP | 10.5MP Front Camera"
          ]
         ],
         "hovertemplate": "Brand=Google<br>ROM_GB=%{x}<br>Selling Price Num=%{y}<br>Name=%{customdata[0]}<br>ROM=%{customdata[1]}<br>Camera=%{customdata[2]}<extra></extra>",
         "legendgroup": "Google",
         "marker": {
          "color": "#ab63fa",
          "symbol": "circle"
         },
         "mode": "markers",
         "name": "Google",
         "orientation": "v",
         "showlegend": true,
         "type": "scatter",
         "x": {
          "bdata": "AAAAAAAAIEAAAAAAAAAgQAAAAAAAACBAAAAAAAAAIEAAAAAAAAAgQAAAAAAAAChAAAAAAAAAKEAAAAAAAAAgQAAAAAAAAChAAAAAAAAAKEAAAAAAAAAgQAAAAAAAADBAAAAAAAAAMEAAAAAAAAAwQAAAAAAAAChAAAAAAAAAIEAAAAAAAAAgQAAAAAAAABBAAAAAAAAAMEAAAAAAAAAgQAAAAAAAAChAAAAAAAAAGEAAAAAAAAAgQAAAAAAAAChA",
          "dtype": "f8"
         },
         "xaxis": "x",
         "y": {
          "bdata": "L3UAAG+UAABvlAAAT8MAAE/DAABf6gAA5/0AAE/DAADn/QAA5/0AAG+UAAAnmgEAz/sBAL/UAQBf6gAAL3UAAG+UAADgUgAAj18BAMevAADn/QAAA6EAAF9tAADn/QAA",
          "dtype": "i4"
         },
         "yaxis": "y"
        },
        {
         "customdata": [
          [
           "Motorola g45 5G (Pantone Dahlia Purple, 128 GB)",
           "8 GB RAM | 128 GB ROM | Expandable Upto 1 TB",
           "50MP + 2MP | 16MP Front Camera"
          ],
          [
           "Motorola g45 5G (Pantone Moss, 128 GB)",
           "8 GB RAM | 128 GB ROM | Expandable Upto 1 TB",
           "50MP + 2MP | 16MP Front Camera"
          ],
          [
           "Motorola G85 5G (Olive Green, 128 GB)",
           "8 GB RAM | 128 GB ROM",
           "50MP + 8MP | 32MP Front Camera"
          ],
          [
           "Motorola G85 5G (Cobalt Blue, 128 GB)",
           "8 GB RAM | 128 GB ROM",
           "50MP + 8MP | 32MP Front Camera"
          ],
          [
           "Motorola Edge 50 Fusion (Forest Green, 128 GB)",
           "8 GB RAM | 128 GB ROM",
           "50MP + 13MP | 32MP Front Camera"
          ],
          [
           "Motorola g45 5G (Viva Magenta, 128 GB)",
           "8 GB RAM | 128 GB ROM | Expandable Upto 1 TB",
           "50MP + 2MP | 16MP Front Camera"
          ],
          [
           "Motorola G85 5G (Viva Magenta, 128 GB)",
           "8 GB RAM | 128 GB ROM",
           "50MP + 8MP | 32MP Front Camera"
          ],
          [
           "Motorola g45 5G (Brilliant Green, 128 GB)",
           "8 GB RAM | 128 GB ROM | Expandable Upto 1 TB",
           "50MP + 2MP | 16MP Front Camera"
          ],
          [
           "Motorola Edge 50 Fusion (Forest Blue, 256 GB)",
           "12 GB RAM | 256 GB ROM",
           "50MP + 13MP | 32MP Front Camera"
          ]
         ],
         "hovertemplate": "Brand=Motorola<br>ROM_GB=%{x}<br>Selling Price Num=%{y}<br>Name=%{customdata[0]}<br>ROM=%{customdata[1]}<br>Camera=%{customdata[2]}<extra></extra>",
         "legendgroup": "Motorola",
         "marker": {
          "color": "#FFA15A",
          "symbol": "circle"
         },
         "mode": "markers",
         "name": "Motorola",
         "orientation": "v",
         "showlegend": true,
         "type": "scatter",
         "x": {
          "bdata": "AAAAAAAAIEAAAAAAAAAgQAAAAAAAACBAAAAAAAAAIEAAAAAAAAAgQAAAAAAAACBAAAAAAAAAIEAAAAAAAAAgQAAAAAAAAChA",
          "dtype": "f8"
         },
         "xaxis": "x",
         "y": {
          "bdata": "3y7fLn8+fz43St8ufz7fLgdS",
          "dtype": "i2"
         },
         "yaxis": "y"
        },
        {
         "customdata": [
          [
           "MOTOROLA G86 Power 5G (Pantone Golden Cypress, 128 GB)",
           "8 GB RAM | 128 GB ROM | Expandable Upto 1 TB",
           "50MP + 8MP | 32MP Front Camera"
          ],
          [
           "MOTOROLA Edge 60 Fusion 5G (PANTONE Amazonite, 256 GB)",
           "8 GB RAM | 256 GB ROM | Expandable Upto 1 TB",
           "50MP + 13MP | 32MP Front Camera"
          ],
          [
           "MOTOROLA Edge 60 Fusion 5G (PANTONE Zephyr, 256 GB)",
           "8 GB RAM | 256 GB ROM | Expandable Upto 1 TB",
           "50MP + 13MP | 32MP Front Camera"
          ],
          [
           "MOTOROLA Edge 60 Fusion 5G (PANTONE Slipstream, 256 GB)",
           "8 GB RAM | 256 GB ROM | Expandable Upto 1 TB",
           "50MP + 13MP | 32MP Front Camera"
          ],
          [
           "MOTOROLA Edge 60 Fusion 5G (PANTONE Mykonos Blue, 256 GB)",
           "12 GB RAM | 256 GB ROM | Expandable Upto 1 TB",
           "50MP + 13MP | 32MP Front Camera"
          ],
          [
           "MOTOROLA g35 5G (Midnight Black, 128 GB)",
           "4 GB RAM | 128 GB ROM | Expandable Upto 1 TB",
           "50MP + 8MP | 16MP Front Camera"
          ]
         ],
         "hovertemplate": "Brand=MOTOROLA<br>ROM_GB=%{x}<br>Selling Price Num=%{y}<br>Name=%{customdata[0]}<br>ROM=%{customdata[1]}<br>Camera=%{customdata[2]}<extra></extra>",
         "legendgroup": "MOTOROLA",
         "marker": {
          "color": "#19d3f3",
          "symbol": "circle"
         },
         "mode": "markers",
         "name": "MOTOROLA",
         "orientation": "v",
         "showlegend": true,
         "type": "scatter",
         "x": {
          "bdata": "AAAAAAAAIEAAAAAAAAAgQAAAAAAAACBAAAAAAAAAIEAAAAAAAAAoQAAAAAAAABBA",
          "dtype": "f8"
         },
         "xaxis": "x",
         "y": {
          "bdata": "T0bXWddZ11mnYQ8n",
          "dtype": "i2"
         },
         "yaxis": "y"
        },
        {
         "customdata": [
          [
           "OnePlus Nord CE4 lite 5G (SUPER SILVER, 128 GB)",
           "8 GB RAM | 128 GB ROM",
           "50MP Rear Camera"
          ],
          [
           "OnePlus Nord CE4 lite 5G (MEGA BLUE, 128 GB)",
           "8 GB RAM | 128 GB ROM",
           "50MP Rear Camera"
          ]
         ],
         "hovertemplate": "Brand=OnePlus<br>ROM_GB=%{x}<br>Selling Price Num=%{y}<br>Name=%{customdata[0]}<br>ROM=%{customdata[1]}<br>Camera=%{customdata[2]}<extra></extra>",
         "legendgroup": "OnePlus",
         "marker": {
          "color": "#FF6692",
          "symbol": "circle"
         },
         "mode": "markers",
         "name": "OnePlus",
         "orientation": "v",
         "showlegend": true,
         "type": "scatter",
         "x": {
          "bdata": "AAAAAAAAIEAAAAAAAAAgQA==",
          "dtype": "f8"
         },
         "xaxis": "x",
         "y": {
          "bdata": "XUI1Qg==",
          "dtype": "i2"
         },
         "yaxis": "y"
        }
       ],
       "layout": {
        "legend": {
         "title": {
          "text": "Brand"
         },
         "tracegroupgap": 0
        },
        "template": {
         "data": {
          "bar": [
           {
            "error_x": {
             "color": "#2a3f5f"
            },
            "error_y": {
             "color": "#2a3f5f"
            },
            "marker": {
             "line": {
              "color": "white",
              "width": 0.5
             },
             "pattern": {
              "fillmode": "overlay",
              "size": 10,
              "solidity": 0.2
             }
            },
            "type": "bar"
           }
          ],
          "barpolar": [
           {
            "marker": {
             "line": {
              "color": "white",
              "width": 0.5
             },
             "pattern": {
              "fillmode": "overlay",
              "size": 10,
              "solidity": 0.2
             }
            },
            "type": "barpolar"
           }
          ],
          "carpet": [
           {
            "aaxis": {
             "endlinecolor": "#2a3f5f",
             "gridcolor": "#C8D4E3",
             "linecolor": "#C8D4E3",
             "minorgridcolor": "#C8D4E3",
             "startlinecolor": "#2a3f5f"
            },
            "baxis": {
             "endlinecolor": "#2a3f5f",
             "gridcolor": "#C8D4E3",
             "linecolor": "#C8D4E3",
             "minorgridcolor": "#C8D4E3",
             "startlinecolor": "#2a3f5f"
            },
            "type": "carpet"
           }
          ],
          "choropleth": [
           {
            "colorbar": {
             "outlinewidth": 0,
             "ticks": ""
            },
            "type": "choropleth"
           }
          ],
          "contour": [
           {
            "colorbar": {
             "outlinewidth": 0,
             "ticks": ""
            },
            "colorscale": [
             [
              0,
              "#0d0887"
             ],
             [
              0.1111111111111111,
              "#46039f"
             ],
             [
              0.2222222222222222,
              "#7201a8"
             ],
             [
              0.3333333333333333,
              "#9c179e"
             ],
             [
              0.4444444444444444,
              "#bd3786"
             ],
             [
              0.5555555555555556,
              "#d8576b"
             ],
             [
              0.6666666666666666,
              "#ed7953"
             ],
             [
              0.7777777777777778,
              "#fb9f3a"
             ],
             [
              0.8888888888888888,
              "#fdca26"
             ],
             [
              1,
              "#f0f921"
             ]
            ],
            "type": "contour"
           }
          ],
          "contourcarpet": [
           {
            "colorbar": {
             "outlinewidth": 0,
             "ticks": ""
            },
            "type": "contourcarpet"
           }
          ],
          "heatmap": [
           {
            "colorbar": {
             "outlinewidth": 0,
             "ticks": ""
            },
            "colorscale": [
             [
              0,
              "#0d0887"
             ],
             [
              0.1111111111111111,
              "#46039f"
             ],
             [
              0.2222222222222222,
              "#7201a8"
             ],
             [
              0.3333333333333333,
              "#9c179e"
             ],
             [
              0.4444444444444444,
              "#bd3786"
             ],
             [
              0.5555555555555556,
              "#d8576b"
             ],
             [
              0.6666666666666666,
              "#ed7953"
             ],
             [
              0.7777777777777778,
              "#fb9f3a"
             ],
             [
              0.8888888888888888,
              "#fdca26"
             ],
             [
              1,
              "#f0f921"
             ]
            ],
            "type": "heatmap"
           }
          ],
          "histogram": [
           {
            "marker": {
             "pattern": {
              "fillmode": "overlay",
              "size": 10,
              "solidity": 0.2
             }
            },
            "type": "histogram"
           }
          ],
          "histogram2d": [
           {
            "colorbar": {
             "outlinewidth": 0,
             "ticks": ""
            },
            "colorscale": [
             [
              0,
              "#0d0887"
             ],
             [
              0.1111111111111111,
              "#46039f"
             ],
             [
              0.2222222222222222,
              "#7201a8"
             ],
             [
              0.3333333333333333,
              "#9c179e"
             ],
             [
              0.4444444444444444,
              "#bd3786"
             ],
             [
              0.5555555555555556,
              "#d8576b"
             ],
             [
              0.6666666666666666,
              "#ed7953"
             ],
             [
              0.7777777777777778,
              "#fb9f3a"
             ],
             [
              0.8888888888888888,
              "#fdca26"
             ],
             [
              1,
              "#f0f921"
             ]
            ],
            "type": "histogram2d"
           }
          ],
          "histogram2dcontour": [
           {
            "colorbar": {
             "outlinewidth": 0,
             "ticks": ""
            },
            "colorscale": [
             [
              0,
              "#0d0887"
             ],
             [
              0.1111111111111111,
              "#46039f"
             ],
             [
              0.2222222222222222,
              "#7201a8"
             ],
             [
              0.3333333333333333,
              "#9c179e"
             ],
             [
              0.4444444444444444,
              "#bd3786"
             ],
             [
              0.5555555555555556,
              "#d8576b"
             ],
             [
              0.6666666666666666,
              "#ed7953"
             ],
             [
              0.7777777777777778,
              "#fb9f3a"
             ],
             [
              0.8888888888888888,
              "#fdca26"
             ],
             [
              1,
              "#f0f921"
             ]
            ],
            "type": "histogram2dcontour"
           }
          ],
          "mesh3d": [
           {
            "colorbar": {
             "outlinewidth": 0,
             "ticks": ""
            },
            "type": "mesh3d"
           }
          ],
          "parcoords": [
           {
            "line": {
             "colorbar": {
              "outlinewidth": 0,
              "ticks": ""
             }
            },
            "type": "parcoords"
           }
          ],
          "pie": [
           {
            "automargin": true,
            "type": "pie"
           }
          ],
          "scatter": [
           {
            "fillpattern": {
             "fillmode": "overlay",
             "size": 10,
             "solidity": 0.2
            },
            "type": "scatter"
           }
          ],
          "scatter3d": [
           {
            "line": {
             "colorbar": {
              "outlinewidth": 0,
              "ticks": ""
             }
            },
            "marker": {
             "colorbar": {
              "outlinewidth": 0,
              "ticks": ""
             }
            },
            "type": "scatter3d"
           }
          ],
          "scattercarpet": [
           {
            "marker": {
             "colorbar": {
              "outlinewidth": 0,
              "ticks": ""
             }
            },
            "type": "scattercarpet"
           }
          ],
          "scattergeo": [
           {
            "marker": {
             "colorbar": {
              "outlinewidth": 0,
              "ticks": ""
             }
            },
            "type": "scattergeo"
           }
          ],
          "scattergl": [
           {
            "marker": {
             "colorbar": {
              "outlinewidth": 0,
              "ticks": ""
             }
            },
            "type": "scattergl"
           }
          ],
          "scattermap": [
           {
            "marker": {
             "colorbar": {
              "outlinewidth": 0,
              "ticks": ""
             }
            },
            "type": "scattermap"
           }
          ],
          "scattermapbox": [
           {
            "marker": {
             "colorbar": {
              "outlinewidth": 0,
              "ticks": ""
             }
            },
            "type": "scattermapbox"
           }
          ],
          "scatterpolar": [
           {
            "marker": {
             "colorbar": {
              "outlinewidth": 0,
              "ticks": ""
             }
            },
            "type": "scatterpolar"
           }
          ],
          "scatterpolargl": [
           {
            "marker": {
             "colorbar": {
              "outlinewidth": 0,
              "ticks": ""
             }
            },
            "type": "scatterpolargl"
           }
          ],
          "scatterternary": [
           {
            "marker": {
             "colorbar": {
              "outlinewidth": 0,
              "ticks": ""
             }
            },
            "type": "scatterternary"
           }
          ],
          "surface": [
           {
            "colorbar": {
             "outlinewidth": 0,
             "ticks": ""
            },
            "colorscale": [
             [
              0,
              "#0d0887"
             ],
             [
              0.1111111111111111,
              "#46039f"
             ],
             [
              0.2222222222222222,
              "#7201a8"
             ],
             [
              0.3333333333333333,
              "#9c179e"
             ],
             [
              0.4444444444444444,
              "#bd3786"
             ],
             [
              0.5555555555555556,
              "#d8576b"
             ],
             [
              0.6666666666666666,
              "#ed7953"
             ],
             [
              0.7777777777777778,
              "#fb9f3a"
             ],
             [
              0.8888888888888888,
              "#fdca26"
             ],
             [
              1,
              "#f0f921"
             ]
            ],
            "type": "surface"
           }
          ],
          "table": [
           {
            "cells": {
             "fill": {
              "color": "#EBF0F8"
             },
             "line": {
              "color": "white"
             }
            },
            "header": {
             "fill": {
              "color": "#C8D4E3"
             },
             "line": {
              "color": "white"
             }
            },
            "type": "table"
           }
          ]
         },
         "layout": {
          "annotationdefaults": {
           "arrowcolor": "#2a3f5f",
           "arrowhead": 0,
           "arrowwidth": 1
          },
          "autotypenumbers": "strict",
          "coloraxis": {
           "colorbar": {
            "outlinewidth": 0,
            "ticks": ""
           }
          },
          "colorscale": {
           "diverging": [
            [
             0,
             "#8e0152"
            ],
            [
             0.1,
             "#c51b7d"
            ],
            [
             0.2,
             "#de77ae"
            ],
            [
             0.3,
             "#f1b6da"
            ],
            [
             0.4,
             "#fde0ef"
            ],
            [
             0.5,
             "#f7f7f7"
            ],
            [
             0.6,
             "#e6f5d0"
            ],
            [
             0.7,
             "#b8e186"
            ],
            [
             0.8,
             "#7fbc41"
            ],
            [
             0.9,
             "#4d9221"
            ],
            [
             1,
             "#276419"
            ]
           ],
           "sequential": [
            [
             0,
             "#0d0887"
            ],
            [
             0.1111111111111111,
             "#46039f"
            ],
            [
             0.2222222222222222,
             "#7201a8"
            ],
            [
             0.3333333333333333,
             "#9c179e"
            ],
            [
             0.4444444444444444,
             "#bd3786"
            ],
            [
             0.5555555555555556,
             "#d8576b"
            ],
            [
             0.6666666666666666,
             "#ed7953"
            ],
            [
             0.7777777777777778,
             "#fb9f3a"
            ],
            [
             0.8888888888888888,
             "#fdca26"
            ],
            [
             1,
             "#f0f921"
            ]
           ],
           "sequentialminus": [
            [
             0,
             "#0d0887"
            ],
            [
             0.1111111111111111,
             "#46039f"
            ],
            [
             0.2222222222222222,
             "#7201a8"
            ],
            [
             0.3333333333333333,
             "#9c179e"
            ],
            [
             0.4444444444444444,
             "#bd3786"
            ],
            [
             0.5555555555555556,
             "#d8576b"
            ],
            [
             0.6666666666666666,
             "#ed7953"
            ],
            [
             0.7777777777777778,
             "#fb9f3a"
            ],
            [
             0.8888888888888888,
             "#fdca26"
            ],
            [
             1,
             "#f0f921"
            ]
           ]
          },
          "colorway": [
           "#636efa",
           "#EF553B",
           "#00cc96",
           "#ab63fa",
           "#FFA15A",
           "#19d3f3",
           "#FF6692",
           "#B6E880",
           "#FF97FF",
           "#FECB52"
          ],
          "font": {
           "color": "#2a3f5f"
          },
          "geo": {
           "bgcolor": "white",
           "lakecolor": "white",
           "landcolor": "white",
           "showlakes": true,
           "showland": true,
           "subunitcolor": "#C8D4E3"
          },
          "hoverlabel": {
           "align": "left"
          },
          "hovermode": "closest",
          "mapbox": {
           "style": "light"
          },
          "paper_bgcolor": "white",
          "plot_bgcolor": "white",
          "polar": {
           "angularaxis": {
            "gridcolor": "#EBF0F8",
            "linecolor": "#EBF0F8",
            "ticks": ""
           },
           "bgcolor": "white",
           "radialaxis": {
            "gridcolor": "#EBF0F8",
            "linecolor": "#EBF0F8",
            "ticks": ""
           }
          },
          "scene": {
           "xaxis": {
            "backgroundcolor": "white",
            "gridcolor": "#DFE8F3",
            "gridwidth": 2,
            "linecolor": "#EBF0F8",
            "showbackground": true,
            "ticks": "",
            "zerolinecolor": "#EBF0F8"
           },
           "yaxis": {
            "backgroundcolor": "white",
            "gridcolor": "#DFE8F3",
            "gridwidth": 2,
            "linecolor": "#EBF0F8",
            "showbackground": true,
            "ticks": "",
            "zerolinecolor": "#EBF0F8"
           },
           "zaxis": {
            "backgroundcolor": "white",
            "gridcolor": "#DFE8F3",
            "gridwidth": 2,
            "linecolor": "#EBF0F8",
            "showbackground": true,
            "ticks": "",
            "zerolinecolor": "#EBF0F8"
           }
          },
          "shapedefaults": {
           "line": {
            "color": "#2a3f5f"
           }
          },
          "ternary": {
           "aaxis": {
            "gridcolor": "#DFE8F3",
            "linecolor": "#A2B1C6",
            "ticks": ""
           },
           "baxis": {
            "gridcolor": "#DFE8F3",
            "linecolor": "#A2B1C6",
            "ticks": ""
           },
           "bgcolor": "white",
           "caxis": {
            "gridcolor": "#DFE8F3",
            "linecolor": "#A2B1C6",
            "ticks": ""
           }
          },
          "title": {
           "x": 0.05
          },
          "xaxis": {
           "automargin": true,
           "gridcolor": "#EBF0F8",
           "linecolor": "#EBF0F8",
           "ticks": "",
           "title": {
            "standoff": 15
           },
           "zerolinecolor": "#EBF0F8",
           "zerolinewidth": 2
          },
          "yaxis": {
           "automargin": true,
           "gridcolor": "#EBF0F8",
           "linecolor": "#EBF0F8",
           "ticks": "",
           "title": {
            "standoff": 15
           },
           "zerolinecolor": "#EBF0F8",
           "zerolinewidth": 2
          }
         }
        },
        "title": {
         "text": "Price vs ROM"
        },
        "xaxis": {
         "anchor": "y",
         "domain": [
          0,
          1
         ],
         "title": {
          "text": "ROM_GB"
         }
        },
        "yaxis": {
         "anchor": "x",
         "domain": [
          0,
          1
         ],
         "title": {
          "text": "Selling Price Num"
         }
        }
       }
      }
     },
     "metadata": {},
     "output_type": "display_data"
    },
    {
     "data": {
      "application/vnd.plotly.v1+json": {
       "config": {
        "plotlyServerURL": "https://plot.ly"
       },
       "data": [
        {
         "alignmentgroup": "True",
         "boxpoints": "all",
         "hovertemplate": "Brand=%{x}<br>Selling Price Num=%{y}<extra></extra>",
         "legendgroup": "",
         "marker": {
          "color": "#636efa"
         },
         "name": "",
         "notched": false,
         "offsetgroup": "",
         "orientation": "v",
         "showlegend": false,
         "type": "box",
         "x": [
          "Apple",
          "Apple",
          "Apple",
          "Apple",
          "Apple",
          "Apple",
          "Apple",
          "Apple",
          "Apple",
          "Apple",
          "Apple",
          "Apple",
          "Apple",
          "Apple",
          "Apple",
          "Apple",
          "Apple",
          "Apple",
          "Apple",
          "Apple",
          "Apple",
          "Apple",
          "Apple",
          "Apple",
          "Samsung",
          "Samsung",
          "Samsung",
          "Samsung",
          "Samsung",
          "Samsung",
          "Samsung",
          "Samsung",
          "Samsung",
          "Samsung",
          "realme",
          "realme",
          "Samsung",
          "Samsung",
          "Samsung",
          "Samsung",
          "Samsung",
          "Samsung",
          "Samsung",
          "Samsung",
          "Samsung",
          "Samsung",
          "Samsung",
          "Samsung",
          "Google",
          "Google",
          "Google",
          "Google",
          "Google",
          "Google",
          "Google",
          "Google",
          "Google",
          "Google",
          "Google",
          "Google",
          "Google",
          "Google",
          "Google",
          "Google",
          "Google",
          "Google",
          "Google",
          "Google",
          "Google",
          "Google",
          "Google",
          "Google",
          "realme",
          "realme",
          "Motorola",
          "Motorola",
          "Motorola",
          "Samsung",
          "Motorola",
          "MOTOROLA",
          "MOTOROLA",
          "Motorola",
          "Samsung",
          "Samsung",
          "Motorola",
          "Motorola",
          "MOTOROLA",
          "MOTOROLA",
          "Samsung",
          "Samsung",
          "MOTOROLA",
          "Motorola",
          "Samsung",
          "Samsung",
          "Motorola",
          "MOTOROLA",
          "realme",
          "realme",
          "OnePlus",
          "realme",
          "realme",
          "Samsung",
          "realme",
          "realme",
          "realme",
          "realme",
          "Samsung",
          "Samsung",
          "OnePlus",
          "realme",
          "realme",
          "realme",
          "Samsung",
          "Samsung",
          "realme",
          "realme",
          "Samsung",
          "Samsung",
          "realme",
          "realme"
         ],
         "x0": " ",
         "xaxis": "x",
         "y": {
          "bdata": "x68AAJQkAQCUJAEAlCQBAJQkAQCUJAEApEsBAIT9AAD+zgAApEsBAKRLAQCkSwEApEsBAIT9AACE/QAA/s4AAJQkAQCkSwEAtHIBAMSZAQB01gAAPxkBAP7OAAAO9gAAP5wAAFtEAADwAgAAXgMAAGMZAABPwwAAcwMAAO4CAADEAwAAfwMAAI9lAADPhAAAygMAAMcyAAAAAwAA0gMAADdKAAB32gIAxzIAABslAAA3SgAAN0oAANcDAADHMgAAL3UAAG+UAABvlAAAT8MAAE/DAABf6gAA5/0AAE/DAADn/QAA5/0AAG+UAAAnmgEAz/sBAL/UAQBf6gAAL3UAAG+UAADgUgAAj18BAMevAADn/QAAA6EAAF9tAADn/QAAj2UAAM+EAADfLgAA3y4AAH8+AABbRAAAfz4AAE9GAADXWQAAN0oAAD+cAABPwwAA3y4AAH8+AADXWQAA11kAADdKAAB32gIAp2EAAN8uAAA3SgAAl6sCAAdSAAAPJwAAj2UAAM+EAABdQgAAfz4AAGdCAAA/nAAAxzIAAH8+AAA3SgAAQ0gAAFtEAABPwwAANUIAAH8+AADHMgAAZ0IAADdKAAB32gIADi4AAAwwAAA3SgAAN0oAANdZAADHMgAA",
          "dtype": "i4"
         },
         "y0": " ",
         "yaxis": "y"
        }
       ],
       "layout": {
        "boxmode": "group",
        "legend": {
         "tracegroupgap": 0
        },
        "template": {
         "data": {
          "bar": [
           {
            "error_x": {
             "color": "#2a3f5f"
            },
            "error_y": {
             "color": "#2a3f5f"
            },
            "marker": {
             "line": {
              "color": "white",
              "width": 0.5
             },
             "pattern": {
              "fillmode": "overlay",
              "size": 10,
              "solidity": 0.2
             }
            },
            "type": "bar"
           }
          ],
          "barpolar": [
           {
            "marker": {
             "line": {
              "color": "white",
              "width": 0.5
             },
             "pattern": {
              "fillmode": "overlay",
              "size": 10,
              "solidity": 0.2
             }
            },
            "type": "barpolar"
           }
          ],
          "carpet": [
           {
            "aaxis": {
             "endlinecolor": "#2a3f5f",
             "gridcolor": "#C8D4E3",
             "linecolor": "#C8D4E3",
             "minorgridcolor": "#C8D4E3",
             "startlinecolor": "#2a3f5f"
            },
            "baxis": {
             "endlinecolor": "#2a3f5f",
             "gridcolor": "#C8D4E3",
             "linecolor": "#C8D4E3",
             "minorgridcolor": "#C8D4E3",
             "startlinecolor": "#2a3f5f"
            },
            "type": "carpet"
           }
          ],
          "choropleth": [
           {
            "colorbar": {
             "outlinewidth": 0,
             "ticks": ""
            },
            "type": "choropleth"
           }
          ],
          "contour": [
           {
            "colorbar": {
             "outlinewidth": 0,
             "ticks": ""
            },
            "colorscale": [
             [
              0,
              "#0d0887"
             ],
             [
              0.1111111111111111,
              "#46039f"
             ],
             [
              0.2222222222222222,
              "#7201a8"
             ],
             [
              0.3333333333333333,
              "#9c179e"
             ],
             [
              0.4444444444444444,
              "#bd3786"
             ],
             [
              0.5555555555555556,
              "#d8576b"
             ],
             [
              0.6666666666666666,
              "#ed7953"
             ],
             [
              0.7777777777777778,
              "#fb9f3a"
             ],
             [
              0.8888888888888888,
              "#fdca26"
             ],
             [
              1,
              "#f0f921"
             ]
            ],
            "type": "contour"
           }
          ],
          "contourcarpet": [
           {
            "colorbar": {
             "outlinewidth": 0,
             "ticks": ""
            },
            "type": "contourcarpet"
           }
          ],
          "heatmap": [
           {
            "colorbar": {
             "outlinewidth": 0,
             "ticks": ""
            },
            "colorscale": [
             [
              0,
              "#0d0887"
             ],
             [
              0.1111111111111111,
              "#46039f"
             ],
             [
              0.2222222222222222,
              "#7201a8"
             ],
             [
              0.3333333333333333,
              "#9c179e"
             ],
             [
              0.4444444444444444,
              "#bd3786"
             ],
             [
              0.5555555555555556,
              "#d8576b"
             ],
             [
              0.6666666666666666,
              "#ed7953"
             ],
             [
              0.7777777777777778,
              "#fb9f3a"
             ],
             [
              0.8888888888888888,
              "#fdca26"
             ],
             [
              1,
              "#f0f921"
             ]
            ],
            "type": "heatmap"
           }
          ],
          "histogram": [
           {
            "marker": {
             "pattern": {
              "fillmode": "overlay",
              "size": 10,
              "solidity": 0.2
             }
            },
            "type": "histogram"
           }
          ],
          "histogram2d": [
           {
            "colorbar": {
             "outlinewidth": 0,
             "ticks": ""
            },
            "colorscale": [
             [
              0,
              "#0d0887"
             ],
             [
              0.1111111111111111,
              "#46039f"
             ],
             [
              0.2222222222222222,
              "#7201a8"
             ],
             [
              0.3333333333333333,
              "#9c179e"
             ],
             [
              0.4444444444444444,
              "#bd3786"
             ],
             [
              0.5555555555555556,
              "#d8576b"
             ],
             [
              0.6666666666666666,
              "#ed7953"
             ],
             [
              0.7777777777777778,
              "#fb9f3a"
             ],
             [
              0.8888888888888888,
              "#fdca26"
             ],
             [
              1,
              "#f0f921"
             ]
            ],
            "type": "histogram2d"
           }
          ],
          "histogram2dcontour": [
           {
            "colorbar": {
             "outlinewidth": 0,
             "ticks": ""
            },
            "colorscale": [
             [
              0,
              "#0d0887"
             ],
             [
              0.1111111111111111,
              "#46039f"
             ],
             [
              0.2222222222222222,
              "#7201a8"
             ],
             [
              0.3333333333333333,
              "#9c179e"
             ],
             [
              0.4444444444444444,
              "#bd3786"
             ],
             [
              0.5555555555555556,
              "#d8576b"
             ],
             [
              0.6666666666666666,
              "#ed7953"
             ],
             [
              0.7777777777777778,
              "#fb9f3a"
             ],
             [
              0.8888888888888888,
              "#fdca26"
             ],
             [
              1,
              "#f0f921"
             ]
            ],
            "type": "histogram2dcontour"
           }
          ],
          "mesh3d": [
           {
            "colorbar": {
             "outlinewidth": 0,
             "ticks": ""
            },
            "type": "mesh3d"
           }
          ],
          "parcoords": [
           {
            "line": {
             "colorbar": {
              "outlinewidth": 0,
              "ticks": ""
             }
            },
            "type": "parcoords"
           }
          ],
          "pie": [
           {
            "automargin": true,
            "type": "pie"
           }
          ],
          "scatter": [
           {
            "fillpattern": {
             "fillmode": "overlay",
             "size": 10,
             "solidity": 0.2
            },
            "type": "scatter"
           }
          ],
          "scatter3d": [
           {
            "line": {
             "colorbar": {
              "outlinewidth": 0,
              "ticks": ""
             }
            },
            "marker": {
             "colorbar": {
              "outlinewidth": 0,
              "ticks": ""
             }
            },
            "type": "scatter3d"
           }
          ],
          "scattercarpet": [
           {
            "marker": {
             "colorbar": {
              "outlinewidth": 0,
              "ticks": ""
             }
            },
            "type": "scattercarpet"
           }
          ],
          "scattergeo": [
           {
            "marker": {
             "colorbar": {
              "outlinewidth": 0,
              "ticks": ""
             }
            },
            "type": "scattergeo"
           }
          ],
          "scattergl": [
           {
            "marker": {
             "colorbar": {
              "outlinewidth": 0,
              "ticks": ""
             }
            },
            "type": "scattergl"
           }
          ],
          "scattermap": [
           {
            "marker": {
             "colorbar": {
              "outlinewidth": 0,
              "ticks": ""
             }
            },
            "type": "scattermap"
           }
          ],
          "scattermapbox": [
           {
            "marker": {
             "colorbar": {
              "outlinewidth": 0,
              "ticks": ""
             }
            },
            "type": "scattermapbox"
           }
          ],
          "scatterpolar": [
           {
            "marker": {
             "colorbar": {
              "outlinewidth": 0,
              "ticks": ""
             }
            },
            "type": "scatterpolar"
           }
          ],
          "scatterpolargl": [
           {
            "marker": {
             "colorbar": {
              "outlinewidth": 0,
              "ticks": ""
             }
            },
            "type": "scatterpolargl"
           }
          ],
          "scatterternary": [
           {
            "marker": {
             "colorbar": {
              "outlinewidth": 0,
              "ticks": ""
             }
            },
            "type": "scatterternary"
           }
          ],
          "surface": [
           {
            "colorbar": {
             "outlinewidth": 0,
             "ticks": ""
            },
            "colorscale": [
             [
              0,
              "#0d0887"
             ],
             [
              0.1111111111111111,
              "#46039f"
             ],
             [
              0.2222222222222222,
              "#7201a8"
             ],
             [
              0.3333333333333333,
              "#9c179e"
             ],
             [
              0.4444444444444444,
              "#bd3786"
             ],
             [
              0.5555555555555556,
              "#d8576b"
             ],
             [
              0.6666666666666666,
              "#ed7953"
             ],
             [
              0.7777777777777778,
              "#fb9f3a"
             ],
             [
              0.8888888888888888,
              "#fdca26"
             ],
             [
              1,
              "#f0f921"
             ]
            ],
            "type": "surface"
           }
          ],
          "table": [
           {
            "cells": {
             "fill": {
              "color": "#EBF0F8"
             },
             "line": {
              "color": "white"
             }
            },
            "header": {
             "fill": {
              "color": "#C8D4E3"
             },
             "line": {
              "color": "white"
             }
            },
            "type": "table"
           }
          ]
         },
         "layout": {
          "annotationdefaults": {
           "arrowcolor": "#2a3f5f",
           "arrowhead": 0,
           "arrowwidth": 1
          },
          "autotypenumbers": "strict",
          "coloraxis": {
           "colorbar": {
            "outlinewidth": 0,
            "ticks": ""
           }
          },
          "colorscale": {
           "diverging": [
            [
             0,
             "#8e0152"
            ],
            [
             0.1,
             "#c51b7d"
            ],
            [
             0.2,
             "#de77ae"
            ],
            [
             0.3,
             "#f1b6da"
            ],
            [
             0.4,
             "#fde0ef"
            ],
            [
             0.5,
             "#f7f7f7"
            ],
            [
             0.6,
             "#e6f5d0"
            ],
            [
             0.7,
             "#b8e186"
            ],
            [
             0.8,
             "#7fbc41"
            ],
            [
             0.9,
             "#4d9221"
            ],
            [
             1,
             "#276419"
            ]
           ],
           "sequential": [
            [
             0,
             "#0d0887"
            ],
            [
             0.1111111111111111,
             "#46039f"
            ],
            [
             0.2222222222222222,
             "#7201a8"
            ],
            [
             0.3333333333333333,
             "#9c179e"
            ],
            [
             0.4444444444444444,
             "#bd3786"
            ],
            [
             0.5555555555555556,
             "#d8576b"
            ],
            [
             0.6666666666666666,
             "#ed7953"
            ],
            [
             0.7777777777777778,
             "#fb9f3a"
            ],
            [
             0.8888888888888888,
             "#fdca26"
            ],
            [
             1,
             "#f0f921"
            ]
           ],
           "sequentialminus": [
            [
             0,
             "#0d0887"
            ],
            [
             0.1111111111111111,
             "#46039f"
            ],
            [
             0.2222222222222222,
             "#7201a8"
            ],
            [
             0.3333333333333333,
             "#9c179e"
            ],
            [
             0.4444444444444444,
             "#bd3786"
            ],
            [
             0.5555555555555556,
             "#d8576b"
            ],
            [
             0.6666666666666666,
             "#ed7953"
            ],
            [
             0.7777777777777778,
             "#fb9f3a"
            ],
            [
             0.8888888888888888,
             "#fdca26"
            ],
            [
             1,
             "#f0f921"
            ]
           ]
          },
          "colorway": [
           "#636efa",
           "#EF553B",
           "#00cc96",
           "#ab63fa",
           "#FFA15A",
           "#19d3f3",
           "#FF6692",
           "#B6E880",
           "#FF97FF",
           "#FECB52"
          ],
          "font": {
           "color": "#2a3f5f"
          },
          "geo": {
           "bgcolor": "white",
           "lakecolor": "white",
           "landcolor": "white",
           "showlakes": true,
           "showland": true,
           "subunitcolor": "#C8D4E3"
          },
          "hoverlabel": {
           "align": "left"
          },
          "hovermode": "closest",
          "mapbox": {
           "style": "light"
          },
          "paper_bgcolor": "white",
          "plot_bgcolor": "white",
          "polar": {
           "angularaxis": {
            "gridcolor": "#EBF0F8",
            "linecolor": "#EBF0F8",
            "ticks": ""
           },
           "bgcolor": "white",
           "radialaxis": {
            "gridcolor": "#EBF0F8",
            "linecolor": "#EBF0F8",
            "ticks": ""
           }
          },
          "scene": {
           "xaxis": {
            "backgroundcolor": "white",
            "gridcolor": "#DFE8F3",
            "gridwidth": 2,
            "linecolor": "#EBF0F8",
            "showbackground": true,
            "ticks": "",
            "zerolinecolor": "#EBF0F8"
           },
           "yaxis": {
            "backgroundcolor": "white",
            "gridcolor": "#DFE8F3",
            "gridwidth": 2,
            "linecolor": "#EBF0F8",
            "showbackground": true,
            "ticks": "",
            "zerolinecolor": "#EBF0F8"
           },
           "zaxis": {
            "backgroundcolor": "white",
            "gridcolor": "#DFE8F3",
            "gridwidth": 2,
            "linecolor": "#EBF0F8",
            "showbackground": true,
            "ticks": "",
            "zerolinecolor": "#EBF0F8"
           }
          },
          "shapedefaults": {
           "line": {
            "color": "#2a3f5f"
           }
          },
          "ternary": {
           "aaxis": {
            "gridcolor": "#DFE8F3",
            "linecolor": "#A2B1C6",
            "ticks": ""
           },
           "baxis": {
            "gridcolor": "#DFE8F3",
            "linecolor": "#A2B1C6",
            "ticks": ""
           },
           "bgcolor": "white",
           "caxis": {
            "gridcolor": "#DFE8F3",
            "linecolor": "#A2B1C6",
            "ticks": ""
           }
          },
          "title": {
           "x": 0.05
          },
          "xaxis": {
           "automargin": true,
           "gridcolor": "#EBF0F8",
           "linecolor": "#EBF0F8",
           "ticks": "",
           "title": {
            "standoff": 15
           },
           "zerolinecolor": "#EBF0F8",
           "zerolinewidth": 2
          },
          "yaxis": {
           "automargin": true,
           "gridcolor": "#EBF0F8",
           "linecolor": "#EBF0F8",
           "ticks": "",
           "title": {
            "standoff": 15
           },
           "zerolinecolor": "#EBF0F8",
           "zerolinewidth": 2
          }
         }
        },
        "title": {
         "text": "Price Distribution by Brand"
        },
        "xaxis": {
         "anchor": "y",
         "domain": [
          0,
          1
         ],
         "tickangle": 45,
         "title": {
          "text": "Brand"
         }
        },
        "yaxis": {
         "anchor": "x",
         "domain": [
          0,
          1
         ],
         "title": {
          "text": "Selling Price Num"
         }
        }
       }
      }
     },
     "metadata": {},
     "output_type": "display_data"
    }
   ],
   "source": [
    "import re\n",
    "import pandas as pd\n",
    "import plotly.express as px\n",
    "\n",
    "# Strip spaces from headers\n",
    "df.columns = df.columns.str.strip()\n",
    "\n",
    "# Convert Selling Price to numeric\n",
    "df['Selling Price Num'] = pd.to_numeric(\n",
    "    df['Selling Price'].str.replace('₹','').str.replace(',',''), \n",
    "    errors='coerce'\n",
    ")\n",
    "\n",
    "# Extract ROM in GB from text\n",
    "df['ROM_GB'] = df['ROM'].apply(\n",
    "    lambda x: int(re.search(r'(\\d+)\\s*GB', str(x)).group(1)) if pd.notna(x) and re.search(r'(\\d+)\\s*GB', str(x)) else None\n",
    ")\n",
    "\n",
    "# Extract Brand from Name (first word)\n",
    "df['Brand'] = df['Name'].apply(lambda x: str(x).split()[0] if pd.notna(x) else None)\n",
    "\n",
    "# --- Plot 1: Selling Price Distribution ---\n",
    "fig1 = px.histogram(\n",
    "    df, \n",
    "    x='Selling Price Num', \n",
    "    nbins=30, \n",
    "    title='Selling Price Distribution', \n",
    "    marginal='box', \n",
    "    template='plotly_white'\n",
    ")\n",
    "fig1.show()\n",
    "\n",
    "# --- Plot 2: Price vs ROM ---\n",
    "fig2 = px.scatter(\n",
    "    df, \n",
    "    x='ROM_GB', \n",
    "    y='Selling Price Num', \n",
    "    color='Brand',\n",
    "    hover_data=['Name', 'ROM', 'Camera'],\n",
    "    title='Price vs ROM',\n",
    "    template='plotly_white'\n",
    ")\n",
    "fig2.show()\n",
    "\n",
    "# --- Plot 3: Price by Brand ---\n",
    "fig3 = px.box(\n",
    "    df, \n",
    "    x='Brand', \n",
    "    y='Selling Price Num', \n",
    "    points='all', \n",
    "    title='Price Distribution by Brand',\n",
    "    template='plotly_white'\n",
    ")\n",
    "fig3.update_xaxes(tickangle=45)\n",
    "fig3.show()\n"
   ]
  },
  {
   "cell_type": "code",
   "execution_count": 155,
   "id": "b36d0359",
   "metadata": {},
   "outputs": [
    {
     "name": "stdout",
     "output_type": "stream",
     "text": [
      "RMSE: 8761.03447360858\n",
      "R2: 0.9538224213536226\n"
     ]
    }
   ],
   "source": [
    "from sklearn.model_selection import train_test_split\n",
    "from sklearn.pipeline import Pipeline\n",
    "from sklearn.compose import ColumnTransformer\n",
    "from sklearn.impute import SimpleImputer\n",
    "from sklearn.preprocessing import OneHotEncoder, StandardScaler\n",
    "from sklearn.ensemble import RandomForestRegressor\n",
    "from sklearn.metrics import mean_squared_error, r2_score\n",
    "import numpy as np\n",
    "\n",
    "# Select features\n",
    "features = ['RAM_GB','ROM_GB','Display_inch','Main_Cam_MP','Rating','Has_Discount','Brand']\n",
    "target = 'Selling Price Num'\n",
    "df_model = df.dropna(subset=[target])  # keep rows with price\n",
    "\n",
    "X = df_model[features]\n",
    "y = df_model[target]\n",
    "\n",
    "# Simple preprocessing\n",
    "numeric_features = ['RAM_GB','ROM_GB','Display_inch','Main_Cam_MP','Rating','Has_Discount']\n",
    "cat_features = ['Brand']\n",
    "\n",
    "numeric_transformer = Pipeline(steps=[\n",
    "    ('imputer', SimpleImputer(strategy='median')),\n",
    "    ('scaler', StandardScaler())\n",
    "])\n",
    "\n",
    "cat_transformer = Pipeline(steps=[\n",
    "    ('imputer', SimpleImputer(strategy='constant', fill_value='unknown')),\n",
    "    ('ohe', OneHotEncoder(handle_unknown='ignore'))\n",
    "])\n",
    "\n",
    "preprocessor = ColumnTransformer(transformers=[\n",
    "    ('num', numeric_transformer, numeric_features),\n",
    "    ('cat', cat_transformer, cat_features)\n",
    "])\n",
    "\n",
    "pipeline = Pipeline(steps=[\n",
    "    ('preprocessor', preprocessor),\n",
    "    ('model', RandomForestRegressor(n_estimators=200, random_state=42))\n",
    "])\n",
    "\n",
    "X_train, X_test, y_train, y_test = train_test_split(X, y, test_size=0.2, random_state=42)\n",
    "pipeline.fit(X_train, y_train)\n",
    "y_pred = pipeline.predict(X_test)\n",
    "\n",
    "print(\"RMSE:\", np.sqrt(mean_squared_error(y_test, y_pred)))\n",
    "print(\"R2:\", r2_score(y_test, y_pred))"
   ]
  },
  {
   "cell_type": "code",
   "execution_count": 156,
   "id": "792a01be",
   "metadata": {},
   "outputs": [],
   "source": [
    "import pandas as pd\n",
    "import numpy as np\n",
    "from sklearn.model_selection import train_test_split\n",
    "from sklearn.preprocessing import LabelEncoder\n",
    "from sklearn.metrics import mean_absolute_error, mean_squared_error, r2_score\n",
    "from sklearn.linear_model import LinearRegression\n",
    "from sklearn.ensemble import RandomForestRegressor, GradientBoostingRegressor\n",
    "import re\n",
    "\n",
    "# --- Fill RAM_GB if missing ---\n",
    "def extract_ram(rom_str):\n",
    "    if pd.isna(rom_str):\n",
    "        return np.nan\n",
    "    m = re.search(r'(\\d+)\\s*GB\\s*RAM', rom_str)\n",
    "    return float(m.group(1)) if m else np.nan\n",
    "\n",
    "df['RAM_GB'] = df['RAM_GB'].fillna(df['ROM'].apply(extract_ram))\n",
    "\n",
    "# --- Fill missing numeric values with median ---\n",
    "for col in ['RAM_GB', 'ROM_GB', 'Display_inch', 'Main_Cam_MP', 'Discount Percent']:\n",
    "    df[col] = df[col].fillna(df[col].median())\n",
    "\n",
    "# --- Encode Brand ---\n",
    "le = LabelEncoder()\n",
    "df['Brand_Code'] = le.fit_transform(df['Brand'])\n",
    "\n",
    "# --- Feature matrix and target ---\n",
    "features = ['RAM_GB', 'ROM_GB', 'Display_inch', 'Main_Cam_MP', 'Discount Percent', 'Brand_Code']\n",
    "target = 'Selling Price Num'\n",
    "\n",
    "X = df[features]\n",
    "y = df[target]\n",
    "\n",
    "# --- Train/test split ---\n",
    "X_train, X_test, y_train, y_test = train_test_split(X, y, test_size=0.2, random_state=42)"
   ]
  },
  {
   "cell_type": "code",
   "execution_count": 157,
   "id": "66c912e7",
   "metadata": {},
   "outputs": [
    {
     "name": "stdout",
     "output_type": "stream",
     "text": [
      "                            MAE          RMSE        R²\n",
      "Linear Regression  12195.003120  15967.330827  0.846614\n",
      "Random Forest       4321.764782   9921.778048  0.940776\n",
      "Gradient Boosting   2158.473551   4131.374151  0.989731\n"
     ]
    }
   ],
   "source": [
    "models = {\n",
    "    \"Linear Regression\": LinearRegression(),\n",
    "    \"Random Forest\": RandomForestRegressor(n_estimators=200, random_state=42),\n",
    "    \"Gradient Boosting\": GradientBoostingRegressor(n_estimators=200, random_state=42)\n",
    "}\n",
    "\n",
    "results = {}\n",
    "\n",
    "for name, model in models.items():\n",
    "    model.fit(X_train, y_train)\n",
    "    preds = model.predict(X_test)\n",
    "    mae = mean_absolute_error(y_test, preds)\n",
    "    rmse = np.sqrt(mean_squared_error(y_test, preds))\n",
    "    r2 = r2_score(y_test, preds)\n",
    "    results[name] = {\"MAE\": mae, \"RMSE\": rmse, \"R²\": r2}\n",
    "\n",
    "# Results table\n",
    "results_df = pd.DataFrame(results).T\n",
    "print(results_df)\n"
   ]
  },
  {
   "cell_type": "code",
   "execution_count": 159,
   "id": "88f9248d",
   "metadata": {},
   "outputs": [
    {
     "data": {
      "text/html": [
       "<style>#sk-container-id-1 {\n",
       "  /* Definition of color scheme common for light and dark mode */\n",
       "  --sklearn-color-text: #000;\n",
       "  --sklearn-color-text-muted: #666;\n",
       "  --sklearn-color-line: gray;\n",
       "  /* Definition of color scheme for unfitted estimators */\n",
       "  --sklearn-color-unfitted-level-0: #fff5e6;\n",
       "  --sklearn-color-unfitted-level-1: #f6e4d2;\n",
       "  --sklearn-color-unfitted-level-2: #ffe0b3;\n",
       "  --sklearn-color-unfitted-level-3: chocolate;\n",
       "  /* Definition of color scheme for fitted estimators */\n",
       "  --sklearn-color-fitted-level-0: #f0f8ff;\n",
       "  --sklearn-color-fitted-level-1: #d4ebff;\n",
       "  --sklearn-color-fitted-level-2: #b3dbfd;\n",
       "  --sklearn-color-fitted-level-3: cornflowerblue;\n",
       "\n",
       "  /* Specific color for light theme */\n",
       "  --sklearn-color-text-on-default-background: var(--sg-text-color, var(--theme-code-foreground, var(--jp-content-font-color1, black)));\n",
       "  --sklearn-color-background: var(--sg-background-color, var(--theme-background, var(--jp-layout-color0, white)));\n",
       "  --sklearn-color-border-box: var(--sg-text-color, var(--theme-code-foreground, var(--jp-content-font-color1, black)));\n",
       "  --sklearn-color-icon: #696969;\n",
       "\n",
       "  @media (prefers-color-scheme: dark) {\n",
       "    /* Redefinition of color scheme for dark theme */\n",
       "    --sklearn-color-text-on-default-background: var(--sg-text-color, var(--theme-code-foreground, var(--jp-content-font-color1, white)));\n",
       "    --sklearn-color-background: var(--sg-background-color, var(--theme-background, var(--jp-layout-color0, #111)));\n",
       "    --sklearn-color-border-box: var(--sg-text-color, var(--theme-code-foreground, var(--jp-content-font-color1, white)));\n",
       "    --sklearn-color-icon: #878787;\n",
       "  }\n",
       "}\n",
       "\n",
       "#sk-container-id-1 {\n",
       "  color: var(--sklearn-color-text);\n",
       "}\n",
       "\n",
       "#sk-container-id-1 pre {\n",
       "  padding: 0;\n",
       "}\n",
       "\n",
       "#sk-container-id-1 input.sk-hidden--visually {\n",
       "  border: 0;\n",
       "  clip: rect(1px 1px 1px 1px);\n",
       "  clip: rect(1px, 1px, 1px, 1px);\n",
       "  height: 1px;\n",
       "  margin: -1px;\n",
       "  overflow: hidden;\n",
       "  padding: 0;\n",
       "  position: absolute;\n",
       "  width: 1px;\n",
       "}\n",
       "\n",
       "#sk-container-id-1 div.sk-dashed-wrapped {\n",
       "  border: 1px dashed var(--sklearn-color-line);\n",
       "  margin: 0 0.4em 0.5em 0.4em;\n",
       "  box-sizing: border-box;\n",
       "  padding-bottom: 0.4em;\n",
       "  background-color: var(--sklearn-color-background);\n",
       "}\n",
       "\n",
       "#sk-container-id-1 div.sk-container {\n",
       "  /* jupyter's `normalize.less` sets `[hidden] { display: none; }`\n",
       "     but bootstrap.min.css set `[hidden] { display: none !important; }`\n",
       "     so we also need the `!important` here to be able to override the\n",
       "     default hidden behavior on the sphinx rendered scikit-learn.org.\n",
       "     See: https://github.com/scikit-learn/scikit-learn/issues/21755 */\n",
       "  display: inline-block !important;\n",
       "  position: relative;\n",
       "}\n",
       "\n",
       "#sk-container-id-1 div.sk-text-repr-fallback {\n",
       "  display: none;\n",
       "}\n",
       "\n",
       "div.sk-parallel-item,\n",
       "div.sk-serial,\n",
       "div.sk-item {\n",
       "  /* draw centered vertical line to link estimators */\n",
       "  background-image: linear-gradient(var(--sklearn-color-text-on-default-background), var(--sklearn-color-text-on-default-background));\n",
       "  background-size: 2px 100%;\n",
       "  background-repeat: no-repeat;\n",
       "  background-position: center center;\n",
       "}\n",
       "\n",
       "/* Parallel-specific style estimator block */\n",
       "\n",
       "#sk-container-id-1 div.sk-parallel-item::after {\n",
       "  content: \"\";\n",
       "  width: 100%;\n",
       "  border-bottom: 2px solid var(--sklearn-color-text-on-default-background);\n",
       "  flex-grow: 1;\n",
       "}\n",
       "\n",
       "#sk-container-id-1 div.sk-parallel {\n",
       "  display: flex;\n",
       "  align-items: stretch;\n",
       "  justify-content: center;\n",
       "  background-color: var(--sklearn-color-background);\n",
       "  position: relative;\n",
       "}\n",
       "\n",
       "#sk-container-id-1 div.sk-parallel-item {\n",
       "  display: flex;\n",
       "  flex-direction: column;\n",
       "}\n",
       "\n",
       "#sk-container-id-1 div.sk-parallel-item:first-child::after {\n",
       "  align-self: flex-end;\n",
       "  width: 50%;\n",
       "}\n",
       "\n",
       "#sk-container-id-1 div.sk-parallel-item:last-child::after {\n",
       "  align-self: flex-start;\n",
       "  width: 50%;\n",
       "}\n",
       "\n",
       "#sk-container-id-1 div.sk-parallel-item:only-child::after {\n",
       "  width: 0;\n",
       "}\n",
       "\n",
       "/* Serial-specific style estimator block */\n",
       "\n",
       "#sk-container-id-1 div.sk-serial {\n",
       "  display: flex;\n",
       "  flex-direction: column;\n",
       "  align-items: center;\n",
       "  background-color: var(--sklearn-color-background);\n",
       "  padding-right: 1em;\n",
       "  padding-left: 1em;\n",
       "}\n",
       "\n",
       "\n",
       "/* Toggleable style: style used for estimator/Pipeline/ColumnTransformer box that is\n",
       "clickable and can be expanded/collapsed.\n",
       "- Pipeline and ColumnTransformer use this feature and define the default style\n",
       "- Estimators will overwrite some part of the style using the `sk-estimator` class\n",
       "*/\n",
       "\n",
       "/* Pipeline and ColumnTransformer style (default) */\n",
       "\n",
       "#sk-container-id-1 div.sk-toggleable {\n",
       "  /* Default theme specific background. It is overwritten whether we have a\n",
       "  specific estimator or a Pipeline/ColumnTransformer */\n",
       "  background-color: var(--sklearn-color-background);\n",
       "}\n",
       "\n",
       "/* Toggleable label */\n",
       "#sk-container-id-1 label.sk-toggleable__label {\n",
       "  cursor: pointer;\n",
       "  display: flex;\n",
       "  width: 100%;\n",
       "  margin-bottom: 0;\n",
       "  padding: 0.5em;\n",
       "  box-sizing: border-box;\n",
       "  text-align: center;\n",
       "  align-items: start;\n",
       "  justify-content: space-between;\n",
       "  gap: 0.5em;\n",
       "}\n",
       "\n",
       "#sk-container-id-1 label.sk-toggleable__label .caption {\n",
       "  font-size: 0.6rem;\n",
       "  font-weight: lighter;\n",
       "  color: var(--sklearn-color-text-muted);\n",
       "}\n",
       "\n",
       "#sk-container-id-1 label.sk-toggleable__label-arrow:before {\n",
       "  /* Arrow on the left of the label */\n",
       "  content: \"▸\";\n",
       "  float: left;\n",
       "  margin-right: 0.25em;\n",
       "  color: var(--sklearn-color-icon);\n",
       "}\n",
       "\n",
       "#sk-container-id-1 label.sk-toggleable__label-arrow:hover:before {\n",
       "  color: var(--sklearn-color-text);\n",
       "}\n",
       "\n",
       "/* Toggleable content - dropdown */\n",
       "\n",
       "#sk-container-id-1 div.sk-toggleable__content {\n",
       "  display: none;\n",
       "  text-align: left;\n",
       "  /* unfitted */\n",
       "  background-color: var(--sklearn-color-unfitted-level-0);\n",
       "}\n",
       "\n",
       "#sk-container-id-1 div.sk-toggleable__content.fitted {\n",
       "  /* fitted */\n",
       "  background-color: var(--sklearn-color-fitted-level-0);\n",
       "}\n",
       "\n",
       "#sk-container-id-1 div.sk-toggleable__content pre {\n",
       "  margin: 0.2em;\n",
       "  border-radius: 0.25em;\n",
       "  color: var(--sklearn-color-text);\n",
       "  /* unfitted */\n",
       "  background-color: var(--sklearn-color-unfitted-level-0);\n",
       "}\n",
       "\n",
       "#sk-container-id-1 div.sk-toggleable__content.fitted pre {\n",
       "  /* unfitted */\n",
       "  background-color: var(--sklearn-color-fitted-level-0);\n",
       "}\n",
       "\n",
       "#sk-container-id-1 input.sk-toggleable__control:checked~div.sk-toggleable__content {\n",
       "  /* Expand drop-down */\n",
       "  display: block;\n",
       "  width: 100%;\n",
       "  overflow: visible;\n",
       "}\n",
       "\n",
       "#sk-container-id-1 input.sk-toggleable__control:checked~label.sk-toggleable__label-arrow:before {\n",
       "  content: \"▾\";\n",
       "}\n",
       "\n",
       "/* Pipeline/ColumnTransformer-specific style */\n",
       "\n",
       "#sk-container-id-1 div.sk-label input.sk-toggleable__control:checked~label.sk-toggleable__label {\n",
       "  color: var(--sklearn-color-text);\n",
       "  background-color: var(--sklearn-color-unfitted-level-2);\n",
       "}\n",
       "\n",
       "#sk-container-id-1 div.sk-label.fitted input.sk-toggleable__control:checked~label.sk-toggleable__label {\n",
       "  background-color: var(--sklearn-color-fitted-level-2);\n",
       "}\n",
       "\n",
       "/* Estimator-specific style */\n",
       "\n",
       "/* Colorize estimator box */\n",
       "#sk-container-id-1 div.sk-estimator input.sk-toggleable__control:checked~label.sk-toggleable__label {\n",
       "  /* unfitted */\n",
       "  background-color: var(--sklearn-color-unfitted-level-2);\n",
       "}\n",
       "\n",
       "#sk-container-id-1 div.sk-estimator.fitted input.sk-toggleable__control:checked~label.sk-toggleable__label {\n",
       "  /* fitted */\n",
       "  background-color: var(--sklearn-color-fitted-level-2);\n",
       "}\n",
       "\n",
       "#sk-container-id-1 div.sk-label label.sk-toggleable__label,\n",
       "#sk-container-id-1 div.sk-label label {\n",
       "  /* The background is the default theme color */\n",
       "  color: var(--sklearn-color-text-on-default-background);\n",
       "}\n",
       "\n",
       "/* On hover, darken the color of the background */\n",
       "#sk-container-id-1 div.sk-label:hover label.sk-toggleable__label {\n",
       "  color: var(--sklearn-color-text);\n",
       "  background-color: var(--sklearn-color-unfitted-level-2);\n",
       "}\n",
       "\n",
       "/* Label box, darken color on hover, fitted */\n",
       "#sk-container-id-1 div.sk-label.fitted:hover label.sk-toggleable__label.fitted {\n",
       "  color: var(--sklearn-color-text);\n",
       "  background-color: var(--sklearn-color-fitted-level-2);\n",
       "}\n",
       "\n",
       "/* Estimator label */\n",
       "\n",
       "#sk-container-id-1 div.sk-label label {\n",
       "  font-family: monospace;\n",
       "  font-weight: bold;\n",
       "  display: inline-block;\n",
       "  line-height: 1.2em;\n",
       "}\n",
       "\n",
       "#sk-container-id-1 div.sk-label-container {\n",
       "  text-align: center;\n",
       "}\n",
       "\n",
       "/* Estimator-specific */\n",
       "#sk-container-id-1 div.sk-estimator {\n",
       "  font-family: monospace;\n",
       "  border: 1px dotted var(--sklearn-color-border-box);\n",
       "  border-radius: 0.25em;\n",
       "  box-sizing: border-box;\n",
       "  margin-bottom: 0.5em;\n",
       "  /* unfitted */\n",
       "  background-color: var(--sklearn-color-unfitted-level-0);\n",
       "}\n",
       "\n",
       "#sk-container-id-1 div.sk-estimator.fitted {\n",
       "  /* fitted */\n",
       "  background-color: var(--sklearn-color-fitted-level-0);\n",
       "}\n",
       "\n",
       "/* on hover */\n",
       "#sk-container-id-1 div.sk-estimator:hover {\n",
       "  /* unfitted */\n",
       "  background-color: var(--sklearn-color-unfitted-level-2);\n",
       "}\n",
       "\n",
       "#sk-container-id-1 div.sk-estimator.fitted:hover {\n",
       "  /* fitted */\n",
       "  background-color: var(--sklearn-color-fitted-level-2);\n",
       "}\n",
       "\n",
       "/* Specification for estimator info (e.g. \"i\" and \"?\") */\n",
       "\n",
       "/* Common style for \"i\" and \"?\" */\n",
       "\n",
       ".sk-estimator-doc-link,\n",
       "a:link.sk-estimator-doc-link,\n",
       "a:visited.sk-estimator-doc-link {\n",
       "  float: right;\n",
       "  font-size: smaller;\n",
       "  line-height: 1em;\n",
       "  font-family: monospace;\n",
       "  background-color: var(--sklearn-color-background);\n",
       "  border-radius: 1em;\n",
       "  height: 1em;\n",
       "  width: 1em;\n",
       "  text-decoration: none !important;\n",
       "  margin-left: 0.5em;\n",
       "  text-align: center;\n",
       "  /* unfitted */\n",
       "  border: var(--sklearn-color-unfitted-level-1) 1pt solid;\n",
       "  color: var(--sklearn-color-unfitted-level-1);\n",
       "}\n",
       "\n",
       ".sk-estimator-doc-link.fitted,\n",
       "a:link.sk-estimator-doc-link.fitted,\n",
       "a:visited.sk-estimator-doc-link.fitted {\n",
       "  /* fitted */\n",
       "  border: var(--sklearn-color-fitted-level-1) 1pt solid;\n",
       "  color: var(--sklearn-color-fitted-level-1);\n",
       "}\n",
       "\n",
       "/* On hover */\n",
       "div.sk-estimator:hover .sk-estimator-doc-link:hover,\n",
       ".sk-estimator-doc-link:hover,\n",
       "div.sk-label-container:hover .sk-estimator-doc-link:hover,\n",
       ".sk-estimator-doc-link:hover {\n",
       "  /* unfitted */\n",
       "  background-color: var(--sklearn-color-unfitted-level-3);\n",
       "  color: var(--sklearn-color-background);\n",
       "  text-decoration: none;\n",
       "}\n",
       "\n",
       "div.sk-estimator.fitted:hover .sk-estimator-doc-link.fitted:hover,\n",
       ".sk-estimator-doc-link.fitted:hover,\n",
       "div.sk-label-container:hover .sk-estimator-doc-link.fitted:hover,\n",
       ".sk-estimator-doc-link.fitted:hover {\n",
       "  /* fitted */\n",
       "  background-color: var(--sklearn-color-fitted-level-3);\n",
       "  color: var(--sklearn-color-background);\n",
       "  text-decoration: none;\n",
       "}\n",
       "\n",
       "/* Span, style for the box shown on hovering the info icon */\n",
       ".sk-estimator-doc-link span {\n",
       "  display: none;\n",
       "  z-index: 9999;\n",
       "  position: relative;\n",
       "  font-weight: normal;\n",
       "  right: .2ex;\n",
       "  padding: .5ex;\n",
       "  margin: .5ex;\n",
       "  width: min-content;\n",
       "  min-width: 20ex;\n",
       "  max-width: 50ex;\n",
       "  color: var(--sklearn-color-text);\n",
       "  box-shadow: 2pt 2pt 4pt #999;\n",
       "  /* unfitted */\n",
       "  background: var(--sklearn-color-unfitted-level-0);\n",
       "  border: .5pt solid var(--sklearn-color-unfitted-level-3);\n",
       "}\n",
       "\n",
       ".sk-estimator-doc-link.fitted span {\n",
       "  /* fitted */\n",
       "  background: var(--sklearn-color-fitted-level-0);\n",
       "  border: var(--sklearn-color-fitted-level-3);\n",
       "}\n",
       "\n",
       ".sk-estimator-doc-link:hover span {\n",
       "  display: block;\n",
       "}\n",
       "\n",
       "/* \"?\"-specific style due to the `<a>` HTML tag */\n",
       "\n",
       "#sk-container-id-1 a.estimator_doc_link {\n",
       "  float: right;\n",
       "  font-size: 1rem;\n",
       "  line-height: 1em;\n",
       "  font-family: monospace;\n",
       "  background-color: var(--sklearn-color-background);\n",
       "  border-radius: 1rem;\n",
       "  height: 1rem;\n",
       "  width: 1rem;\n",
       "  text-decoration: none;\n",
       "  /* unfitted */\n",
       "  color: var(--sklearn-color-unfitted-level-1);\n",
       "  border: var(--sklearn-color-unfitted-level-1) 1pt solid;\n",
       "}\n",
       "\n",
       "#sk-container-id-1 a.estimator_doc_link.fitted {\n",
       "  /* fitted */\n",
       "  border: var(--sklearn-color-fitted-level-1) 1pt solid;\n",
       "  color: var(--sklearn-color-fitted-level-1);\n",
       "}\n",
       "\n",
       "/* On hover */\n",
       "#sk-container-id-1 a.estimator_doc_link:hover {\n",
       "  /* unfitted */\n",
       "  background-color: var(--sklearn-color-unfitted-level-3);\n",
       "  color: var(--sklearn-color-background);\n",
       "  text-decoration: none;\n",
       "}\n",
       "\n",
       "#sk-container-id-1 a.estimator_doc_link.fitted:hover {\n",
       "  /* fitted */\n",
       "  background-color: var(--sklearn-color-fitted-level-3);\n",
       "}\n",
       "\n",
       ".estimator-table summary {\n",
       "    padding: .5rem;\n",
       "    font-family: monospace;\n",
       "    cursor: pointer;\n",
       "}\n",
       "\n",
       ".estimator-table details[open] {\n",
       "    padding-left: 0.1rem;\n",
       "    padding-right: 0.1rem;\n",
       "    padding-bottom: 0.3rem;\n",
       "}\n",
       "\n",
       ".estimator-table .parameters-table {\n",
       "    margin-left: auto !important;\n",
       "    margin-right: auto !important;\n",
       "}\n",
       "\n",
       ".estimator-table .parameters-table tr:nth-child(odd) {\n",
       "    background-color: #fff;\n",
       "}\n",
       "\n",
       ".estimator-table .parameters-table tr:nth-child(even) {\n",
       "    background-color: #f6f6f6;\n",
       "}\n",
       "\n",
       ".estimator-table .parameters-table tr:hover {\n",
       "    background-color: #e0e0e0;\n",
       "}\n",
       "\n",
       ".estimator-table table td {\n",
       "    border: 1px solid rgba(106, 105, 104, 0.232);\n",
       "}\n",
       "\n",
       ".user-set td {\n",
       "    color:rgb(255, 94, 0);\n",
       "    text-align: left;\n",
       "}\n",
       "\n",
       ".user-set td.value pre {\n",
       "    color:rgb(255, 94, 0) !important;\n",
       "    background-color: transparent !important;\n",
       "}\n",
       "\n",
       ".default td {\n",
       "    color: black;\n",
       "    text-align: left;\n",
       "}\n",
       "\n",
       ".user-set td i,\n",
       ".default td i {\n",
       "    color: black;\n",
       "}\n",
       "\n",
       ".copy-paste-icon {\n",
       "    background-image: url(data:image/svg+xml;base64,PHN2ZyB4bWxucz0iaHR0cDovL3d3dy53My5vcmcvMjAwMC9zdmciIHZpZXdCb3g9IjAgMCA0NDggNTEyIj48IS0tIUZvbnQgQXdlc29tZSBGcmVlIDYuNy4yIGJ5IEBmb250YXdlc29tZSAtIGh0dHBzOi8vZm9udGF3ZXNvbWUuY29tIExpY2Vuc2UgLSBodHRwczovL2ZvbnRhd2Vzb21lLmNvbS9saWNlbnNlL2ZyZWUgQ29weXJpZ2h0IDIwMjUgRm9udGljb25zLCBJbmMuLS0+PHBhdGggZD0iTTIwOCAwTDMzMi4xIDBjMTIuNyAwIDI0LjkgNS4xIDMzLjkgMTQuMWw2Ny45IDY3LjljOSA5IDE0LjEgMjEuMiAxNC4xIDMzLjlMNDQ4IDMzNmMwIDI2LjUtMjEuNSA0OC00OCA0OGwtMTkyIDBjLTI2LjUgMC00OC0yMS41LTQ4LTQ4bDAtMjg4YzAtMjYuNSAyMS41LTQ4IDQ4LTQ4ek00OCAxMjhsODAgMCAwIDY0LTY0IDAgMCAyNTYgMTkyIDAgMC0zMiA2NCAwIDAgNDhjMCAyNi41LTIxLjUgNDgtNDggNDhMNDggNTEyYy0yNi41IDAtNDgtMjEuNS00OC00OEwwIDE3NmMwLTI2LjUgMjEuNS00OCA0OC00OHoiLz48L3N2Zz4=);\n",
       "    background-repeat: no-repeat;\n",
       "    background-size: 14px 14px;\n",
       "    background-position: 0;\n",
       "    display: inline-block;\n",
       "    width: 14px;\n",
       "    height: 14px;\n",
       "    cursor: pointer;\n",
       "}\n",
       "</style><body><div id=\"sk-container-id-1\" class=\"sk-top-container\"><div class=\"sk-text-repr-fallback\"><pre>GradientBoostingRegressor()</pre><b>In a Jupyter environment, please rerun this cell to show the HTML representation or trust the notebook. <br />On GitHub, the HTML representation is unable to render, please try loading this page with nbviewer.org.</b></div><div class=\"sk-container\" hidden><div class=\"sk-item\"><div class=\"sk-estimator fitted sk-toggleable\"><input class=\"sk-toggleable__control sk-hidden--visually\" id=\"sk-estimator-id-1\" type=\"checkbox\" checked><label for=\"sk-estimator-id-1\" class=\"sk-toggleable__label fitted sk-toggleable__label-arrow\"><div><div>GradientBoostingRegressor</div></div><div><a class=\"sk-estimator-doc-link fitted\" rel=\"noreferrer\" target=\"_blank\" href=\"https://scikit-learn.org/1.7/modules/generated/sklearn.ensemble.GradientBoostingRegressor.html\">?<span>Documentation for GradientBoostingRegressor</span></a><span class=\"sk-estimator-doc-link fitted\">i<span>Fitted</span></span></div></label><div class=\"sk-toggleable__content fitted\" data-param-prefix=\"\">\n",
       "        <div class=\"estimator-table\">\n",
       "            <details>\n",
       "                <summary>Parameters</summary>\n",
       "                <table class=\"parameters-table\">\n",
       "                  <tbody>\n",
       "                    \n",
       "        <tr class=\"default\">\n",
       "            <td><i class=\"copy-paste-icon\"\n",
       "                 onclick=\"copyToClipboard('loss',\n",
       "                          this.parentElement.nextElementSibling)\"\n",
       "            ></i></td>\n",
       "            <td class=\"param\">loss&nbsp;</td>\n",
       "            <td class=\"value\">&#x27;squared_error&#x27;</td>\n",
       "        </tr>\n",
       "    \n",
       "\n",
       "        <tr class=\"default\">\n",
       "            <td><i class=\"copy-paste-icon\"\n",
       "                 onclick=\"copyToClipboard('learning_rate',\n",
       "                          this.parentElement.nextElementSibling)\"\n",
       "            ></i></td>\n",
       "            <td class=\"param\">learning_rate&nbsp;</td>\n",
       "            <td class=\"value\">0.1</td>\n",
       "        </tr>\n",
       "    \n",
       "\n",
       "        <tr class=\"default\">\n",
       "            <td><i class=\"copy-paste-icon\"\n",
       "                 onclick=\"copyToClipboard('n_estimators',\n",
       "                          this.parentElement.nextElementSibling)\"\n",
       "            ></i></td>\n",
       "            <td class=\"param\">n_estimators&nbsp;</td>\n",
       "            <td class=\"value\">100</td>\n",
       "        </tr>\n",
       "    \n",
       "\n",
       "        <tr class=\"default\">\n",
       "            <td><i class=\"copy-paste-icon\"\n",
       "                 onclick=\"copyToClipboard('subsample',\n",
       "                          this.parentElement.nextElementSibling)\"\n",
       "            ></i></td>\n",
       "            <td class=\"param\">subsample&nbsp;</td>\n",
       "            <td class=\"value\">1.0</td>\n",
       "        </tr>\n",
       "    \n",
       "\n",
       "        <tr class=\"default\">\n",
       "            <td><i class=\"copy-paste-icon\"\n",
       "                 onclick=\"copyToClipboard('criterion',\n",
       "                          this.parentElement.nextElementSibling)\"\n",
       "            ></i></td>\n",
       "            <td class=\"param\">criterion&nbsp;</td>\n",
       "            <td class=\"value\">&#x27;friedman_mse&#x27;</td>\n",
       "        </tr>\n",
       "    \n",
       "\n",
       "        <tr class=\"default\">\n",
       "            <td><i class=\"copy-paste-icon\"\n",
       "                 onclick=\"copyToClipboard('min_samples_split',\n",
       "                          this.parentElement.nextElementSibling)\"\n",
       "            ></i></td>\n",
       "            <td class=\"param\">min_samples_split&nbsp;</td>\n",
       "            <td class=\"value\">2</td>\n",
       "        </tr>\n",
       "    \n",
       "\n",
       "        <tr class=\"default\">\n",
       "            <td><i class=\"copy-paste-icon\"\n",
       "                 onclick=\"copyToClipboard('min_samples_leaf',\n",
       "                          this.parentElement.nextElementSibling)\"\n",
       "            ></i></td>\n",
       "            <td class=\"param\">min_samples_leaf&nbsp;</td>\n",
       "            <td class=\"value\">1</td>\n",
       "        </tr>\n",
       "    \n",
       "\n",
       "        <tr class=\"default\">\n",
       "            <td><i class=\"copy-paste-icon\"\n",
       "                 onclick=\"copyToClipboard('min_weight_fraction_leaf',\n",
       "                          this.parentElement.nextElementSibling)\"\n",
       "            ></i></td>\n",
       "            <td class=\"param\">min_weight_fraction_leaf&nbsp;</td>\n",
       "            <td class=\"value\">0.0</td>\n",
       "        </tr>\n",
       "    \n",
       "\n",
       "        <tr class=\"default\">\n",
       "            <td><i class=\"copy-paste-icon\"\n",
       "                 onclick=\"copyToClipboard('max_depth',\n",
       "                          this.parentElement.nextElementSibling)\"\n",
       "            ></i></td>\n",
       "            <td class=\"param\">max_depth&nbsp;</td>\n",
       "            <td class=\"value\">3</td>\n",
       "        </tr>\n",
       "    \n",
       "\n",
       "        <tr class=\"default\">\n",
       "            <td><i class=\"copy-paste-icon\"\n",
       "                 onclick=\"copyToClipboard('min_impurity_decrease',\n",
       "                          this.parentElement.nextElementSibling)\"\n",
       "            ></i></td>\n",
       "            <td class=\"param\">min_impurity_decrease&nbsp;</td>\n",
       "            <td class=\"value\">0.0</td>\n",
       "        </tr>\n",
       "    \n",
       "\n",
       "        <tr class=\"default\">\n",
       "            <td><i class=\"copy-paste-icon\"\n",
       "                 onclick=\"copyToClipboard('init',\n",
       "                          this.parentElement.nextElementSibling)\"\n",
       "            ></i></td>\n",
       "            <td class=\"param\">init&nbsp;</td>\n",
       "            <td class=\"value\">None</td>\n",
       "        </tr>\n",
       "    \n",
       "\n",
       "        <tr class=\"default\">\n",
       "            <td><i class=\"copy-paste-icon\"\n",
       "                 onclick=\"copyToClipboard('random_state',\n",
       "                          this.parentElement.nextElementSibling)\"\n",
       "            ></i></td>\n",
       "            <td class=\"param\">random_state&nbsp;</td>\n",
       "            <td class=\"value\">None</td>\n",
       "        </tr>\n",
       "    \n",
       "\n",
       "        <tr class=\"default\">\n",
       "            <td><i class=\"copy-paste-icon\"\n",
       "                 onclick=\"copyToClipboard('max_features',\n",
       "                          this.parentElement.nextElementSibling)\"\n",
       "            ></i></td>\n",
       "            <td class=\"param\">max_features&nbsp;</td>\n",
       "            <td class=\"value\">None</td>\n",
       "        </tr>\n",
       "    \n",
       "\n",
       "        <tr class=\"default\">\n",
       "            <td><i class=\"copy-paste-icon\"\n",
       "                 onclick=\"copyToClipboard('alpha',\n",
       "                          this.parentElement.nextElementSibling)\"\n",
       "            ></i></td>\n",
       "            <td class=\"param\">alpha&nbsp;</td>\n",
       "            <td class=\"value\">0.9</td>\n",
       "        </tr>\n",
       "    \n",
       "\n",
       "        <tr class=\"default\">\n",
       "            <td><i class=\"copy-paste-icon\"\n",
       "                 onclick=\"copyToClipboard('verbose',\n",
       "                          this.parentElement.nextElementSibling)\"\n",
       "            ></i></td>\n",
       "            <td class=\"param\">verbose&nbsp;</td>\n",
       "            <td class=\"value\">0</td>\n",
       "        </tr>\n",
       "    \n",
       "\n",
       "        <tr class=\"default\">\n",
       "            <td><i class=\"copy-paste-icon\"\n",
       "                 onclick=\"copyToClipboard('max_leaf_nodes',\n",
       "                          this.parentElement.nextElementSibling)\"\n",
       "            ></i></td>\n",
       "            <td class=\"param\">max_leaf_nodes&nbsp;</td>\n",
       "            <td class=\"value\">None</td>\n",
       "        </tr>\n",
       "    \n",
       "\n",
       "        <tr class=\"default\">\n",
       "            <td><i class=\"copy-paste-icon\"\n",
       "                 onclick=\"copyToClipboard('warm_start',\n",
       "                          this.parentElement.nextElementSibling)\"\n",
       "            ></i></td>\n",
       "            <td class=\"param\">warm_start&nbsp;</td>\n",
       "            <td class=\"value\">False</td>\n",
       "        </tr>\n",
       "    \n",
       "\n",
       "        <tr class=\"default\">\n",
       "            <td><i class=\"copy-paste-icon\"\n",
       "                 onclick=\"copyToClipboard('validation_fraction',\n",
       "                          this.parentElement.nextElementSibling)\"\n",
       "            ></i></td>\n",
       "            <td class=\"param\">validation_fraction&nbsp;</td>\n",
       "            <td class=\"value\">0.1</td>\n",
       "        </tr>\n",
       "    \n",
       "\n",
       "        <tr class=\"default\">\n",
       "            <td><i class=\"copy-paste-icon\"\n",
       "                 onclick=\"copyToClipboard('n_iter_no_change',\n",
       "                          this.parentElement.nextElementSibling)\"\n",
       "            ></i></td>\n",
       "            <td class=\"param\">n_iter_no_change&nbsp;</td>\n",
       "            <td class=\"value\">None</td>\n",
       "        </tr>\n",
       "    \n",
       "\n",
       "        <tr class=\"default\">\n",
       "            <td><i class=\"copy-paste-icon\"\n",
       "                 onclick=\"copyToClipboard('tol',\n",
       "                          this.parentElement.nextElementSibling)\"\n",
       "            ></i></td>\n",
       "            <td class=\"param\">tol&nbsp;</td>\n",
       "            <td class=\"value\">0.0001</td>\n",
       "        </tr>\n",
       "    \n",
       "\n",
       "        <tr class=\"default\">\n",
       "            <td><i class=\"copy-paste-icon\"\n",
       "                 onclick=\"copyToClipboard('ccp_alpha',\n",
       "                          this.parentElement.nextElementSibling)\"\n",
       "            ></i></td>\n",
       "            <td class=\"param\">ccp_alpha&nbsp;</td>\n",
       "            <td class=\"value\">0.0</td>\n",
       "        </tr>\n",
       "    \n",
       "                  </tbody>\n",
       "                </table>\n",
       "            </details>\n",
       "        </div>\n",
       "    </div></div></div></div></div><script>function copyToClipboard(text, element) {\n",
       "    // Get the parameter prefix from the closest toggleable content\n",
       "    const toggleableContent = element.closest('.sk-toggleable__content');\n",
       "    const paramPrefix = toggleableContent ? toggleableContent.dataset.paramPrefix : '';\n",
       "    const fullParamName = paramPrefix ? `${paramPrefix}${text}` : text;\n",
       "\n",
       "    const originalStyle = element.style;\n",
       "    const computedStyle = window.getComputedStyle(element);\n",
       "    const originalWidth = computedStyle.width;\n",
       "    const originalHTML = element.innerHTML.replace('Copied!', '');\n",
       "\n",
       "    navigator.clipboard.writeText(fullParamName)\n",
       "        .then(() => {\n",
       "            element.style.width = originalWidth;\n",
       "            element.style.color = 'green';\n",
       "            element.innerHTML = \"Copied!\";\n",
       "\n",
       "            setTimeout(() => {\n",
       "                element.innerHTML = originalHTML;\n",
       "                element.style = originalStyle;\n",
       "            }, 2000);\n",
       "        })\n",
       "        .catch(err => {\n",
       "            console.error('Failed to copy:', err);\n",
       "            element.style.color = 'red';\n",
       "            element.innerHTML = \"Failed!\";\n",
       "            setTimeout(() => {\n",
       "                element.innerHTML = originalHTML;\n",
       "                element.style = originalStyle;\n",
       "            }, 2000);\n",
       "        });\n",
       "    return false;\n",
       "}\n",
       "\n",
       "document.querySelectorAll('.fa-regular.fa-copy').forEach(function(element) {\n",
       "    const toggleableContent = element.closest('.sk-toggleable__content');\n",
       "    const paramPrefix = toggleableContent ? toggleableContent.dataset.paramPrefix : '';\n",
       "    const paramName = element.parentElement.nextElementSibling.textContent.trim();\n",
       "    const fullParamName = paramPrefix ? `${paramPrefix}${paramName}` : paramName;\n",
       "\n",
       "    element.setAttribute('title', fullParamName);\n",
       "});\n",
       "</script></body>"
      ],
      "text/plain": [
       "GradientBoostingRegressor()"
      ]
     },
     "execution_count": 159,
     "metadata": {},
     "output_type": "execute_result"
    }
   ],
   "source": [
    "from sklearn.ensemble import GradientBoostingRegressor\n",
    "\n",
    "gb_model = GradientBoostingRegressor()\n",
    "gb_model.fit(X_train, y_train)"
   ]
  },
  {
   "cell_type": "code",
   "execution_count": 160,
   "id": "11bf3268",
   "metadata": {},
   "outputs": [
    {
     "data": {
      "text/plain": [
       "['smartphone_price_model.pkl']"
      ]
     },
     "execution_count": 160,
     "metadata": {},
     "output_type": "execute_result"
    }
   ],
   "source": [
    "import joblib\n",
    "joblib.dump(gb_model, \"smartphone_price_model.pkl\")"
   ]
  },
  {
   "cell_type": "code",
   "execution_count": null,
   "id": "3ba4118d",
   "metadata": {},
   "outputs": [],
   "source": []
  }
 ],
 "metadata": {
  "kernelspec": {
   "display_name": "Python 3",
   "language": "python",
   "name": "python3"
  },
  "language_info": {
   "codemirror_mode": {
    "name": "ipython",
    "version": 3
   },
   "file_extension": ".py",
   "mimetype": "text/x-python",
   "name": "python",
   "nbconvert_exporter": "python",
   "pygments_lexer": "ipython3",
   "version": "3.13.2"
  }
 },
 "nbformat": 4,
 "nbformat_minor": 5
}
